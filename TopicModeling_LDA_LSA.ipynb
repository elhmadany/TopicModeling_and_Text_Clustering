{
 "cells": [
  {
   "cell_type": "markdown",
   "metadata": {
    "colab_type": "text",
    "id": "-6XpUGqUA3_M"
   },
   "source": [
    "# Topic Modeling\n",
    "\n",
    "Large amounts of data are collected everyday. As more information becomes available, it becomes difficult to access what we are looking for. So, we need tools and techniques to organize, search and understand vast quantities of information.\n",
    "\n",
    "Topic modelling provides us with methods to organize, understand and summarize large collections of textual information. It helps in:\n",
    "\n",
    "* Discovering hidden topical patterns that are present across the collection\n",
    "* Annotating documents according to these topics\n",
    "* Using these annotations to organize, search and summarize texts\n",
    "\n",
    "Topic modelling can be described as a method for finding a group of words (i.e topic) from a collection of documents that best represents the information in the collection. It can also be thought of as a form of text mining – a way to obtain recurring patterns of words in textual material."
   ]
  },
  {
   "cell_type": "code",
   "execution_count": 1,
   "metadata": {
    "colab": {},
    "colab_type": "code",
    "id": "kkLzP7t5A3_Q"
   },
   "outputs": [],
   "source": [
    "import pandas as pd\n",
    "import numpy as np\n",
    "import re\n",
    "\n",
    "# Gensim\n",
    "import gensim\n",
    "from gensim import corpora, models\n",
    "from gensim.utils import simple_preprocess\n",
    "from gensim.models import CoherenceModel\n",
    "from gensim.parsing.preprocessing import STOPWORDS\n",
    "from nltk.stem import WordNetLemmatizer, SnowballStemmer\n",
    "from nltk.stem.porter import *\n",
    "import numpy as np\n",
    "np.random.seed(2018)\n",
    "\n",
    "# spacy for lemmatization\n",
    "# import spacy\n",
    "# Initialize spacy 'en' model, keeping only tagger component (for efficiency)\n",
    "# python3 -m spacy download en\n",
    "# nlp = spacy.load('en', disable=['parser', 'ner'])\n",
    "\n",
    "# Plotting tools\n",
    "import pyLDAvis\n",
    "import pyLDAvis.gensim  # don't skip this\n",
    "import matplotlib.pyplot as plt\n",
    "%matplotlib inline\n",
    "\n",
    "# Enable logging for gensim - optional\n",
    "import logging\n",
    "logging.basicConfig(format='%(asctime)s : %(levelname)s : %(message)s', level=logging.ERROR)\n",
    "\n",
    "import warnings\n",
    "warnings.filterwarnings(\"ignore\",category=DeprecationWarning)"
   ]
  },
  {
   "cell_type": "code",
   "execution_count": 2,
   "metadata": {
    "colab": {},
    "colab_type": "code",
    "id": "4NJBJS4IA3_Y"
   },
   "outputs": [],
   "source": [
    "# this will slove broken link issue with nltk using ssl.\n",
    "import ssl\n",
    "try:\n",
    "    _create_unverified_https_context = ssl._create_unverified_context\n",
    "except AttributeError:\n",
    "    pass\n",
    "else:\n",
    "    ssl._create_default_https_context = _create_unverified_https_context"
   ]
  },
  {
   "cell_type": "code",
   "execution_count": 3,
   "metadata": {
    "colab": {
     "base_uri": "https://localhost:8080/",
     "height": 102
    },
    "colab_type": "code",
    "id": "e08AzJNOA3_c",
    "outputId": "d5ff3a18-b0c4-49f2-b970-70583139402c"
   },
   "outputs": [
    {
     "name": "stdout",
     "output_type": "stream",
     "text": [
      "[nltk_data] Downloading package wordnet to\n",
      "[nltk_data]     /Users/saikumaryava/nltk_data...\n",
      "[nltk_data]   Package wordnet is already up-to-date!\n",
      "[nltk_data] Downloading package stopwords to\n",
      "[nltk_data]     /Users/saikumaryava/nltk_data...\n",
      "[nltk_data]   Package stopwords is already up-to-date!\n"
     ]
    },
    {
     "data": {
      "text/plain": [
       "True"
      ]
     },
     "execution_count": 3,
     "metadata": {},
     "output_type": "execute_result"
    }
   ],
   "source": [
    "import nltk\n",
    "nltk.download('wordnet')\n",
    "nltk.download('stopwords')"
   ]
  },
  {
   "cell_type": "markdown",
   "metadata": {
    "colab_type": "text",
    "id": "6rC-9ayVA3_h"
   },
   "source": [
    "### The Data\n",
    "The data set we’ll use is a list of over one million news headlines published over a period of 15 years and can be downloaded from [Kaggle](https://www.kaggle.com/therohk/million-headlines/data#abcnews-date-text.csv)."
   ]
  },
  {
   "cell_type": "code",
   "execution_count": 4,
   "metadata": {
    "colab": {},
    "colab_type": "code",
    "id": "K6xokyWaA3_i"
   },
   "outputs": [],
   "source": [
    "data = pd.read_csv('abcnews-date-text.csv', error_bad_lines=False);\n",
    "data_text = data[['headline_text']]\n",
    "data_text['index'] = data_text.index\n",
    "documents = data_text"
   ]
  },
  {
   "cell_type": "code",
   "execution_count": 5,
   "metadata": {
    "colab": {
     "base_uri": "https://localhost:8080/",
     "height": 204
    },
    "colab_type": "code",
    "id": "x3c0NpzDA3_m",
    "outputId": "11c6da47-a3bc-4eb3-f96d-5c68cd7b4b4b"
   },
   "outputs": [
    {
     "data": {
      "text/html": [
       "<div>\n",
       "<style scoped>\n",
       "    .dataframe tbody tr th:only-of-type {\n",
       "        vertical-align: middle;\n",
       "    }\n",
       "\n",
       "    .dataframe tbody tr th {\n",
       "        vertical-align: top;\n",
       "    }\n",
       "\n",
       "    .dataframe thead th {\n",
       "        text-align: right;\n",
       "    }\n",
       "</style>\n",
       "<table border=\"1\" class=\"dataframe\">\n",
       "  <thead>\n",
       "    <tr style=\"text-align: right;\">\n",
       "      <th></th>\n",
       "      <th>headline_text</th>\n",
       "      <th>index</th>\n",
       "    </tr>\n",
       "  </thead>\n",
       "  <tbody>\n",
       "    <tr>\n",
       "      <th>0</th>\n",
       "      <td>aba decides against community broadcasting lic...</td>\n",
       "      <td>0</td>\n",
       "    </tr>\n",
       "    <tr>\n",
       "      <th>1</th>\n",
       "      <td>act fire witnesses must be aware of defamation</td>\n",
       "      <td>1</td>\n",
       "    </tr>\n",
       "    <tr>\n",
       "      <th>2</th>\n",
       "      <td>a g calls for infrastructure protection summit</td>\n",
       "      <td>2</td>\n",
       "    </tr>\n",
       "    <tr>\n",
       "      <th>3</th>\n",
       "      <td>air nz staff in aust strike for pay rise</td>\n",
       "      <td>3</td>\n",
       "    </tr>\n",
       "    <tr>\n",
       "      <th>4</th>\n",
       "      <td>air nz strike to affect australian travellers</td>\n",
       "      <td>4</td>\n",
       "    </tr>\n",
       "  </tbody>\n",
       "</table>\n",
       "</div>"
      ],
      "text/plain": [
       "                                       headline_text  index\n",
       "0  aba decides against community broadcasting lic...      0\n",
       "1     act fire witnesses must be aware of defamation      1\n",
       "2     a g calls for infrastructure protection summit      2\n",
       "3           air nz staff in aust strike for pay rise      3\n",
       "4      air nz strike to affect australian travellers      4"
      ]
     },
     "execution_count": 5,
     "metadata": {},
     "output_type": "execute_result"
    }
   ],
   "source": [
    "documents.head()"
   ]
  },
  {
   "cell_type": "code",
   "execution_count": 6,
   "metadata": {
    "colab": {
     "base_uri": "https://localhost:8080/",
     "height": 34
    },
    "colab_type": "code",
    "id": "ONvH8aQvA3_u",
    "outputId": "2243e095-396f-42cc-fe24-c5cd45347525"
   },
   "outputs": [
    {
     "data": {
      "text/plain": [
       "(1103663, 2)"
      ]
     },
     "execution_count": 6,
     "metadata": {},
     "output_type": "execute_result"
    }
   ],
   "source": [
    "documents.shape"
   ]
  },
  {
   "cell_type": "markdown",
   "metadata": {
    "colab_type": "text",
    "id": "st8F7m6xA3_y"
   },
   "source": [
    "### Data Pre-processing\n",
    "We will perform the following steps:\n",
    "\n",
    "* **Tokenization**: Split the text into sentences and the sentences into words. Lowercase the words and remove punctuation.\n",
    "* Words that have fewer than 3 characters are removed.\n",
    "* All **stopwords** are removed.\n",
    "* Words are **lemmatized** — words in third person are changed to first person and verbs in past and future tenses are changed into present.\n",
    "* Words are **stemmed** — words are reduced to their root form."
   ]
  },
  {
   "cell_type": "code",
   "execution_count": 7,
   "metadata": {
    "colab": {},
    "colab_type": "code",
    "id": "Oaxpv6tNA3_z"
   },
   "outputs": [],
   "source": [
    "# perform lemmatize and stem preprocessing steps on the data set.\n",
    "stemmer = SnowballStemmer(language='english',ignore_stopwords=True)\n",
    "def lemmatize_stemming(text):\n",
    "    return stemmer.stem(WordNetLemmatizer().lemmatize(text, pos='v'))\n",
    "def preprocess(text):\n",
    "    result = []\n",
    "    for token in gensim.utils.simple_preprocess(text):\n",
    "        if token not in gensim.parsing.preprocessing.STOPWORDS and len(token) > 3:\n",
    "            result.append(lemmatize_stemming(token))\n",
    "    return result"
   ]
  },
  {
   "cell_type": "code",
   "execution_count": 8,
   "metadata": {
    "colab": {
     "base_uri": "https://localhost:8080/",
     "height": 119
    },
    "colab_type": "code",
    "id": "r0GhUlB2A3_2",
    "outputId": "e9a08080-98ad-42c8-84b5-b3b06aeb947c"
   },
   "outputs": [
    {
     "name": "stdout",
     "output_type": "stream",
     "text": [
      "original document: \n",
      "['rain', 'helps', 'dampen', 'bushfires']\n",
      "\n",
      "\n",
      " tokenized and lemmatized document: \n",
      "['rain', 'help', 'dampen', 'bushfir']\n"
     ]
    }
   ],
   "source": [
    "# preview after preprocessing\n",
    "doc_sample = documents[documents['index'] == 4310].values[0][0]\n",
    "print('original document: ')\n",
    "words = []\n",
    "for word in doc_sample.split(' '):\n",
    "    words.append(word)\n",
    "print(words)\n",
    "print('\\n\\n tokenized and lemmatized document: ')\n",
    "print(preprocess(doc_sample))"
   ]
  },
  {
   "cell_type": "code",
   "execution_count": 9,
   "metadata": {
    "colab": {
     "base_uri": "https://localhost:8080/",
     "height": 204
    },
    "colab_type": "code",
    "id": "tt-Xk3oiA3_6",
    "outputId": "cae71891-4cb2-4724-fcce-69415c44627d"
   },
   "outputs": [
    {
     "data": {
      "text/plain": [
       "0            [decid, communiti, broadcast, licenc]\n",
       "1                               [wit, awar, defam]\n",
       "2           [call, infrastructur, protect, summit]\n",
       "3                      [staff, aust, strike, rise]\n",
       "4             [strike, affect, australian, travel]\n",
       "5               [ambiti, olsson, win, tripl, jump]\n",
       "6           [antic, delight, record, break, barca]\n",
       "7    [aussi, qualifi, stosur, wast, memphi, match]\n",
       "8            [aust, address, secur, council, iraq]\n",
       "9                         [australia, lock, timet]\n",
       "Name: headline_text, dtype: object"
      ]
     },
     "execution_count": 9,
     "metadata": {},
     "output_type": "execute_result"
    }
   ],
   "source": [
    "# Preprocess the headline text, saving the results as ‘processed_docs’\n",
    "processed_docs = documents['headline_text'].map(preprocess)\n",
    "processed_docs.head(10)"
   ]
  },
  {
   "cell_type": "markdown",
   "metadata": {
    "colab_type": "text",
    "id": "P_jWGUT2A3_-"
   },
   "source": [
    "Create a dictionary from ‘processed_docs’ containing the number of times a word appears in the training set."
   ]
  },
  {
   "cell_type": "code",
   "execution_count": 10,
   "metadata": {
    "colab": {
     "base_uri": "https://localhost:8080/",
     "height": 204
    },
    "colab_type": "code",
    "id": "uyFsR2KcA3__",
    "outputId": "a31218dc-78b0-41bc-eed9-76ede4d188d2"
   },
   "outputs": [
    {
     "name": "stdout",
     "output_type": "stream",
     "text": [
      "0 broadcast\n",
      "1 communiti\n",
      "2 decid\n",
      "3 licenc\n",
      "4 awar\n",
      "5 defam\n",
      "6 wit\n",
      "7 call\n",
      "8 infrastructur\n",
      "9 protect\n",
      "10 summit\n"
     ]
    }
   ],
   "source": [
    "dictionary = gensim.corpora.Dictionary(processed_docs)\n",
    "count = 0\n",
    "for k, v in dictionary.iteritems():\n",
    "    print(k, v)\n",
    "    count += 1\n",
    "    if count > 10:\n",
    "        break"
   ]
  },
  {
   "cell_type": "markdown",
   "metadata": {
    "colab_type": "text",
    "id": "7LkPX7kJA4AC"
   },
   "source": [
    "Filter out tokens that appear in less than 15 documents (absolute number) or\n",
    "more than 0.5 documents (fraction of total corpus size, not absolute number).\n",
    "after the above two steps, keep only the first 100000 most frequent tokens."
   ]
  },
  {
   "cell_type": "code",
   "execution_count": 11,
   "metadata": {
    "colab": {},
    "colab_type": "code",
    "id": "5Dovnp03A4AD"
   },
   "outputs": [],
   "source": [
    "dictionary.filter_extremes(no_below=15, no_above=0.5, keep_n=100000)"
   ]
  },
  {
   "cell_type": "markdown",
   "metadata": {
    "colab_type": "text",
    "id": "KzwVGdOwA4AF"
   },
   "source": [
    "### Gensim doc2bow\n",
    "\n",
    "For each document we create a dictionary reporting how many\n",
    "words and how many times those words appear. Save this to ‘bow_corpus’, then check our selected document earlier."
   ]
  },
  {
   "cell_type": "code",
   "execution_count": 12,
   "metadata": {
    "colab": {
     "base_uri": "https://localhost:8080/",
     "height": 34
    },
    "colab_type": "code",
    "id": "mgRQzt9iA4AG",
    "outputId": "e1406491-4b37-4742-e10b-08b27e686d8e"
   },
   "outputs": [
    {
     "data": {
      "text/plain": [
       "[(76, 1), (112, 1), (484, 1), (4015, 1)]"
      ]
     },
     "execution_count": 12,
     "metadata": {},
     "output_type": "execute_result"
    }
   ],
   "source": [
    "bow_corpus = [dictionary.doc2bow(doc) for doc in processed_docs]\n",
    "bow_corpus[4310]"
   ]
  },
  {
   "cell_type": "code",
   "execution_count": 13,
   "metadata": {
    "colab": {
     "base_uri": "https://localhost:8080/",
     "height": 85
    },
    "colab_type": "code",
    "id": "Fqy5CnFpA4AK",
    "outputId": "dc357144-9986-42e0-a52b-47d17fdac4f4"
   },
   "outputs": [
    {
     "name": "stdout",
     "output_type": "stream",
     "text": [
      "Word 76 (\"bushfir\") appears 1 time.\n",
      "Word 112 (\"help\") appears 1 time.\n",
      "Word 484 (\"rain\") appears 1 time.\n",
      "Word 4015 (\"dampen\") appears 1 time.\n"
     ]
    }
   ],
   "source": [
    "# Preview Bag Of Words for our sample preprocessed document.\n",
    "bow_doc_4310 = bow_corpus[4310]\n",
    "for i in range(len(bow_doc_4310)):\n",
    "    print(\"Word {} (\\\"{}\\\") appears {} time.\".format(bow_doc_4310[i][0], \n",
    "                                               dictionary[bow_doc_4310[i][0]], \n",
    "bow_doc_4310[i][1]))"
   ]
  },
  {
   "cell_type": "markdown",
   "metadata": {
    "colab_type": "text",
    "id": "otgLYitmA4AN"
   },
   "source": [
    "### TF-IDF\n",
    "Create tf-idf model object using models.TfidfModel on ‘bow_corpus’ and save it to ‘tfidf’, then apply transformation to the entire corpus and call it ‘corpus_tfidf’. Finally we preview TF-IDF scores for our first document."
   ]
  },
  {
   "cell_type": "code",
   "execution_count": 14,
   "metadata": {
    "colab": {
     "base_uri": "https://localhost:8080/",
     "height": 34
    },
    "colab_type": "code",
    "id": "KGIFVzObA4AO",
    "outputId": "5a39ed91-c0b6-4901-82cc-f7e687bab5e1"
   },
   "outputs": [
    {
     "name": "stdout",
     "output_type": "stream",
     "text": [
      "[(0, 0.5893154583024485), (1, 0.3892866165028569), (2, 0.49651921997736453), (3, 0.5046106271280878)]\n"
     ]
    }
   ],
   "source": [
    "tfidf = models.TfidfModel(bow_corpus)\n",
    "corpus_tfidf = tfidf[bow_corpus]\n",
    "for doc in corpus_tfidf:\n",
    "    print(doc)\n",
    "    break"
   ]
  },
  {
   "cell_type": "markdown",
   "metadata": {
    "colab_type": "text",
    "id": "dVdA0srZA4AR"
   },
   "source": [
    "# Building the Topic Models"
   ]
  },
  {
   "cell_type": "markdown",
   "metadata": {},
   "source": [
    "## 1. Latent Dirichlet Allocation (LDA)"
   ]
  },
  {
   "cell_type": "markdown",
   "metadata": {},
   "source": [
    "### What does LDA do?\n",
    "\n",
    "Topic modeling is a type of statistical modeling for discovering the abstract “topics” that occur in a collection of documents. Latent Dirichlet Allocation (LDA) is an example of topic model and is used to classify text in a document to a particular topic. It builds a topic per document model and words per topic model, modeled as Dirichlet distributions.\n",
    "Here we are going to apply LDA to a set of documents and split them into topics.\n",
    "\n",
    "Train the lda models using **gensim.models.LdaMulticore** and **gensim.models.wrappers.LdaMallet**"
   ]
  },
  {
   "cell_type": "markdown",
   "metadata": {},
   "source": [
    "### Compute Model Perplexity and Coherence Score\n",
    "\n",
    "Model perplexity and topic coherence provide a convenient measure to judge how good a given topic model is. In my experience, topic coherence score, in particular, has been more helpful."
   ]
  },
  {
   "cell_type": "markdown",
   "metadata": {},
   "source": [
    "### Visualize the topics-keywords\n",
    "Examine the produced topics and the associated keywords. There is no better tool than pyLDAvis package’s interactive chart and is designed to work well with jupyter notebooks."
   ]
  },
  {
   "cell_type": "markdown",
   "metadata": {
    "colab_type": "text",
    "id": "RcSw3AfRA4AR"
   },
   "source": [
    "## LDA using Bag of Words"
   ]
  },
  {
   "cell_type": "code",
   "execution_count": 15,
   "metadata": {
    "colab": {},
    "colab_type": "code",
    "id": "xrjFP1MKA4AS"
   },
   "outputs": [],
   "source": [
    "# # Build LDA model\n",
    "# lda_model = gensim.models.ldamodel.LdaModel(corpus=bow_corpus,\n",
    "#                                            id2word=dictionary,\n",
    "#                                            num_topics=10, \n",
    "#                                            random_state=100,\n",
    "#                                            update_every=1,\n",
    "#                                            chunksize=100,\n",
    "#                                            passes=10,\n",
    "#                                            alpha='auto',\n",
    "#                                            per_word_topics=True)"
   ]
  },
  {
   "cell_type": "markdown",
   "metadata": {
    "colab_type": "text",
    "id": "1bEuTS1SGEX9"
   },
   "source": [
    "### Building LdaMulticore Model"
   ]
  },
  {
   "cell_type": "code",
   "execution_count": 16,
   "metadata": {
    "colab": {},
    "colab_type": "code",
    "id": "BGFcHIC2A4AV"
   },
   "outputs": [],
   "source": [
    "# Train our lda model using gensim.models.LdaMulticore and save it to ‘lda_model’\n",
    "lda_model = gensim.models.LdaMulticore(bow_corpus, num_topics=10, id2word=dictionary, passes=2, workers=2)"
   ]
  },
  {
   "cell_type": "code",
   "execution_count": 17,
   "metadata": {
    "colab": {
     "base_uri": "https://localhost:8080/",
     "height": 377
    },
    "colab_type": "code",
    "id": "ssqiuUrNA4AZ",
    "outputId": "62670949-7e34-4ac0-dd5c-27965b3faffc"
   },
   "outputs": [
    {
     "name": "stdout",
     "output_type": "stream",
     "text": [
      "Topic: 0 \n",
      "Words: 0.022*\"warn\" + 0.021*\"market\" + 0.019*\"health\" + 0.018*\"rural\" + 0.018*\"hospit\" + 0.015*\"share\" + 0.014*\"break\" + 0.013*\"citi\" + 0.012*\"news\" + 0.011*\"street\"\n",
      "Topic: 1 \n",
      "Words: 0.046*\"australian\" + 0.028*\"melbourn\" + 0.025*\"adelaid\" + 0.020*\"test\" + 0.019*\"women\" + 0.017*\"tasmanian\" + 0.016*\"open\" + 0.016*\"win\" + 0.011*\"vote\" + 0.011*\"darwin\"\n",
      "Topic: 2 \n",
      "Words: 0.021*\"chang\" + 0.016*\"miss\" + 0.016*\"tasmania\" + 0.015*\"help\" + 0.014*\"council\" + 0.013*\"farmer\" + 0.012*\"fund\" + 0.012*\"fall\" + 0.012*\"busi\" + 0.010*\"search\"\n",
      "Topic: 3 \n",
      "Words: 0.029*\"govern\" + 0.021*\"south\" + 0.016*\"countri\" + 0.016*\"north\" + 0.014*\"hour\" + 0.013*\"power\" + 0.013*\"west\" + 0.013*\"indigen\" + 0.013*\"turnbul\" + 0.011*\"victoria\"\n",
      "Topic: 4 \n",
      "Words: 0.020*\"die\" + 0.019*\"live\" + 0.018*\"coast\" + 0.018*\"donald\" + 0.014*\"gold\" + 0.014*\"lose\" + 0.012*\"park\" + 0.012*\"crash\" + 0.012*\"royal\" + 0.011*\"beat\"\n",
      "Topic: 5 \n",
      "Words: 0.022*\"school\" + 0.017*\"sydney\" + 0.015*\"time\" + 0.015*\"record\" + 0.013*\"elect\" + 0.013*\"train\" + 0.012*\"call\" + 0.011*\"say\" + 0.011*\"polit\" + 0.011*\"million\"\n",
      "Topic: 6 \n",
      "Words: 0.040*\"polic\" + 0.029*\"charg\" + 0.028*\"court\" + 0.021*\"murder\" + 0.018*\"face\" + 0.017*\"death\" + 0.016*\"alleg\" + 0.015*\"woman\" + 0.015*\"interview\" + 0.015*\"jail\"\n",
      "Topic: 7 \n",
      "Words: 0.042*\"australia\" + 0.034*\"trump\" + 0.020*\"world\" + 0.016*\"china\" + 0.014*\"rise\" + 0.012*\"leagu\" + 0.012*\"final\" + 0.012*\"take\" + 0.010*\"lead\" + 0.010*\"talk\"\n",
      "Topic: 8 \n",
      "Words: 0.039*\"year\" + 0.032*\"queensland\" + 0.024*\"hous\" + 0.023*\"perth\" + 0.023*\"canberra\" + 0.015*\"investig\" + 0.014*\"children\" + 0.013*\"australia\" + 0.012*\"budget\" + 0.011*\"game\"\n",
      "Topic: 9 \n",
      "Words: 0.024*\"home\" + 0.020*\"kill\" + 0.019*\"attack\" + 0.016*\"claim\" + 0.016*\"island\" + 0.014*\"road\" + 0.014*\"protest\" + 0.014*\"abus\" + 0.014*\"driver\" + 0.013*\"guilti\"\n"
     ]
    }
   ],
   "source": [
    "# For each topic, we will explore the words occuring in that topic and its relative weight.\n",
    "for idx, topic in lda_model.print_topics(-1):\n",
    "    print('Topic: {} \\nWords: {}'.format(idx, topic))"
   ]
  },
  {
   "cell_type": "code",
   "execution_count": 18,
   "metadata": {},
   "outputs": [
    {
     "name": "stdout",
     "output_type": "stream",
     "text": [
      "\n",
      "Perplexity:  -8.83420727940578\n",
      "\n",
      "Coherence Score:  0.18375082231251125\n"
     ]
    }
   ],
   "source": [
    "# Compute Perplexity\n",
    "print('\\nPerplexity: ', lda_model.log_perplexity(bow_corpus))  # a measure of how good the model is. lower the better.\n",
    "\n",
    "# Compute Coherence Score\n",
    "coherence_model_lda = CoherenceModel(model=lda_model, texts=processed_docs, dictionary=dictionary, coherence='c_v')\n",
    "coherence_lda = coherence_model_lda.get_coherence()\n",
    "print('\\nCoherence Score: ', coherence_lda)"
   ]
  },
  {
   "cell_type": "code",
   "execution_count": 19,
   "metadata": {},
   "outputs": [
    {
     "name": "stderr",
     "output_type": "stream",
     "text": [
      "/Library/Frameworks/Python.framework/Versions/3.7/lib/python3.7/site-packages/pyLDAvis/_prepare.py:257: FutureWarning: Sorting because non-concatenation axis is not aligned. A future version\n",
      "of pandas will change to not sort by default.\n",
      "\n",
      "To accept the future behavior, pass 'sort=False'.\n",
      "\n",
      "To retain the current behavior and silence the warning, pass 'sort=True'.\n",
      "\n",
      "  return pd.concat([default_term_info] + list(topic_dfs))\n"
     ]
    },
    {
     "data": {
      "text/html": [
       "\n",
       "<link rel=\"stylesheet\" type=\"text/css\" href=\"https://cdn.rawgit.com/bmabey/pyLDAvis/files/ldavis.v1.0.0.css\">\n",
       "\n",
       "\n",
       "<div id=\"ldavis_el79055948547689263352869\"></div>\n",
       "<script type=\"text/javascript\">\n",
       "\n",
       "var ldavis_el79055948547689263352869_data = {\"mdsDat\": {\"x\": [0.19680640508911498, -0.26769419137617473, -0.24441933892316928, 0.08282149343560156, 0.0498818468479238, -0.11836993016898088, -0.1234400555032152, 0.16345271222951566, 0.16006617779002708, 0.10089488057935808], \"y\": [-0.28910526396156755, -0.014603260987038093, 0.03983920931098047, 0.2523745355893902, -0.22836994833744537, -0.023184178362271428, -0.060494191557573955, 0.06536690162648003, 0.10597607394710255, 0.15220012273194305], \"topics\": [1, 2, 3, 4, 5, 6, 7, 8, 9, 10], \"cluster\": [1, 1, 1, 1, 1, 1, 1, 1, 1, 1], \"Freq\": [11.546266555786133, 11.530755043029785, 11.35389518737793, 10.298702239990234, 9.775862693786621, 9.76547622680664, 9.426514625549316, 8.984341621398926, 8.806295394897461, 8.511887550354004]}, \"tinfo\": {\"Category\": [\"Default\", \"Default\", \"Default\", \"Default\", \"Default\", \"Default\", \"Default\", \"Default\", \"Default\", \"Default\", \"Default\", \"Default\", \"Default\", \"Default\", \"Default\", \"Default\", \"Default\", \"Default\", \"Default\", \"Default\", \"Default\", \"Default\", \"Default\", \"Default\", \"Default\", \"Default\", \"Default\", \"Default\", \"Default\", \"Default\", \"Topic1\", \"Topic1\", \"Topic1\", \"Topic1\", \"Topic1\", \"Topic1\", \"Topic1\", \"Topic1\", \"Topic1\", \"Topic1\", \"Topic1\", \"Topic1\", \"Topic1\", \"Topic1\", \"Topic1\", \"Topic1\", \"Topic1\", \"Topic1\", \"Topic1\", \"Topic1\", \"Topic1\", \"Topic1\", \"Topic1\", \"Topic1\", \"Topic1\", \"Topic1\", \"Topic1\", \"Topic1\", \"Topic1\", \"Topic1\", \"Topic1\", \"Topic1\", \"Topic1\", \"Topic1\", \"Topic1\", \"Topic1\", \"Topic1\", \"Topic1\", \"Topic2\", \"Topic2\", \"Topic2\", \"Topic2\", \"Topic2\", \"Topic2\", \"Topic2\", \"Topic2\", \"Topic2\", \"Topic2\", \"Topic2\", \"Topic2\", \"Topic2\", \"Topic2\", \"Topic2\", \"Topic2\", \"Topic2\", \"Topic2\", \"Topic2\", \"Topic2\", \"Topic2\", \"Topic2\", \"Topic2\", \"Topic2\", \"Topic2\", \"Topic2\", \"Topic2\", \"Topic2\", \"Topic2\", \"Topic2\", \"Topic2\", \"Topic2\", \"Topic2\", \"Topic2\", \"Topic2\", \"Topic2\", \"Topic2\", \"Topic2\", \"Topic2\", \"Topic2\", \"Topic2\", \"Topic3\", \"Topic3\", \"Topic3\", \"Topic3\", \"Topic3\", \"Topic3\", \"Topic3\", \"Topic3\", \"Topic3\", \"Topic3\", \"Topic3\", \"Topic3\", \"Topic3\", \"Topic3\", \"Topic3\", \"Topic3\", \"Topic3\", \"Topic3\", \"Topic3\", \"Topic3\", \"Topic3\", \"Topic3\", \"Topic3\", \"Topic3\", \"Topic3\", \"Topic3\", \"Topic3\", \"Topic3\", \"Topic3\", \"Topic3\", \"Topic3\", \"Topic3\", \"Topic3\", \"Topic3\", \"Topic3\", \"Topic3\", \"Topic3\", \"Topic4\", \"Topic4\", \"Topic4\", \"Topic4\", \"Topic4\", \"Topic4\", \"Topic4\", \"Topic4\", \"Topic4\", \"Topic4\", \"Topic4\", \"Topic4\", \"Topic4\", \"Topic4\", \"Topic4\", \"Topic4\", \"Topic4\", \"Topic4\", \"Topic4\", \"Topic4\", \"Topic4\", \"Topic4\", \"Topic4\", \"Topic4\", \"Topic4\", \"Topic4\", \"Topic4\", \"Topic4\", \"Topic4\", \"Topic4\", \"Topic4\", \"Topic4\", \"Topic4\", \"Topic4\", \"Topic4\", \"Topic4\", \"Topic4\", \"Topic4\", \"Topic4\", \"Topic4\", \"Topic5\", \"Topic5\", \"Topic5\", \"Topic5\", \"Topic5\", \"Topic5\", \"Topic5\", \"Topic5\", \"Topic5\", \"Topic5\", \"Topic5\", \"Topic5\", \"Topic5\", \"Topic5\", \"Topic5\", \"Topic5\", \"Topic5\", \"Topic5\", \"Topic5\", \"Topic5\", \"Topic5\", \"Topic5\", \"Topic5\", \"Topic5\", \"Topic5\", \"Topic5\", \"Topic5\", \"Topic5\", \"Topic5\", \"Topic5\", \"Topic5\", \"Topic5\", \"Topic5\", \"Topic5\", \"Topic5\", \"Topic5\", \"Topic5\", \"Topic5\", \"Topic5\", \"Topic5\", \"Topic5\", \"Topic5\", \"Topic5\", \"Topic5\", \"Topic6\", \"Topic6\", \"Topic6\", \"Topic6\", \"Topic6\", \"Topic6\", \"Topic6\", \"Topic6\", \"Topic6\", \"Topic6\", \"Topic6\", \"Topic6\", \"Topic6\", \"Topic6\", \"Topic6\", \"Topic6\", \"Topic6\", \"Topic6\", \"Topic6\", \"Topic6\", \"Topic6\", \"Topic6\", \"Topic6\", \"Topic6\", \"Topic6\", \"Topic6\", \"Topic6\", \"Topic6\", \"Topic6\", \"Topic6\", \"Topic6\", \"Topic6\", \"Topic6\", \"Topic6\", \"Topic6\", \"Topic6\", \"Topic6\", \"Topic6\", \"Topic7\", \"Topic7\", \"Topic7\", \"Topic7\", \"Topic7\", \"Topic7\", \"Topic7\", \"Topic7\", \"Topic7\", \"Topic7\", \"Topic7\", \"Topic7\", \"Topic7\", \"Topic7\", \"Topic7\", \"Topic7\", \"Topic7\", \"Topic7\", \"Topic7\", \"Topic7\", \"Topic7\", \"Topic7\", \"Topic7\", \"Topic7\", \"Topic7\", \"Topic7\", \"Topic7\", \"Topic7\", \"Topic7\", \"Topic7\", \"Topic7\", \"Topic7\", \"Topic7\", \"Topic7\", \"Topic7\", \"Topic7\", \"Topic7\", \"Topic7\", \"Topic8\", \"Topic8\", \"Topic8\", \"Topic8\", \"Topic8\", \"Topic8\", \"Topic8\", \"Topic8\", \"Topic8\", \"Topic8\", \"Topic8\", \"Topic8\", \"Topic8\", \"Topic8\", \"Topic8\", \"Topic8\", \"Topic8\", \"Topic8\", \"Topic8\", \"Topic8\", \"Topic8\", \"Topic8\", \"Topic8\", \"Topic8\", \"Topic8\", \"Topic8\", \"Topic8\", \"Topic8\", \"Topic8\", \"Topic8\", \"Topic8\", \"Topic8\", \"Topic8\", \"Topic8\", \"Topic8\", \"Topic8\", \"Topic8\", \"Topic9\", \"Topic9\", \"Topic9\", \"Topic9\", \"Topic9\", \"Topic9\", \"Topic9\", \"Topic9\", \"Topic9\", \"Topic9\", \"Topic9\", \"Topic9\", \"Topic9\", \"Topic9\", \"Topic9\", \"Topic9\", \"Topic9\", \"Topic9\", \"Topic9\", \"Topic9\", \"Topic9\", \"Topic9\", \"Topic9\", \"Topic9\", \"Topic9\", \"Topic9\", \"Topic9\", \"Topic9\", \"Topic9\", \"Topic9\", \"Topic9\", \"Topic9\", \"Topic9\", \"Topic9\", \"Topic9\", \"Topic10\", \"Topic10\", \"Topic10\", \"Topic10\", \"Topic10\", \"Topic10\", \"Topic10\", \"Topic10\", \"Topic10\", \"Topic10\", \"Topic10\", \"Topic10\", \"Topic10\", \"Topic10\", \"Topic10\", \"Topic10\", \"Topic10\", \"Topic10\", \"Topic10\", \"Topic10\", \"Topic10\", \"Topic10\", \"Topic10\", \"Topic10\", \"Topic10\", \"Topic10\", \"Topic10\", \"Topic10\", \"Topic10\", \"Topic10\", \"Topic10\", \"Topic10\", \"Topic10\", \"Topic10\"], \"Freq\": [21350.0, 26732.0, 28355.0, 16346.0, 16990.0, 16361.0, 16457.0, 15591.0, 13170.0, 12465.0, 11569.0, 11010.0, 12027.0, 11993.0, 11842.0, 10134.0, 10474.0, 9625.0, 10029.0, 10081.0, 9495.0, 13954.0, 12446.0, 12279.0, 10039.0, 8868.0, 8782.0, 8959.0, 15808.0, 8531.0, 16456.595703125, 15591.017578125, 12026.66796875, 10039.15234375, 8931.744140625, 8460.03125, 8431.369140625, 8009.67578125, 7974.8349609375, 7503.76171875, 7029.88427734375, 6635.84521484375, 5563.267578125, 5533.837890625, 5469.609375, 4986.22802734375, 3995.548095703125, 3939.63037109375, 3791.930908203125, 3724.721923828125, 3684.626708984375, 3679.913330078125, 3651.62060546875, 3940.54638671875, 2976.6806640625, 2696.08837890625, 2614.308837890625, 2562.554931640625, 2436.7880859375, 2353.482666015625, 22503.525390625, 8760.4150390625, 9453.5107421875, 4470.8896484375, 4012.73681640625, 4768.0595703125, 4936.4248046875, 4671.92578125, 11992.7861328125, 9324.052734375, 8813.0439453125, 7141.99609375, 6760.21826171875, 6613.34765625, 5841.11279296875, 5761.08251953125, 5447.88427734375, 5198.3388671875, 4795.63720703125, 4422.361328125, 4356.10986328125, 4344.95458984375, 4278.8603515625, 3794.044921875, 3770.963134765625, 3756.366455078125, 3665.715576171875, 3445.494140625, 3425.986083984375, 3064.798583984375, 3051.404296875, 2977.748291015625, 2935.451904296875, 2926.2626953125, 2859.94775390625, 2795.97119140625, 2756.958740234375, 2754.440185546875, 8356.1572265625, 8128.1806640625, 6811.2958984375, 4714.48193359375, 5015.828125, 4160.111328125, 5771.69970703125, 4782.48046875, 4082.608642578125, 5689.75830078125, 3645.280517578125, 16360.7861328125, 11841.8154296875, 9127.5458984375, 7540.2158203125, 7290.703125, 7250.017578125, 7089.7744140625, 7331.74267578125, 6032.22412109375, 5016.34912109375, 4950.7900390625, 4699.13623046875, 4661.86767578125, 4650.0205078125, 4644.533203125, 4524.01611328125, 3899.927490234375, 3819.609619140625, 3797.10791015625, 3818.116455078125, 3703.781005859375, 3635.451416015625, 3366.47265625, 3326.523193359375, 3313.2783203125, 3242.487548828125, 3229.00244140625, 3181.55517578125, 3013.60546875, 2950.547119140625, 8866.587890625, 5045.12939453125, 3763.31494140625, 4963.3720703125, 5314.82763671875, 3512.654541015625, 3377.809814453125, 16989.521484375, 7931.689453125, 7136.82373046875, 5999.2626953125, 5901.2880859375, 5087.798828125, 5047.8974609375, 4612.3046875, 4147.8154296875, 3519.571044921875, 3512.076171875, 3493.795166015625, 3384.85400390625, 3347.051025390625, 3314.80908203125, 3255.9775390625, 3145.009765625, 3096.26171875, 3072.594970703125, 2936.465576171875, 2801.78271484375, 2761.95703125, 2747.501220703125, 2718.857421875, 2665.53564453125, 2594.718505859375, 2427.00390625, 2422.910400390625, 2397.093994140625, 2363.842529296875, 3807.5986328125, 21228.705078125, 10078.59375, 5972.72216796875, 4382.3251953125, 3242.94482421875, 3176.491455078125, 3600.001953125, 3317.207275390625, 4425.91162109375, 11568.3818359375, 7579.52587890625, 6851.4130859375, 6852.224609375, 6755.5849609375, 6523.7822265625, 6337.16650390625, 6026.005859375, 4689.14208984375, 4158.24951171875, 4160.11669921875, 3807.91455078125, 3784.407958984375, 3644.422119140625, 3509.8447265625, 3302.139892578125, 3297.5009765625, 2938.710693359375, 2887.606689453125, 2833.178955078125, 2802.63671875, 2750.310791015625, 2550.52978515625, 2365.15771484375, 2294.266357421875, 2237.26806640625, 2180.888916015625, 2113.367919921875, 2103.258544921875, 2093.946044921875, 7715.568359375, 3285.988525390625, 2539.0458984375, 3724.387939453125, 9587.0234375, 6310.08447265625, 5169.56494140625, 9016.978515625, 5618.9072265625, 4716.4052734375, 5948.94921875, 3772.482177734375, 5851.34521484375, 3159.580810546875, 10473.4228515625, 10080.1875, 8749.7548828125, 8695.73828125, 8958.8818359375, 7122.6611328125, 6906.7958984375, 6046.9755859375, 5658.14453125, 4332.9365234375, 4185.68017578125, 4174.84326171875, 4020.872802734375, 3909.8759765625, 3867.242431640625, 3763.755126953125, 3702.0703125, 3604.26611328125, 3478.508544921875, 3355.271484375, 3057.404541015625, 3034.700439453125, 2893.09326171875, 2742.70068359375, 2611.914306640625, 2572.18798828125, 2571.147216796875, 2562.48046875, 2549.1630859375, 2512.0859375, 5047.22509765625, 2858.8544921875, 3591.1181640625, 3285.2333984375, 4091.46630859375, 3918.801513671875, 3009.8720703125, 2885.32421875, 10028.279296875, 6800.3916015625, 6778.439453125, 5831.79296875, 5239.77294921875, 5127.57373046875, 5006.65283203125, 4924.39404296875, 4917.18212890625, 4706.0810546875, 4687.78759765625, 4472.07568359375, 4105.59716796875, 3947.408935546875, 3508.818115234375, 3382.537353515625, 3205.9052734375, 3175.866455078125, 2941.4716796875, 2922.639892578125, 2727.89501953125, 2647.382080078125, 2452.755615234375, 2383.37646484375, 2318.55224609375, 2273.2451171875, 2171.00439453125, 2107.161865234375, 2091.09033203125, 2037.0928955078125, 3722.182373046875, 4874.54150390625, 7771.47607421875, 5464.65380859375, 5878.95458984375, 2861.4501953125, 5246.37939453125, 3076.09814453125, 11010.0322265625, 8867.9267578125, 7372.06298828125, 7200.58935546875, 4896.27197265625, 4742.078125, 3755.223876953125, 3735.445068359375, 3511.358642578125, 3387.991943359375, 3375.608154296875, 3350.158447265625, 3286.550537109375, 3126.200927734375, 2971.079345703125, 2786.0390625, 2773.825927734375, 2705.601806640625, 2670.429443359375, 2633.50390625, 2503.421875, 2475.479736328125, 2457.929443359375, 2388.73388671875, 2296.302490234375, 2239.13427734375, 2201.36376953125, 2136.544677734375, 2100.44384765625, 2060.314208984375, 8520.3544921875, 12289.794921875, 20459.45703125, 7244.408203125, 3803.627685546875, 2691.76708984375, 2508.664306640625, 8781.3046875, 8317.4833984375, 7570.16015625, 6264.021484375, 5891.2734375, 5317.8955078125, 5001.1875, 4875.62939453125, 4297.53662109375, 4180.63623046875, 4159.64453125, 4147.189453125, 4107.61572265625, 3517.055908203125, 3472.572998046875, 3423.93994140625, 3236.72998046875, 3101.84814453125, 3081.6005859375, 3078.122314453125, 3016.90234375, 2825.915771484375, 2796.797607421875, 2609.989013671875, 2601.003662109375, 2573.218994140625, 2456.65625, 2438.0107421875, 2320.730224609375, 2302.27978515625, 7647.0380859375, 3771.123046875, 5031.71142578125, 4550.13818359375, 3364.73046875, 16345.3076171875, 13170.1630859375, 10133.6630859375, 9625.1259765625, 9495.0703125, 6109.9521484375, 6019.40380859375, 4977.67431640625, 4671.375, 4653.46728515625, 4267.072265625, 4029.607177734375, 3786.642333984375, 3644.960205078125, 3594.62939453125, 3545.6357421875, 3482.44873046875, 3395.49169921875, 3348.50634765625, 3325.358154296875, 3182.285888671875, 3147.19873046875, 2767.32568359375, 2749.396240234375, 2626.391845703125, 2446.468505859375, 2339.5517578125, 2313.6884765625, 2002.5361328125, 1987.76904296875, 4216.03662109375, 3053.981689453125, 5503.13671875, 2726.130615234375], \"Term\": [\"australian\", \"australia\", \"polic\", \"year\", \"trump\", \"govern\", \"charg\", \"court\", \"queensland\", \"melbourn\", \"home\", \"adelaid\", \"murder\", \"chang\", \"south\", \"hous\", \"warn\", \"perth\", \"school\", \"market\", \"canberra\", \"attack\", \"world\", \"kill\", \"face\", \"test\", \"die\", \"health\", \"sydney\", \"women\", \"charg\", \"court\", \"murder\", \"face\", \"alleg\", \"interview\", \"jail\", \"accus\", \"shoot\", \"drug\", \"arrest\", \"trial\", \"sentenc\", \"assault\", \"case\", \"offic\", \"babi\", \"teen\", \"mother\", \"appeal\", \"drive\", \"stab\", \"cut\", \"girl\", \"grand\", \"teenag\", \"fin\", \"toni\", \"hope\", \"hunt\", \"polic\", \"woman\", \"death\", \"tell\", \"victorian\", \"peopl\", \"attack\", \"sydney\", \"chang\", \"miss\", \"tasmania\", \"farmer\", \"fall\", \"busi\", \"search\", \"green\", \"find\", \"drum\", \"premier\", \"weather\", \"local\", \"hunter\", \"cost\", \"coal\", \"climat\", \"light\", \"offer\", \"islam\", \"legal\", \"asylum\", \"polici\", \"social\", \"resign\", \"grow\", \"result\", \"drought\", \"seeker\", \"scott\", \"help\", \"council\", \"fund\", \"group\", \"feder\", \"review\", \"state\", \"price\", \"support\", \"say\", \"show\", \"govern\", \"south\", \"countri\", \"hour\", \"west\", \"indigen\", \"turnbul\", \"power\", \"victoria\", \"push\", \"port\", \"resid\", \"announc\", \"korea\", \"liber\", \"storm\", \"trade\", \"job\", \"mine\", \"food\", \"malcolm\", \"boost\", \"northern\", \"stop\", \"chief\", \"central\", \"abbott\", \"bring\", \"ash\", \"rain\", \"north\", \"labor\", \"region\", \"plan\", \"say\", \"parti\", \"station\", \"trump\", \"china\", \"rise\", \"leagu\", \"take\", \"lead\", \"talk\", \"john\", \"presid\", \"rugbi\", \"hit\", \"rat\", \"target\", \"newcastl\", \"debat\", \"sign\", \"terror\", \"tour\", \"come\", \"club\", \"amid\", \"andrew\", \"expert\", \"syria\", \"aussi\", \"jam\", \"best\", \"disabl\", \"rate\", \"hand\", \"second\", \"australia\", \"world\", \"final\", \"deal\", \"race\", \"season\", \"meet\", \"leader\", \"say\", \"home\", \"island\", \"protest\", \"road\", \"abus\", \"driver\", \"guilti\", \"farm\", \"christma\", \"plead\", \"michael\", \"protect\", \"propos\", \"bushfir\", \"safeti\", \"reject\", \"intern\", \"juli\", \"univers\", \"burn\", \"father\", \"ralli\", \"wind\", \"solar\", \"comment\", \"thursday\", \"drone\", \"closur\", \"global\", \"pay\", \"claim\", \"threaten\", \"send\", \"anti\", \"kill\", \"high\", \"return\", \"attack\", \"child\", \"student\", \"crash\", \"victim\", \"polic\", \"union\", \"warn\", \"market\", \"rural\", \"hospit\", \"health\", \"share\", \"break\", \"citi\", \"news\", \"hill\", \"dollar\", \"risk\", \"speak\", \"wall\", \"doctor\", \"challeng\", \"issu\", \"mental\", \"threat\", \"great\", \"retir\", \"kid\", \"despit\", \"patient\", \"staff\", \"outback\", \"grandstand\", \"month\", \"anim\", \"boat\", \"street\", \"fish\", \"close\", \"look\", \"water\", \"report\", \"worker\", \"minist\", \"school\", \"time\", \"record\", \"train\", \"polit\", \"million\", \"senat\", \"prison\", \"hear\", \"hobart\", \"violenc\", \"program\", \"media\", \"inquiri\", \"go\", \"town\", \"inquest\", \"domest\", \"begin\", \"post\", \"sell\", \"mount\", \"boss\", \"offici\", \"promis\", \"order\", \"novemb\", \"valley\", \"step\", \"wast\", \"question\", \"work\", \"sydney\", \"call\", \"elect\", \"western\", \"say\", \"centr\", \"adelaid\", \"test\", \"tasmanian\", \"win\", \"vote\", \"darwin\", \"law\", \"river\", \"festiv\", \"chines\", \"link\", \"team\", \"india\", \"suspect\", \"award\", \"bomb\", \"crime\", \"murray\", \"airport\", \"thousand\", \"fire\", \"zealand\", \"film\", \"march\", \"draw\", \"footag\", \"titl\", \"fan\", \"honour\", \"french\", \"women\", \"melbourn\", \"australian\", \"open\", \"dead\", \"kill\", \"brisban\", \"die\", \"live\", \"donald\", \"gold\", \"lose\", \"park\", \"royal\", \"beat\", \"head\", \"marriag\", \"make\", \"commiss\", \"save\", \"david\", \"cricket\", \"battl\", \"right\", \"peter\", \"truck\", \"stori\", \"cyclon\", \"histori\", \"black\", \"join\", \"visit\", \"smith\", \"confirm\", \"plane\", \"music\", \"human\", \"coast\", \"week\", \"crash\", \"nation\", \"sydney\", \"year\", \"queensland\", \"hous\", \"perth\", \"canberra\", \"investig\", \"children\", \"budget\", \"game\", \"releas\", \"young\", \"get\", \"reveal\", \"shark\", \"play\", \"celebr\", \"mark\", \"compani\", \"sexual\", \"video\", \"player\", \"sport\", \"rais\", \"white\", \"name\", \"demand\", \"know\", \"good\", \"approv\", \"struggl\", \"life\", \"refuge\", \"australia\", \"unit\"], \"Total\": [21350.0, 26732.0, 28355.0, 16346.0, 16990.0, 16361.0, 16457.0, 15591.0, 13170.0, 12465.0, 11569.0, 11010.0, 12027.0, 11993.0, 11842.0, 10134.0, 10474.0, 9625.0, 10029.0, 10081.0, 9495.0, 13954.0, 12446.0, 12279.0, 10039.0, 8868.0, 8782.0, 8959.0, 15808.0, 8531.0, 16457.4140625, 15591.8369140625, 12027.4873046875, 10039.9716796875, 8932.5634765625, 8460.8505859375, 8432.1884765625, 8010.49560546875, 7975.65478515625, 7504.58154296875, 7030.7060546875, 6636.72509765625, 5564.08740234375, 5534.65771484375, 5470.43603515625, 4987.0478515625, 3996.36767578125, 3940.449951171875, 3792.75048828125, 3725.54150390625, 3685.4462890625, 3680.73291015625, 3652.440185546875, 3941.54833984375, 2977.500244140625, 2696.907958984375, 2615.12841796875, 2563.37451171875, 2437.607666015625, 2354.30224609375, 28355.5859375, 10258.6943359375, 13184.794921875, 5697.09130859375, 4918.16357421875, 6572.41064453125, 13954.119140625, 15808.77734375, 11993.591796875, 9324.8583984375, 8813.849609375, 7142.80322265625, 6761.025390625, 6614.15478515625, 5841.919921875, 5761.8896484375, 5448.7119140625, 5199.1455078125, 4796.4443359375, 4423.16845703125, 4356.9169921875, 4345.76171875, 4279.66748046875, 3794.8515625, 3771.769775390625, 3757.173095703125, 3666.522216796875, 3446.30078125, 3426.792724609375, 3065.605224609375, 3052.2109375, 2978.554931640625, 2936.258544921875, 2927.0693359375, 2860.75439453125, 2796.77783203125, 2757.765380859375, 2755.246826171875, 10453.751953125, 10354.2001953125, 9235.80859375, 5724.40283203125, 6582.4892578125, 5215.6513671875, 9400.8408203125, 7329.2041015625, 6474.2353515625, 28554.81640625, 5941.83203125, 16361.6044921875, 11842.6337890625, 9128.3642578125, 7541.03466796875, 7291.5224609375, 7250.8369140625, 7090.59375, 7332.59423828125, 6033.04345703125, 5017.16845703125, 4951.609375, 4699.95556640625, 4662.68701171875, 4650.83984375, 4645.3525390625, 4524.837890625, 3900.746337890625, 3820.4287109375, 3797.927001953125, 3818.940673828125, 3704.60009765625, 3636.270263671875, 3367.291748046875, 3327.34228515625, 3314.097412109375, 3243.306640625, 3229.821533203125, 3182.374267578125, 3014.424560546875, 2951.3662109375, 10946.904296875, 7122.21044921875, 5045.16357421875, 12887.8095703125, 28554.81640625, 4711.7548828125, 4280.4765625, 16990.34375, 7932.5126953125, 7137.64697265625, 6000.0859375, 5902.111328125, 5088.6220703125, 5048.7216796875, 4613.1279296875, 4148.638671875, 3520.393798828125, 3512.89892578125, 3494.617919921875, 3385.6767578125, 3347.873779296875, 3315.6318359375, 3256.80029296875, 3145.832763671875, 3097.084716796875, 3073.417724609375, 2937.28857421875, 2802.60546875, 2762.77978515625, 2748.323974609375, 2719.68017578125, 2666.3583984375, 2595.541259765625, 2427.82763671875, 2423.733154296875, 2397.916748046875, 2364.665283203125, 3810.2900390625, 26732.595703125, 12446.6435546875, 8188.4609375, 6217.2001953125, 4217.16455078125, 4133.740234375, 5847.22314453125, 4875.26123046875, 28554.81640625, 11569.1865234375, 7580.33154296875, 6852.21875, 6853.0302734375, 6756.390625, 6524.587890625, 6337.97216796875, 6026.8115234375, 4689.94775390625, 4159.0546875, 4160.92236328125, 3808.719970703125, 3785.21337890625, 3645.2275390625, 3510.650146484375, 3302.9453125, 3298.306396484375, 2939.51611328125, 2888.412109375, 2833.984375, 2803.442138671875, 2751.1162109375, 2551.335205078125, 2365.963134765625, 2295.07177734375, 2238.073486328125, 2181.6943359375, 2114.17333984375, 2104.06396484375, 2094.75146484375, 7746.31005859375, 3288.726806640625, 2540.990966796875, 3778.5537109375, 12279.509765625, 7970.47265625, 6471.33203125, 13954.119140625, 8016.59521484375, 6646.08544921875, 10981.3798828125, 5579.9814453125, 28355.5859375, 4193.6005859375, 10474.236328125, 10081.0048828125, 8750.5693359375, 8696.5517578125, 8959.7353515625, 7123.48388671875, 6907.60986328125, 6047.78955078125, 5658.95849609375, 4333.75048828125, 4186.494140625, 4175.6572265625, 4021.686767578125, 3910.68994140625, 3868.056396484375, 3764.569091796875, 3702.885009765625, 3605.080078125, 3479.322509765625, 3356.08544921875, 3058.218505859375, 3035.514404296875, 2893.9072265625, 2743.5146484375, 2612.728271484375, 2573.001953125, 2571.9609375, 2563.29443359375, 2549.97705078125, 2512.89990234375, 5059.83642578125, 2860.131103515625, 5353.80419921875, 4409.58837890625, 7504.6787109375, 12296.396484375, 6385.3486328125, 6919.10595703125, 10029.099609375, 6801.21240234375, 6779.26025390625, 5832.61376953125, 5240.59375, 5128.39453125, 5007.4736328125, 4925.21484375, 4918.0029296875, 4706.90185546875, 4688.6083984375, 4472.896484375, 4106.4189453125, 3948.229248046875, 3509.638427734375, 3383.362548828125, 3206.7255859375, 3176.686767578125, 2942.2919921875, 2923.460205078125, 2728.71533203125, 2648.202392578125, 2453.575927734375, 2384.19677734375, 2319.373046875, 2274.0654296875, 2171.82470703125, 2107.982177734375, 2091.91064453125, 2037.913330078125, 4355.32568359375, 6694.13916015625, 15808.77734375, 10297.9150390625, 14218.69140625, 3878.7626953125, 28554.81640625, 5374.09326171875, 11010.85546875, 8868.75, 7372.88720703125, 7201.4130859375, 4897.09619140625, 4742.90234375, 3756.047607421875, 3736.268798828125, 3512.182373046875, 3388.815673828125, 3376.431884765625, 3350.982421875, 3287.374267578125, 3127.024658203125, 2971.903076171875, 2786.86279296875, 2774.649658203125, 2706.425537109375, 2671.253173828125, 2634.32763671875, 2504.24560546875, 2476.303466796875, 2458.753173828125, 2389.5576171875, 2297.126220703125, 2239.9580078125, 2202.1875, 2137.368408203125, 2101.267578125, 2061.137939453125, 8531.9931640625, 12465.3408203125, 21350.33203125, 9653.98828125, 7106.1708984375, 12279.509765625, 8636.81640625, 8782.126953125, 8318.3056640625, 7570.98291015625, 6264.84375, 5892.0966796875, 5318.7177734375, 5002.009765625, 4876.45166015625, 4298.359375, 4181.458984375, 4160.466796875, 4148.01171875, 4108.43798828125, 3517.878173828125, 3473.395263671875, 3424.76220703125, 3237.55224609375, 3102.67041015625, 3082.4228515625, 3078.944580078125, 3017.724609375, 2826.738037109375, 2797.619873046875, 2610.811279296875, 2601.825927734375, 2574.041259765625, 2457.478515625, 2438.8330078125, 2321.552490234375, 2303.10205078125, 9816.1982421875, 5197.23876953125, 10981.3798828125, 10842.8056640625, 15808.77734375, 16346.1328125, 13170.98828125, 10134.48828125, 9625.951171875, 9495.8955078125, 6110.77685546875, 6020.228515625, 4978.4990234375, 4672.19970703125, 4654.2919921875, 4267.89697265625, 4030.43212890625, 3787.46728515625, 3645.78515625, 3595.454345703125, 3546.460693359375, 3483.273681640625, 3396.316650390625, 3349.331298828125, 3326.18310546875, 3183.11083984375, 3148.023681640625, 2768.150634765625, 2750.22119140625, 2627.216796875, 2447.29345703125, 2340.376708984375, 2314.513427734375, 2003.3609619140625, 1988.5938720703125, 5988.00146484375, 4303.84228515625, 26732.595703125, 3708.34033203125], \"loglift\": [30.0, 29.0, 28.0, 27.0, 26.0, 25.0, 24.0, 23.0, 22.0, 21.0, 20.0, 19.0, 18.0, 17.0, 16.0, 15.0, 14.0, 13.0, 12.0, 11.0, 10.0, 9.0, 8.0, 7.0, 6.0, 5.0, 4.0, 3.0, 2.0, 1.0, 2.158799886703491, 2.158799886703491, 2.1586999893188477, 2.1586999893188477, 2.1586999893188477, 2.1586999893188477, 2.1586999893188477, 2.1586999893188477, 2.1586999893188477, 2.1586999893188477, 2.1586999893188477, 2.1586999893188477, 2.1586999893188477, 2.1586999893188477, 2.1586999893188477, 2.158600091934204, 2.158600091934204, 2.158600091934204, 2.158600091934204, 2.158600091934204, 2.158600091934204, 2.158600091934204, 2.158600091934204, 2.158600091934204, 2.1584999561309814, 2.1584999561309814, 2.1584999561309814, 2.1584999561309814, 2.1584999561309814, 2.1584999561309814, 1.9277000427246094, 2.0009000301361084, 1.8260999917984009, 1.9163999557495117, 1.955299973487854, 1.8379000425338745, 1.1196999549865723, 0.9398000240325928, 2.160099983215332, 2.160099983215332, 2.160099983215332, 2.1600000858306885, 2.1600000858306885, 2.1600000858306885, 2.1600000858306885, 2.1600000858306885, 2.1600000858306885, 2.1600000858306885, 2.1600000858306885, 2.1600000858306885, 2.1600000858306885, 2.1600000858306885, 2.1600000858306885, 2.159899950027466, 2.159899950027466, 2.159899950027466, 2.159899950027466, 2.159899950027466, 2.159899950027466, 2.159899950027466, 2.159899950027466, 2.159899950027466, 2.159899950027466, 2.159899950027466, 2.159899950027466, 2.159899950027466, 2.159899950027466, 2.159899950027466, 1.9362000226974487, 1.9180999994277954, 1.8555999994277954, 1.9660999774932861, 1.8882999420166016, 1.934000015258789, 1.6722999811172485, 1.733199954032898, 1.6991000175476074, 0.546999990940094, 1.6715999841690063, 2.175600051879883, 2.17549991607666, 2.17549991607666, 2.17549991607666, 2.17549991607666, 2.17549991607666, 2.17549991607666, 2.17549991607666, 2.17549991607666, 2.1754000186920166, 2.1754000186920166, 2.1754000186920166, 2.1754000186920166, 2.1754000186920166, 2.1754000186920166, 2.1754000186920166, 2.1754000186920166, 2.1754000186920166, 2.1754000186920166, 2.1754000186920166, 2.1754000186920166, 2.1754000186920166, 2.1754000186920166, 2.1754000186920166, 2.1754000186920166, 2.1754000186920166, 2.1754000186920166, 2.1754000186920166, 2.175299882888794, 2.175299882888794, 1.9648000001907349, 1.8308000564575195, 1.8825000524520874, 1.2214000225067139, 0.4943000078201294, 1.8818999528884888, 1.9387999773025513, 2.273099899291992, 2.2730000019073486, 2.2730000019073486, 2.2730000019073486, 2.2730000019073486, 2.2730000019073486, 2.2730000019073486, 2.2730000019073486, 2.2730000019073486, 2.272900104522705, 2.272900104522705, 2.272900104522705, 2.272900104522705, 2.272900104522705, 2.272900104522705, 2.272900104522705, 2.272900104522705, 2.272900104522705, 2.272900104522705, 2.272900104522705, 2.272900104522705, 2.272900104522705, 2.272900104522705, 2.2727999687194824, 2.2727999687194824, 2.2727999687194824, 2.2727999687194824, 2.2727999687194824, 2.2727999687194824, 2.2727999687194824, 2.27239990234375, 2.04259991645813, 2.0620999336242676, 1.9575999975204468, 1.9234000444412231, 2.010499954223633, 2.009700059890747, 1.788100004196167, 1.888100028038025, 0.40880000591278076, 2.325200080871582, 2.3250999450683594, 2.3250999450683594, 2.3250999450683594, 2.3250999450683594, 2.3250999450683594, 2.3250999450683594, 2.3250999450683594, 2.3250999450683594, 2.3250999450683594, 2.3250999450683594, 2.325000047683716, 2.325000047683716, 2.325000047683716, 2.325000047683716, 2.325000047683716, 2.325000047683716, 2.325000047683716, 2.325000047683716, 2.325000047683716, 2.325000047683716, 2.325000047683716, 2.324899911880493, 2.324899911880493, 2.324899911880493, 2.324899911880493, 2.324899911880493, 2.324899911880493, 2.324899911880493, 2.324899911880493, 2.3213000297546387, 2.324399948120117, 2.32450008392334, 2.310800075531006, 2.077699899673462, 2.0917000770568848, 2.1006999015808105, 1.8885999917984009, 1.9699000120162964, 1.982300043106079, 1.7122999429702759, 1.9337999820709229, 0.7470999956130981, 2.042099952697754, 2.326200008392334, 2.326200008392334, 2.326200008392334, 2.326200008392334, 2.326200008392334, 2.326200008392334, 2.326200008392334, 2.326200008392334, 2.326200008392334, 2.3261001110076904, 2.3261001110076904, 2.3261001110076904, 2.3261001110076904, 2.3261001110076904, 2.3261001110076904, 2.3261001110076904, 2.3261001110076904, 2.3261001110076904, 2.3261001110076904, 2.3261001110076904, 2.3261001110076904, 2.3259999752044678, 2.3259999752044678, 2.3259999752044678, 2.3259999752044678, 2.3259999752044678, 2.3259999752044678, 2.3259999752044678, 2.3259999752044678, 2.3259999752044678, 2.3238000869750977, 2.325900077819824, 1.9270000457763672, 2.0320000648498535, 1.7196999788284302, 1.182800054550171, 1.5742000341415405, 1.45169997215271, 2.361599922180176, 2.3615000247955322, 2.3615000247955322, 2.3615000247955322, 2.3615000247955322, 2.3615000247955322, 2.3615000247955322, 2.3615000247955322, 2.3615000247955322, 2.3615000247955322, 2.3615000247955322, 2.3615000247955322, 2.3613998889923096, 2.3613998889923096, 2.3613998889923096, 2.3613998889923096, 2.3613998889923096, 2.3613998889923096, 2.3613998889923096, 2.3613998889923096, 2.361299991607666, 2.361299991607666, 2.361299991607666, 2.361299991607666, 2.361299991607666, 2.361299991607666, 2.361299991607666, 2.361299991607666, 2.361299991607666, 2.3612000942230225, 2.2046000957489014, 2.0443999767303467, 1.6514999866485596, 1.7280000448226929, 1.4785000085830688, 2.057499885559082, 0.6674000024795532, 1.8036999702453613, 2.409600019454956, 2.409600019454956, 2.409600019454956, 2.409600019454956, 2.4094998836517334, 2.4094998836517334, 2.4094998836517334, 2.4094998836517334, 2.4094998836517334, 2.40939998626709, 2.40939998626709, 2.40939998626709, 2.40939998626709, 2.40939998626709, 2.40939998626709, 2.40939998626709, 2.40939998626709, 2.40939998626709, 2.40939998626709, 2.40939998626709, 2.40939998626709, 2.40939998626709, 2.40939998626709, 2.4093000888824463, 2.4093000888824463, 2.4093000888824463, 2.4093000888824463, 2.4093000888824463, 2.4093000888824463, 2.4093000888824463, 2.4082999229431152, 2.3954999446868896, 2.3671000003814697, 2.122499942779541, 1.7847000360488892, 0.8920000195503235, 1.1734000444412231, 2.4296000003814697, 2.4296000003814697, 2.4296000003814697, 2.4296000003814697, 2.4296000003814697, 2.429500102996826, 2.429500102996826, 2.429500102996826, 2.429500102996826, 2.429500102996826, 2.429500102996826, 2.429500102996826, 2.429500102996826, 2.429500102996826, 2.429500102996826, 2.429500102996826, 2.4293999671936035, 2.4293999671936035, 2.4293999671936035, 2.4293999671936035, 2.4293999671936035, 2.4293999671936035, 2.4293999671936035, 2.4293999671936035, 2.4293999671936035, 2.4293999671936035, 2.4293999671936035, 2.4293999671936035, 2.42930006980896, 2.42930006980896, 2.180000066757202, 2.1089000701904297, 1.6492999792099, 1.561400055885315, 0.8824999928474426, 2.46370005607605, 2.463599920272827, 2.463599920272827, 2.463599920272827, 2.463599920272827, 2.463599920272827, 2.463599920272827, 2.4635000228881836, 2.4635000228881836, 2.4635000228881836, 2.4635000228881836, 2.4635000228881836, 2.4635000228881836, 2.4635000228881836, 2.4635000228881836, 2.4635000228881836, 2.4635000228881836, 2.4635000228881836, 2.4635000228881836, 2.4635000228881836, 2.463399887084961, 2.463399887084961, 2.463399887084961, 2.463399887084961, 2.463399887084961, 2.463399887084961, 2.463399887084961, 2.463399887084961, 2.4632999897003174, 2.4632999897003174, 2.112799882888794, 2.1205999851226807, 0.8830999732017517, 2.1559998989105225], \"logprob\": [30.0, 29.0, 28.0, 27.0, 26.0, 25.0, 24.0, 23.0, 22.0, 21.0, 20.0, 19.0, 18.0, 17.0, 16.0, 15.0, 14.0, 13.0, 12.0, 11.0, 10.0, 9.0, 8.0, 7.0, 6.0, 5.0, 4.0, 3.0, 2.0, 1.0, -3.5392000675201416, -3.5933001041412354, -3.852799892425537, -4.0335001945495605, -4.150300025939941, -4.204599857330322, -4.208000183105469, -4.259300231933594, -4.263700008392334, -4.3246002197265625, -4.389800071716309, -4.447500228881836, -4.623799800872803, -4.6290998458862305, -4.6407999992370605, -4.73330020904541, -4.954800128936768, -4.968900203704834, -5.0071001052856445, -5.025000095367432, -5.035799980163574, -5.037099838256836, -5.0447998046875, -4.968599796295166, -5.249100208282471, -5.348199844360352, -5.379000186920166, -5.39900016784668, -5.4492998123168945, -5.484099864959717, -3.226300001144409, -4.1697001457214355, -4.093599796295166, -4.842400074005127, -4.950500011444092, -4.7779998779296875, -4.743299961090088, -4.798399925231934, -3.854300022125244, -4.105999946594238, -4.162399768829346, -4.372600078582764, -4.427599906921387, -4.44950008392334, -4.573699951171875, -4.587500095367432, -4.643400192260742, -4.690299987792969, -4.770899772644043, -4.851900100708008, -4.867000102996826, -4.86959981918335, -4.884900093078613, -5.005199909210205, -5.011300086975098, -5.015200138092041, -5.039599895477295, -5.101500034332275, -5.1072001457214355, -5.218599796295166, -5.2230000495910645, -5.247399806976318, -5.2617998123168945, -5.264900207519531, -5.287799835205078, -5.310400009155273, -5.32450008392334, -5.325399875640869, -4.21560001373291, -4.243299961090088, -4.420000076293945, -4.788000106811523, -4.72599983215332, -4.913099765777588, -4.585599899291992, -4.77370023727417, -4.9319000244140625, -4.599899768829346, -5.045199871063232, -3.5283000469207764, -3.8515000343322754, -4.1118998527526855, -4.3028998374938965, -4.336599826812744, -4.342199802398682, -4.364500045776367, -4.330900192260742, -4.526000022888184, -4.7104997634887695, -4.723599910736084, -4.7758002281188965, -4.783699989318848, -4.786300182342529, -4.787499904632568, -4.813799858093262, -4.962200164794922, -4.982999801635742, -4.988900184631348, -4.983399868011475, -5.013800144195557, -5.032400131225586, -5.109300136566162, -5.121200084686279, -5.125199794769287, -5.1468000411987305, -5.151000022888184, -5.165800094604492, -5.21999979019165, -5.241199970245361, -4.140900135040283, -4.704699993133545, -4.997900009155273, -4.721099853515625, -4.652699947357178, -5.066800117492676, -5.105899810791016, -3.3929998874664307, -4.154699802398682, -4.260300159454346, -4.434000015258789, -4.450399875640869, -4.598800182342529, -4.606599807739258, -4.696899890899658, -4.802999973297119, -4.967299938201904, -4.969399929046631, -4.974599838256836, -5.00629997253418, -5.017499923706055, -5.027200222015381, -5.045100212097168, -5.079800128936768, -5.095399856567383, -5.103099822998047, -5.148399829864502, -5.195400238037109, -5.209700107574463, -5.214900016784668, -5.225399971008301, -5.245200157165527, -5.27209997177124, -5.339000225067139, -5.34060001373291, -5.351399898529053, -5.365300178527832, -4.888599872589111, -3.170300006866455, -3.9151999950408936, -4.438399791717529, -4.748000144958496, -5.049099922180176, -5.069799900054932, -4.944699764251709, -5.026500225067139, -4.738100051879883, -3.7251999378204346, -4.148099899291992, -4.249100208282471, -4.248899936676025, -4.2631001472473145, -4.298099994659424, -4.327099800109863, -4.377399921417236, -4.628300189971924, -4.7484002113342285, -4.748000144958496, -4.836400032043457, -4.842599868774414, -4.880300045013428, -4.917900085449219, -4.978899955749512, -4.980299949645996, -5.0954999923706055, -5.113100051879883, -5.1321001052856445, -5.14300012588501, -5.161799907684326, -5.237199783325195, -5.312699794769287, -5.343100070953369, -5.368299961090088, -5.393799781799316, -5.42519998550415, -5.429999828338623, -5.434500217437744, -4.130300045013428, -4.983799934387207, -5.241700172424316, -4.85860013961792, -3.913100004196167, -4.331399917602539, -4.530700206756592, -3.974400043487549, -4.447400093078613, -4.622499942779541, -4.3902997970581055, -4.845799922943115, -4.406799793243408, -5.023099899291992, -3.8236000537872314, -3.8619000911712646, -4.003399848937988, -4.0096001625061035, -3.97979998588562, -4.209199905395508, -4.2399001121521, -4.372900009155273, -4.4394001960754395, -4.706200122833252, -4.740799903869629, -4.7434000968933105, -4.781000137329102, -4.808899879455566, -4.819900035858154, -4.8470001220703125, -4.86359977722168, -4.8902997970581055, -4.92579984664917, -4.961900234222412, -5.054900169372559, -5.062300205230713, -5.110099792480469, -5.16349983215332, -5.212399959564209, -5.227700233459473, -5.228099822998047, -5.231500148773193, -5.236700057983398, -5.251299858093262, -4.553599834442139, -5.122000217437744, -4.894000053405762, -4.982999801635742, -4.763500213623047, -4.806700229644775, -5.0706000328063965, -5.112800121307373, -3.831700086593628, -4.220099925994873, -4.223400115966797, -4.373799800872803, -4.480800151824951, -4.502500057220459, -4.526400089263916, -4.542900085449219, -4.544400215148926, -4.5883002281188965, -4.592199802398682, -4.6392998695373535, -4.724800109863281, -4.764100074768066, -4.881800174713135, -4.918499946594238, -4.972099781036377, -4.981500148773193, -5.058199882507324, -5.064599990844727, -5.133600234985352, -5.163599967956543, -5.2399001121521, -5.268599987030029, -5.296199798583984, -5.315899848937988, -5.3618998527526855, -5.3917999267578125, -5.399400234222412, -5.425600051879883, -4.822800159454346, -4.553100109100342, -4.086699962615967, -4.438799858093262, -4.365699768066406, -5.0858001708984375, -4.479599952697754, -5.013500213623047, -3.6902999877929688, -3.906599998474121, -4.091400146484375, -4.1149001121521, -4.5005998611450195, -4.532599925994873, -4.765900135040283, -4.771200180053711, -4.833099842071533, -4.868800163269043, -4.872499942779541, -4.880099773406982, -4.899199962615967, -4.9492998123168945, -5.000199794769287, -5.064499855041504, -5.068900108337402, -5.093800067901611, -5.106800079345703, -5.120800018310547, -5.17140007019043, -5.182600021362305, -5.189799785614014, -5.218299865722656, -5.257800102233887, -5.2829999923706055, -5.300000190734863, -5.329899787902832, -5.34689998626709, -5.366199970245361, -3.9465999603271484, -3.5803000926971436, -3.0706000328063965, -4.108799934387207, -4.7530999183654785, -5.098899841308594, -5.169300079345703, -3.896399974822998, -3.950700044631958, -4.0447998046875, -4.2342000007629395, -4.295599937438965, -4.3979997634887695, -4.459400177001953, -4.484799861907959, -4.611000061035156, -4.638599872589111, -4.643599987030029, -4.646599769592285, -4.656199932098389, -4.811399936676025, -4.82420015335083, -4.8383002281188965, -4.894499778747559, -4.937099933624268, -4.943600177764893, -4.944699764251709, -4.964799880981445, -5.030200004577637, -5.040599822998047, -5.1097002029418945, -5.1132001876831055, -5.123899936676025, -5.170300006866455, -5.1778998374938965, -5.227200031280518, -5.235199928283691, -4.0346999168396, -4.741700172424316, -4.4532999992370605, -4.553899765014648, -4.8557000160217285, -3.2411000728607178, -3.4570999145507812, -3.7191998958587646, -3.770699977874756, -3.7843000888824463, -4.225100040435791, -4.240099906921387, -4.430099964141846, -4.493599891662598, -4.497399806976318, -4.584099769592285, -4.64139986038208, -4.70359992980957, -4.741700172424316, -4.7555999755859375, -4.7692999839782715, -4.787300109863281, -4.812600135803223, -4.826499938964844, -4.833499908447266, -4.877500057220459, -4.888500213623047, -5.017199993133545, -5.02370023727417, -5.069399833679199, -5.140399932861328, -5.185100078582764, -5.196199893951416, -5.34060001373291, -5.3480000495910645, -4.596199989318848, -4.918600082397461, -4.329699993133545, -5.032199859619141]}, \"token.table\": {\"Topic\": [3, 5, 1, 8, 8, 1, 4, 4, 6, 3, 4, 5, 8, 1, 10, 1, 3, 1, 2, 1, 5, 4, 4, 10, 2, 3, 4, 5, 8, 9, 8, 1, 9, 9, 7, 4, 9, 6, 8, 3, 7, 6, 3, 1, 2, 3, 4, 5, 7, 8, 9, 10, 5, 5, 2, 2, 5, 7, 10, 1, 10, 2, 4, 7, 8, 3, 6, 2, 1, 3, 1, 5, 10, 4, 8, 5, 6, 5, 8, 10, 2, 2, 5, 6, 7, 8, 9, 10, 5, 4, 2, 3, 9, 4, 5, 9, 10, 9, 2, 2, 3, 7, 3, 1, 5, 9, 9, 8, 1, 9, 8, 9, 1, 8, 9, 3, 4, 6, 1, 4, 5, 7, 4, 10, 6, 9, 4, 6, 6, 7, 9, 8, 1, 5, 5, 2, 1, 2, 2, 3, 4, 7, 8, 4, 1, 2, 8, 5, 2, 5, 2, 10, 8, 8, 1, 4, 9, 10, 2, 8, 6, 8, 3, 8, 8, 2, 3, 7, 10, 10, 1, 5, 7, 9, 10, 3, 1, 6, 6, 2, 2, 3, 5, 2, 5, 4, 9, 6, 7, 2, 3, 5, 5, 6, 6, 9, 4, 7, 5, 8, 1, 6, 3, 10, 9, 1, 2, 8, 3, 7, 7, 5, 1, 10, 2, 5, 6, 1, 4, 3, 4, 9, 5, 6, 5, 8, 10, 3, 3, 7, 8, 4, 4, 7, 4, 2, 3, 1, 10, 2, 8, 9, 2, 3, 6, 9, 9, 3, 8, 10, 6, 9, 7, 2, 3, 4, 1, 8, 6, 5, 7, 3, 2, 3, 6, 7, 2, 6, 1, 7, 1, 8, 9, 10, 2, 3, 4, 7, 8, 9, 4, 6, 3, 9, 3, 7, 2, 1, 7, 4, 8, 7, 6, 9, 1, 3, 4, 8, 6, 5, 1, 8, 10, 9, 2, 3, 5, 6, 7, 8, 9, 10, 10, 5, 1, 5, 2, 7, 3, 7, 3, 2, 4, 2, 3, 7, 7, 7, 5, 5, 5, 3, 10, 1, 5, 7, 4, 8, 3, 10, 5, 4, 4, 7, 5, 10, 2, 3, 5, 10, 1, 2, 3, 5, 6, 7, 8, 10, 3, 2, 2, 6, 5, 9, 10, 2, 7, 9, 4, 6, 8, 5, 9, 4, 6, 5, 9, 1, 2, 3, 4, 5, 6, 7, 9, 10, 7, 2, 2, 4, 9, 1, 4, 2, 7, 7, 5, 10, 1, 10, 6, 10, 1, 2, 6, 10, 4, 9, 2, 5, 3, 6, 10, 1, 6, 2, 3, 4, 1, 3, 7, 3, 9, 3, 1, 6, 10, 5, 7, 2, 3, 5, 7, 8, 1, 7, 9, 4, 4, 4, 4, 2, 8, 8, 1, 1, 1, 7, 4, 8, 8, 6, 3, 5, 5, 7, 8, 1, 4, 7, 3, 7, 1, 9, 4, 3, 5, 6, 9, 10, 5, 7, 1, 5, 8, 3, 1, 4, 10, 7, 9, 8, 6, 6, 7, 2, 3, 6, 2, 4, 9, 3, 3, 7, 10, 8, 5, 1, 9, 4, 7, 8, 3, 6, 7, 1, 2, 3, 6, 4, 9, 10, 10, 8], \"Freq\": [0.9997456669807434, 0.9999421834945679, 0.9999381303787231, 0.9999223351478577, 0.9995308518409729, 0.9999369382858276, 0.9997839331626892, 0.9997177720069885, 0.9996168613433838, 0.9998526573181152, 0.014026531018316746, 0.985562264919281, 0.0002646515204105526, 0.9998546242713928, 0.999819815158844, 0.9998995661735535, 0.9998591542243958, 0.9998811483383179, 0.9998025894165039, 0.3537306785583496, 0.6461890935897827, 0.9998655915260315, 0.7941241264343262, 0.20585356652736664, 9.367535676574335e-05, 0.006276248954236507, 0.031755946576595306, 0.0033254751469939947, 0.9582520723342896, 0.0001873507135314867, 0.9996961355209351, 0.9999079704284668, 0.9997774362564087, 0.999907374382019, 0.9995608925819397, 0.9996591210365295, 0.9997784495353699, 0.9996418952941895, 0.9996904134750366, 0.9996506571769714, 0.9997652769088745, 0.9999117255210876, 0.9998824000358582, 0.20678916573524475, 0.015862327069044113, 0.07479608058929443, 0.10663651674985886, 0.10026843100786209, 0.020956795662641525, 0.29050055146217346, 0.1840956062078476, 0.9998997449874878, 0.999652624130249, 0.999663233757019, 0.9998254179954529, 0.27374473214149475, 0.1955735683441162, 0.5306899547576904, 0.9999057054519653, 0.9999203085899353, 0.9998701214790344, 0.26664963364601135, 0.021771114319562912, 0.5723756551742554, 0.13918627798557281, 0.9995971322059631, 0.9998488426208496, 0.999950647354126, 0.9999748468399048, 0.9996688365936279, 0.2990047335624695, 0.7009209990501404, 0.9997959136962891, 0.9999353885650635, 0.999759316444397, 0.9997979402542114, 0.9998694658279419, 0.9960871338844299, 0.0025818743743002415, 0.0012909371871501207, 0.9997959136962891, 0.000933915376663208, 0.0005603492027148604, 0.6707380414009094, 0.1705329418182373, 0.020172571763396263, 0.13354989886283875, 0.0033620952162891626, 0.9994450211524963, 0.9995613098144531, 0.9997755885124207, 0.22085943818092346, 0.7790185213088989, 0.9998641014099121, 0.9995329976081848, 0.9997560977935791, 0.9996123313903809, 0.9998052716255188, 0.9998440146446228, 0.784995436668396, 0.21286047995090485, 0.0020281623583287, 0.9999601244926453, 0.9999462962150574, 0.5417351722717285, 0.458230197429657, 0.9998862147331238, 0.9997658729553223, 0.9998794794082642, 0.9997598528862, 0.999809741973877, 0.9997503757476807, 0.27187636494636536, 0.535309374332428, 0.1927901804447174, 0.29498809576034546, 0.704818844795227, 0.0001608441089047119, 0.717038094997406, 0.04171471670269966, 0.17269892990589142, 0.0684879794716835, 0.9998094439506531, 0.9994714856147766, 0.9996864795684814, 0.9998716711997986, 0.9996975064277649, 0.9997268915176392, 0.9998819828033447, 0.9997838139533997, 0.9998701810836792, 0.9995097517967224, 0.9998788833618164, 0.9999098777770996, 0.9996817708015442, 0.999721884727478, 0.999922513961792, 0.9997797012329102, 0.18637439608573914, 0.2315262258052826, 0.16822926700115204, 0.4134698212146759, 0.00042197975562885404, 0.9998821020126343, 0.9999032020568848, 0.9998483657836914, 0.9998276233673096, 0.9998653531074524, 0.9998875260353088, 0.9998422861099243, 0.7620217800140381, 0.2379039227962494, 0.9996633529663086, 0.9996936917304993, 0.999568521976471, 0.7294411063194275, 0.0006106153596192598, 0.26989197731018066, 0.9998693466186523, 0.9995025992393494, 0.9996045231819153, 0.0003496343269944191, 0.9997536540031433, 0.9995723366737366, 0.9994478821754456, 0.7374557256698608, 0.2622401714324951, 0.00021654844749718904, 0.9997432231903076, 0.9998927712440491, 0.9998608827590942, 0.9994943141937256, 0.9998180866241455, 0.9998652935028076, 0.999778151512146, 0.9999630451202393, 0.9998319745063782, 0.9996263980865479, 0.9996765851974487, 0.9998456239700317, 0.8234919905662537, 0.0038431957364082336, 0.1724197268486023, 0.9996346831321716, 0.9998466372489929, 0.9997186660766602, 0.9999163746833801, 0.9999179244041443, 0.9997960925102234, 0.7993302345275879, 0.19045794010162354, 0.010139900259673595, 0.7916719913482666, 0.20826870203018188, 0.9998268485069275, 0.9997389316558838, 0.9997441172599792, 0.9998083710670471, 0.9998974204063416, 0.9993967413902283, 0.9997507333755493, 0.999936580657959, 0.999862790107727, 0.9999518394470215, 0.9995214939117432, 0.9994468688964844, 0.9998247027397156, 0.999886155128479, 0.9998846054077148, 0.9997737407684326, 0.9996886849403381, 0.9999070763587952, 0.9998994469642639, 0.9998728632926941, 0.9996225833892822, 0.9999562501907349, 0.9997609853744507, 0.9998590350151062, 0.9997914433479309, 0.9998877644538879, 0.9997555017471313, 0.9996892809867859, 0.9998244047164917, 0.9998305439949036, 0.7807314991950989, 0.21922698616981506, 0.9998390674591064, 0.9998193979263306, 0.708347499370575, 0.291482537984848, 0.999721109867096, 0.9998777508735657, 0.6803737878799438, 0.31936749815940857, 0.9998190402984619, 0.9997686743736267, 0.9999241232872009, 0.29575809836387634, 0.7040746212005615, 0.9996877908706665, 0.999872088432312, 0.9998430609703064, 0.9997895359992981, 0.2548990845680237, 0.744967520236969, 0.9998138546943665, 0.9998878240585327, 0.9998379945755005, 0.9997666478157043, 0.999634325504303, 0.9999003410339355, 0.9998902082443237, 0.9998979568481445, 0.19325412809848785, 0.1908598244190216, 0.6156768798828125, 0.014038925990462303, 0.9859337210655212, 0.9997004270553589, 0.9997783303260803, 0.999923050403595, 0.9997559189796448, 0.17964749038219452, 0.291945219039917, 0.4169613718986511, 0.11128605157136917, 0.9999079704284668, 0.9994950294494629, 0.9998021125793457, 0.9995459318161011, 0.9999594688415527, 0.9998427629470825, 0.9997619986534119, 0.9995368719100952, 0.00018445409659761935, 0.17449358105659485, 0.13815613090991974, 0.11353150010108948, 0.15401917695999146, 0.41963309049606323, 0.9997389912605286, 0.9998306035995483, 0.8100006580352783, 0.19000805914402008, 0.9996163845062256, 0.999620258808136, 0.9998575448989868, 0.9997898936271667, 0.9994980096817017, 0.24953417479991913, 0.7503634691238403, 0.9995315074920654, 0.9996106028556824, 0.9998650550842285, 0.10250958055257797, 0.745582103729248, 0.1511114239692688, 0.0008489405736327171, 0.9998124241828918, 0.9996412396430969, 0.7254567742347717, 0.2744807302951813, 0.9999011754989624, 0.9997839331626892, 0.26738446950912476, 0.3850925862789154, 0.11429405212402344, 0.08775734901428223, 0.11530275642871857, 0.030105968937277794, 0.999658465385437, 0.9998736381530762, 0.9996510148048401, 0.9997463822364807, 0.7936354875564575, 0.20634382963180542, 0.999603271484375, 0.999886691570282, 0.9998769164085388, 0.9998425841331482, 0.9999189376831055, 0.999907374382019, 0.9998460412025452, 0.6524583101272583, 0.3473774194717407, 0.9997533559799194, 0.9997995495796204, 0.999839186668396, 0.999679446220398, 0.9998109936714172, 0.9998221397399902, 0.9997671246528625, 0.9999249577522278, 0.07944297045469284, 0.06566672772169113, 0.8545859456062317, 0.7690001130104065, 0.23072373867034912, 0.9998759031295776, 0.9995843172073364, 0.9995942711830139, 0.9998231530189514, 0.9996176958084106, 0.9998140931129456, 0.29020580649375916, 0.7095984816551208, 0.2539065480232239, 0.7458628416061401, 0.9997137784957886, 0.999722421169281, 8.13246369943954e-05, 0.250317245721817, 0.060342881828546524, 0.13849586248397827, 0.3187112510204315, 0.11198402941226959, 0.030822038650512695, 0.08921312540769577, 0.9997966885566711, 0.9995713829994202, 0.9997363090515137, 0.9996015429496765, 0.7989081740379333, 0.20104052126407623, 0.9998766183853149, 0.7975993156433105, 0.20227578282356262, 0.9998294115066528, 0.9999093413352966, 0.9998425841331482, 0.9996604323387146, 0.9998496770858765, 0.9997981190681458, 0.9998881220817566, 0.9999349117279053, 0.9998148083686829, 0.9998933672904968, 0.0004902850487269461, 0.19926585257053375, 0.1861332207918167, 0.15500012040138245, 0.04990401491522789, 0.09728656709194183, 0.1837168186903, 0.05578743666410446, 0.07242210954427719, 0.9998903870582581, 0.9995474815368652, 0.9998425245285034, 0.7683114409446716, 0.23150946199893951, 0.0005248944507911801, 0.9993990063667297, 0.9997224807739258, 0.9997378587722778, 0.9999054074287415, 0.9992164373397827, 0.00039354723412543535, 0.9998045563697815, 0.9999010562896729, 0.999932050704956, 0.9997846484184265, 0.9999179244041443, 0.6134471893310547, 0.14187543094158173, 0.2445373684167862, 0.9997542500495911, 0.9995954632759094, 0.9998136758804321, 0.9995929002761841, 0.9999464750289917, 0.9998292326927185, 0.9996747970581055, 0.9998008608818054, 0.9997212886810303, 0.6139876246452332, 0.15041208267211914, 0.23561722040176392, 0.21072420477867126, 0.7891644835472107, 0.9995647072792053, 0.9998971223831177, 0.9996932148933411, 0.9998148083686829, 0.0023716180585324764, 0.997463047504425, 0.9997013807296753, 0.7095906138420105, 0.29024603962898254, 0.6306536197662354, 0.19245515763759613, 0.17623703181743622, 0.0006178335752338171, 0.9996722936630249, 0.2955320179462433, 0.4915623664855957, 0.2128564417362213, 0.9997498989105225, 0.9998117089271545, 0.9998570680618286, 0.9998000860214233, 0.9999036192893982, 0.9998796582221985, 0.9997068047523499, 0.9998857975006104, 0.9996633529663086, 0.7847864627838135, 0.215022012591362, 0.9997352957725525, 0.9999154210090637, 0.9998756051063538, 0.9999073147773743, 0.0006081380997784436, 0.9991708397865295, 0.9995203614234924, 0.9998217225074768, 0.999460756778717, 0.9998539090156555, 0.9996497631072998, 0.9998928308486938, 0.999808669090271, 0.9998947978019714, 0.9998907446861267, 0.999862790107727, 0.9999797940254211, 0.9999162554740906, 0.7535290718078613, 0.2463276982307434, 0.26453882455825806, 0.735099732875824, 0.9998573064804077, 0.9995340704917908, 0.32347777485847473, 0.6759878993034363, 0.00017921206017490476, 0.9998270273208618, 0.8159549832344055, 0.184011772274971, 0.9996442794799805, 0.999870240688324, 0.9996825456619263, 0.9997761845588684, 0.9998235702514648, 0.9998819828033447, 0.9995518326759338, 0.23238836228847504, 0.22239460051059723, 0.5451266169548035, 0.9997358322143555, 0.27418404817581177, 0.7255775928497314, 0.99992835521698, 0.26219701766967773, 0.7376063466072083, 0.9995559453964233, 0.9999426603317261, 0.999868631362915, 0.8539098501205444, 0.1460224837064743, 0.0009376472444273531, 0.00035161772393621504, 0.998594343662262, 0.27158084511756897, 0.00014938440290279686, 0.7282489538192749, 0.09881997853517532, 0.2660778760910034, 0.16365590691566467, 0.4713916480541229, 0.8097765445709229, 0.1901717483997345, 0.9999306797981262, 0.999789834022522, 0.9994736313819885], \"Term\": [\"abbott\", \"abus\", \"accus\", \"adelaid\", \"airport\", \"alleg\", \"amid\", \"andrew\", \"anim\", \"announc\", \"anti\", \"anti\", \"anti\", \"appeal\", \"approv\", \"arrest\", \"ash\", \"assault\", \"asylum\", \"attack\", \"attack\", \"aussi\", \"australia\", \"australia\", \"australian\", \"australian\", \"australian\", \"australian\", \"australian\", \"australian\", \"award\", \"babi\", \"battl\", \"beat\", \"begin\", \"best\", \"black\", \"boat\", \"bomb\", \"boost\", \"boss\", \"break\", \"bring\", \"brisban\", \"brisban\", \"brisban\", \"brisban\", \"brisban\", \"brisban\", \"brisban\", \"brisban\", \"budget\", \"burn\", \"bushfir\", \"busi\", \"call\", \"call\", \"call\", \"canberra\", \"case\", \"celebr\", \"centr\", \"centr\", \"centr\", \"centr\", \"central\", \"challeng\", \"chang\", \"charg\", \"chief\", \"child\", \"child\", \"children\", \"china\", \"chines\", \"christma\", \"citi\", \"claim\", \"claim\", \"claim\", \"climat\", \"close\", \"close\", \"close\", \"close\", \"close\", \"close\", \"close\", \"closur\", \"club\", \"coal\", \"coast\", \"coast\", \"come\", \"comment\", \"commiss\", \"compani\", \"confirm\", \"cost\", \"council\", \"council\", \"council\", \"countri\", \"court\", \"crash\", \"crash\", \"cricket\", \"crime\", \"cut\", \"cyclon\", \"darwin\", \"david\", \"dead\", \"dead\", \"dead\", \"deal\", \"deal\", \"deal\", \"death\", \"death\", \"death\", \"death\", \"debat\", \"demand\", \"despit\", \"die\", \"disabl\", \"doctor\", \"dollar\", \"domest\", \"donald\", \"draw\", \"drive\", \"driver\", \"drone\", \"drought\", \"drug\", \"drum\", \"elect\", \"elect\", \"elect\", \"elect\", \"elect\", \"expert\", \"face\", \"fall\", \"fan\", \"farm\", \"farmer\", \"father\", \"feder\", \"feder\", \"festiv\", \"film\", \"fin\", \"final\", \"final\", \"final\", \"find\", \"fire\", \"fish\", \"fish\", \"food\", \"footag\", \"french\", \"fund\", \"fund\", \"fund\", \"game\", \"get\", \"girl\", \"global\", \"go\", \"gold\", \"good\", \"govern\", \"grand\", \"grandstand\", \"great\", \"green\", \"group\", \"group\", \"group\", \"grow\", \"guilti\", \"hand\", \"head\", \"health\", \"hear\", \"help\", \"help\", \"help\", \"high\", \"high\", \"hill\", \"histori\", \"hit\", \"hobart\", \"home\", \"honour\", \"hope\", \"hospit\", \"hour\", \"hous\", \"human\", \"hunt\", \"hunter\", \"india\", \"indigen\", \"inquest\", \"inquiri\", \"intern\", \"interview\", \"investig\", \"islam\", \"island\", \"issu\", \"jail\", \"jam\", \"job\", \"john\", \"join\", \"juli\", \"kid\", \"kill\", \"kill\", \"know\", \"korea\", \"labor\", \"labor\", \"law\", \"lead\", \"leader\", \"leader\", \"leagu\", \"legal\", \"liber\", \"life\", \"life\", \"light\", \"link\", \"live\", \"local\", \"look\", \"look\", \"lose\", \"make\", \"malcolm\", \"march\", \"mark\", \"market\", \"marriag\", \"media\", \"meet\", \"meet\", \"meet\", \"melbourn\", \"melbourn\", \"mental\", \"michael\", \"million\", \"mine\", \"minist\", \"minist\", \"minist\", \"minist\", \"miss\", \"month\", \"mother\", \"mount\", \"murder\", \"murray\", \"music\", \"name\", \"nation\", \"nation\", \"nation\", \"nation\", \"nation\", \"nation\", \"newcastl\", \"news\", \"north\", \"north\", \"northern\", \"novemb\", \"offer\", \"offic\", \"offici\", \"open\", \"open\", \"order\", \"outback\", \"park\", \"parti\", \"parti\", \"parti\", \"parti\", \"patient\", \"pay\", \"peopl\", \"peopl\", \"perth\", \"peter\", \"plan\", \"plan\", \"plan\", \"plan\", \"plan\", \"plan\", \"plane\", \"play\", \"player\", \"plead\", \"polic\", \"polic\", \"polici\", \"polit\", \"port\", \"post\", \"power\", \"premier\", \"presid\", \"price\", \"price\", \"prison\", \"program\", \"promis\", \"propos\", \"protect\", \"protest\", \"push\", \"queensland\", \"question\", \"question\", \"question\", \"race\", \"race\", \"rain\", \"rais\", \"ralli\", \"rat\", \"rate\", \"record\", \"refuge\", \"refuge\", \"region\", \"region\", \"reject\", \"releas\", \"report\", \"report\", \"report\", \"report\", \"report\", \"report\", \"report\", \"report\", \"resid\", \"resign\", \"result\", \"retir\", \"return\", \"return\", \"reveal\", \"review\", \"review\", \"right\", \"rise\", \"risk\", \"river\", \"road\", \"royal\", \"rugbi\", \"rural\", \"safeti\", \"save\", \"say\", \"say\", \"say\", \"say\", \"say\", \"say\", \"say\", \"say\", \"say\", \"school\", \"scott\", \"search\", \"season\", \"season\", \"second\", \"second\", \"seeker\", \"sell\", \"senat\", \"send\", \"send\", \"sentenc\", \"sexual\", \"share\", \"shark\", \"shoot\", \"show\", \"show\", \"show\", \"sign\", \"smith\", \"social\", \"solar\", \"south\", \"speak\", \"sport\", \"stab\", \"staff\", \"state\", \"state\", \"state\", \"station\", \"station\", \"step\", \"stop\", \"stori\", \"storm\", \"street\", \"street\", \"struggl\", \"student\", \"student\", \"support\", \"support\", \"support\", \"support\", \"suspect\", \"sydney\", \"sydney\", \"sydney\", \"syria\", \"take\", \"talk\", \"target\", \"tasmania\", \"tasmanian\", \"team\", \"teen\", \"teenag\", \"tell\", \"tell\", \"terror\", \"test\", \"thousand\", \"threat\", \"threaten\", \"threaten\", \"thursday\", \"time\", \"titl\", \"toni\", \"tour\", \"town\", \"trade\", \"train\", \"trial\", \"truck\", \"trump\", \"turnbul\", \"union\", \"union\", \"unit\", \"unit\", \"univers\", \"valley\", \"victim\", \"victim\", \"victim\", \"victoria\", \"victorian\", \"victorian\", \"video\", \"violenc\", \"visit\", \"vote\", \"wall\", \"warn\", \"wast\", \"water\", \"water\", \"water\", \"weather\", \"week\", \"week\", \"west\", \"western\", \"western\", \"white\", \"win\", \"wind\", \"woman\", \"woman\", \"women\", \"women\", \"women\", \"work\", \"work\", \"work\", \"worker\", \"worker\", \"worker\", \"worker\", \"world\", \"world\", \"year\", \"young\", \"zealand\"]}, \"R\": 30, \"lambda.step\": 0.01, \"plot.opts\": {\"xlab\": \"PC1\", \"ylab\": \"PC2\"}, \"topic.order\": [7, 3, 4, 8, 10, 1, 6, 2, 5, 9]};\n",
       "\n",
       "function LDAvis_load_lib(url, callback){\n",
       "  var s = document.createElement('script');\n",
       "  s.src = url;\n",
       "  s.async = true;\n",
       "  s.onreadystatechange = s.onload = callback;\n",
       "  s.onerror = function(){console.warn(\"failed to load library \" + url);};\n",
       "  document.getElementsByTagName(\"head\")[0].appendChild(s);\n",
       "}\n",
       "\n",
       "if(typeof(LDAvis) !== \"undefined\"){\n",
       "   // already loaded: just create the visualization\n",
       "   !function(LDAvis){\n",
       "       new LDAvis(\"#\" + \"ldavis_el79055948547689263352869\", ldavis_el79055948547689263352869_data);\n",
       "   }(LDAvis);\n",
       "}else if(typeof define === \"function\" && define.amd){\n",
       "   // require.js is available: use it to load d3/LDAvis\n",
       "   require.config({paths: {d3: \"https://cdnjs.cloudflare.com/ajax/libs/d3/3.5.5/d3.min\"}});\n",
       "   require([\"d3\"], function(d3){\n",
       "      window.d3 = d3;\n",
       "      LDAvis_load_lib(\"https://cdn.rawgit.com/bmabey/pyLDAvis/files/ldavis.v1.0.0.js\", function(){\n",
       "        new LDAvis(\"#\" + \"ldavis_el79055948547689263352869\", ldavis_el79055948547689263352869_data);\n",
       "      });\n",
       "    });\n",
       "}else{\n",
       "    // require.js not available: dynamically load d3 & LDAvis\n",
       "    LDAvis_load_lib(\"https://cdnjs.cloudflare.com/ajax/libs/d3/3.5.5/d3.min.js\", function(){\n",
       "         LDAvis_load_lib(\"https://cdn.rawgit.com/bmabey/pyLDAvis/files/ldavis.v1.0.0.js\", function(){\n",
       "                 new LDAvis(\"#\" + \"ldavis_el79055948547689263352869\", ldavis_el79055948547689263352869_data);\n",
       "            })\n",
       "         });\n",
       "}\n",
       "</script>"
      ],
      "text/plain": [
       "PreparedData(topic_coordinates=              x         y  topics  cluster       Freq\n",
       "topic                                                \n",
       "6      0.196806 -0.289105       1        1  11.546267\n",
       "2     -0.267694 -0.014603       2        1  11.530755\n",
       "3     -0.244419  0.039839       3        1  11.353895\n",
       "7      0.082821  0.252375       4        1  10.298702\n",
       "9      0.049882 -0.228370       5        1   9.775863\n",
       "0     -0.118370 -0.023184       6        1   9.765476\n",
       "5     -0.123440 -0.060494       7        1   9.426515\n",
       "1      0.163453  0.065367       8        1   8.984342\n",
       "4      0.160066  0.105976       9        1   8.806295\n",
       "8      0.100895  0.152200      10        1   8.511888, topic_info=     Category          Freq        Term         Total  loglift  logprob\n",
       "term                                                                   \n",
       "16    Default  21350.000000  australian  21350.000000  30.0000  30.0000\n",
       "37    Default  26732.000000   australia  26732.000000  29.0000  29.0000\n",
       "236   Default  28355.000000       polic  28355.000000  28.0000  28.0000\n",
       "1104  Default  16346.000000        year  16346.000000  27.0000  27.0000\n",
       "6596  Default  16990.000000       trump  16990.000000  26.0000  26.0000\n",
       "2393  Default  16361.000000      govern  16361.000000  25.0000  25.0000\n",
       "320   Default  16457.000000       charg  16457.000000  24.0000  24.0000\n",
       "212   Default  15591.000000       court  15591.000000  23.0000  23.0000\n",
       "1992  Default  13170.000000  queensland  13170.000000  22.0000  22.0000\n",
       "844   Default  12465.000000    melbourn  12465.000000  21.0000  21.0000\n",
       "109   Default  11569.000000        home  11569.000000  20.0000  20.0000\n",
       "966   Default  11010.000000     adelaid  11010.000000  19.0000  19.0000\n",
       "301   Default  12027.000000      murder  12027.000000  18.0000  18.0000\n",
       "175   Default  11993.000000       chang  11993.000000  17.0000  17.0000\n",
       "143   Default  11842.000000       south  11842.000000  16.0000  16.0000\n",
       "282   Default  10134.000000        hous  10134.000000  15.0000  15.0000\n",
       "344   Default  10474.000000        warn  10474.000000  14.0000  14.0000\n",
       "1762  Default   9625.000000       perth   9625.000000  13.0000  13.0000\n",
       "1034  Default  10029.000000      school  10029.000000  12.0000  12.0000\n",
       "1098  Default  10081.000000      market  10081.000000  11.0000  11.0000\n",
       "1183  Default   9495.000000    canberra   9495.000000  10.0000  10.0000\n",
       "80    Default  13954.000000      attack  13954.000000   9.0000   9.0000\n",
       "422   Default  12446.000000       world  12446.000000   8.0000   8.0000\n",
       "530   Default  12279.000000        kill  12279.000000   7.0000   7.0000\n",
       "426   Default  10039.000000        face  10039.000000   6.0000   6.0000\n",
       "575   Default   8868.000000        test   8868.000000   5.0000   5.0000\n",
       "172   Default   8782.000000         die   8782.000000   4.0000   4.0000\n",
       "258   Default   8959.000000      health   8959.000000   3.0000   3.0000\n",
       "2143  Default  15808.000000      sydney  15808.000000   2.0000   2.0000\n",
       "360   Default   8531.000000       women   8531.000000   1.0000   1.0000\n",
       "...       ...           ...         ...           ...      ...      ...\n",
       "1183  Topic10   9495.070312    canberra   9495.895508   2.4636  -3.7843\n",
       "276   Topic10   6109.952148    investig   6110.776855   2.4636  -4.2251\n",
       "1515  Topic10   6019.403809    children   6020.228516   2.4636  -4.2401\n",
       "1840  Topic10   4977.674316      budget   4978.499023   2.4635  -4.4301\n",
       "1492  Topic10   4671.375000        game   4672.199707   2.4635  -4.4936\n",
       "639   Topic10   4653.467285      releas   4654.291992   2.4635  -4.4974\n",
       "356   Topic10   4267.072266       young   4267.896973   2.4635  -4.5841\n",
       "375   Topic10   4029.607178         get   4030.432129   2.4635  -4.6414\n",
       "548   Topic10   3786.642334      reveal   3787.467285   2.4635  -4.7036\n",
       "541   Topic10   3644.960205       shark   3645.785156   2.4635  -4.7417\n",
       "1056  Topic10   3594.629395        play   3595.454346   2.4635  -4.7556\n",
       "43    Topic10   3545.635742      celebr   3546.460693   2.4635  -4.7693\n",
       "685   Topic10   3482.448730        mark   3483.273682   2.4635  -4.7873\n",
       "2647  Topic10   3395.491699     compani   3396.316650   2.4635  -4.8126\n",
       "2431  Topic10   3348.506348      sexual   3349.331299   2.4635  -4.8265\n",
       "2667  Topic10   3325.358154       video   3326.183105   2.4635  -4.8335\n",
       "598   Topic10   3182.285889      player   3183.110840   2.4634  -4.8775\n",
       "1049  Topic10   3147.198730       sport   3148.023682   2.4634  -4.8885\n",
       "367   Topic10   2767.325684        rais   2768.150635   2.4634  -5.0172\n",
       "284   Topic10   2749.396240       white   2750.221191   2.4634  -5.0237\n",
       "1312  Topic10   2626.391846        name   2627.216797   2.4634  -5.0694\n",
       "315   Topic10   2446.468506      demand   2447.293457   2.4634  -5.1404\n",
       "1964  Topic10   2339.551758        know   2340.376709   2.4634  -5.1851\n",
       "991   Topic10   2313.688477        good   2314.513428   2.4634  -5.1962\n",
       "1213  Topic10   2002.536133      approv   2003.360962   2.4633  -5.3406\n",
       "1656  Topic10   1987.769043     struggl   1988.593872   2.4633  -5.3480\n",
       "1336  Topic10   4216.036621        life   5988.001465   2.1128  -4.5962\n",
       "2564  Topic10   3053.981689      refuge   4303.842285   2.1206  -4.9186\n",
       "37    Topic10   5503.136719   australia  26732.595703   0.8831  -4.3297\n",
       "60    Topic10   2726.130615        unit   3708.340332   2.1560  -5.0322\n",
       "\n",
       "[412 rows x 6 columns], token_table=      Topic      Freq        Term\n",
       "term                             \n",
       "2498      3  0.999746      abbott\n",
       "1884      5  0.999942        abus\n",
       "211       1  0.999938       accus\n",
       "966       8  0.999922     adelaid\n",
       "890       8  0.999531     airport\n",
       "306       1  0.999937       alleg\n",
       "3727      4  0.999784        amid\n",
       "7245      4  0.999718      andrew\n",
       "2424      6  0.999617        anim\n",
       "204       3  0.999853     announc\n",
       "498       4  0.014027        anti\n",
       "498       5  0.985562        anti\n",
       "498       8  0.000265        anti\n",
       "882       1  0.999855      appeal\n",
       "1213     10  0.999820      approv\n",
       "285       1  0.999900      arrest\n",
       "2072      3  0.999859         ash\n",
       "1524      1  0.999881     assault\n",
       "399       2  0.999803      asylum\n",
       "80        1  0.353731      attack\n",
       "80        5  0.646189      attack\n",
       "27        4  0.999866       aussi\n",
       "37        4  0.794124   australia\n",
       "37       10  0.205854   australia\n",
       "16        2  0.000094  australian\n",
       "16        3  0.006276  australian\n",
       "16        4  0.031756  australian\n",
       "16        5  0.003325  australian\n",
       "16        8  0.958252  australian\n",
       "16        9  0.000187  australian\n",
       "...     ...       ...         ...\n",
       "32        7  0.999552        wast\n",
       "55        2  0.232388       water\n",
       "55        3  0.222395       water\n",
       "55        6  0.545127       water\n",
       "650       2  0.999736     weather\n",
       "1154      4  0.274184        week\n",
       "1154      9  0.725578        week\n",
       "244       3  0.999928        west\n",
       "340       3  0.262197     western\n",
       "340       7  0.737606     western\n",
       "284      10  0.999556       white\n",
       "21        8  0.999943         win\n",
       "667       5  0.999869        wind\n",
       "1078      1  0.853910       woman\n",
       "1078      9  0.146022       woman\n",
       "360       4  0.000938       women\n",
       "360       7  0.000352       women\n",
       "360       8  0.998594       women\n",
       "206       3  0.271581        work\n",
       "206       6  0.000149        work\n",
       "206       7  0.728249        work\n",
       "782       1  0.098820      worker\n",
       "782       2  0.266078      worker\n",
       "782       3  0.163656      worker\n",
       "782       6  0.471392      worker\n",
       "422       4  0.809777       world\n",
       "422       9  0.190172       world\n",
       "1104     10  0.999931        year\n",
       "356      10  0.999790       young\n",
       "383       8  0.999474     zealand\n",
       "\n",
       "[514 rows x 3 columns], R=30, lambda_step=0.01, plot_opts={'xlab': 'PC1', 'ylab': 'PC2'}, topic_order=[7, 3, 4, 8, 10, 1, 6, 2, 5, 9])"
      ]
     },
     "execution_count": 19,
     "metadata": {},
     "output_type": "execute_result"
    }
   ],
   "source": [
    "# Visualize the topics\n",
    "pyLDAvis.enable_notebook()\n",
    "vis = pyLDAvis.gensim.prepare(lda_model, bow_corpus, dictionary)\n",
    "vis"
   ]
  },
  {
   "cell_type": "markdown",
   "metadata": {
    "colab_type": "text",
    "id": "HUA4umNMF-2b"
   },
   "source": [
    "### Building LDA Mallet Model\n",
    "\n",
    "Gensim provides a wrapper to implement Mallet’s LDA from within Gensim itself. You only need to download the zipfile, unzip it and provide the path to mallet in the unzipped directory to gensim.models.wrappers.LdaMallet. See how I have done this below."
   ]
  },
  {
   "cell_type": "code",
   "execution_count": null,
   "metadata": {
    "colab": {
     "base_uri": "https://localhost:8080/",
     "height": 204
    },
    "colab_type": "code",
    "id": "4ZoufhO3G9Rc",
    "outputId": "6b50e276-fd6b-4553-9857-b150c0554755"
   },
   "outputs": [],
   "source": [
    "# Download File: http://mallet.cs.umass.edu/dist/mallet-2.0.8.zip\n",
    "! wget http://mallet.cs.umass.edu/dist/mallet-2.0.8.zip"
   ]
  },
  {
   "cell_type": "code",
   "execution_count": 20,
   "metadata": {
    "colab": {
     "base_uri": "https://localhost:8080/",
     "height": 344
    },
    "colab_type": "code",
    "id": "WtBPiCDvE99L",
    "outputId": "21713bcc-38bb-4f80-afe3-8bee452dc005"
   },
   "outputs": [],
   "source": [
    "mallet_path = 'mallet-2.0.8/bin/mallet' # update this path\n",
    "ldamallet = gensim.models.wrappers.LdaMallet(mallet_path, corpus=bow_corpus, num_topics=10, id2word=dictionary)"
   ]
  },
  {
   "cell_type": "code",
   "execution_count": 21,
   "metadata": {
    "colab": {},
    "colab_type": "code",
    "id": "1xf7CfzxIzHP"
   },
   "outputs": [
    {
     "name": "stdout",
     "output_type": "stream",
     "text": [
      "Topic: 0 \n",
      "Words: [('sydney', 0.021140068044792626), ('miss', 0.02112523885586452), ('south', 0.017227280623334364), ('continu', 0.016767575766563146), ('australia', 0.015663860419199985), ('china', 0.015271946140385814), ('hold', 0.012793353133831311), ('search', 0.01272979946699658), ('australian', 0.012299752988081569), ('deal', 0.01155617508611522)]\n",
      "Topic: 1 \n",
      "Words: [('interview', 0.033123198049517126), ('elect', 0.019112538728094503), ('labor', 0.014875384644587347), ('state', 0.012036554681222174), ('leader', 0.011087465911895035), ('chief', 0.009870523201002238), ('talk', 0.009294742680943774), ('campaign', 0.008457435477781832), ('parti', 0.008278163154686706), ('speak', 0.008179036105445871)]\n",
      "Topic: 2 \n",
      "Words: [('year', 0.02350199521149242), ('nation', 0.019247672253258845), ('rural', 0.015702048417132217), ('record', 0.014365522745411013), ('centr', 0.014116520351157222), ('time', 0.013352487363660548), ('break', 0.013205639797818568), ('countri', 0.012837456770417664), ('melbourn', 0.012394785847299814), ('adelaid', 0.01231391327480713)]\n",
      "Topic: 3 \n",
      "Words: [('kill', 0.030730335672387754), ('crash', 0.027380286860966715), ('warn', 0.027065307178199233), ('attack', 0.019718562524510007), ('coast', 0.01779948101360879), ('flood', 0.016950496040851405), ('road', 0.0164978431192584), ('die', 0.01617034768750678), ('dead', 0.01527129971881284), ('gold', 0.013033066608816094)]\n",
      "Topic: 4 \n",
      "Words: [('govt', 0.03259986593354731), ('urg', 0.027895010514401703), ('fund', 0.02753165283888846), ('health', 0.02167407651811463), ('hospit', 0.01927675116472841), ('boost', 0.017986204937905516), ('servic', 0.017075722486619458), ('minist', 0.01673533569863866), ('worker', 0.016006532085109226), ('work', 0.01547820167186296)]\n",
      "Topic: 5 \n",
      "Words: [('plan', 0.04696682613292577), ('council', 0.03906539512389168), ('chang', 0.02277471290839239), ('concern', 0.015775644582160016), ('green', 0.015315041820637098), ('group', 0.01356475132685), ('consid', 0.012486522135103165), ('back', 0.011605095941461576), ('reject', 0.011579972154469417), ('mayor', 0.010928847341589288)]\n",
      "Topic: 6 \n",
      "Words: [('open', 0.021472417611045982), ('world', 0.018492738048716945), ('test', 0.016876709652207892), ('win', 0.016565308714341538), ('final', 0.015814282923016804), ('lead', 0.014886186010160219), ('australia', 0.014725397290608311), ('lose', 0.012366484303764491), ('aussi', 0.010998762537449525), ('play', 0.009055050801094177)]\n",
      "Topic: 7 \n",
      "Words: [('polic', 0.07332178011361566), ('charg', 0.039044753879978786), ('court', 0.03390046685265191), ('death', 0.02725804035258915), ('face', 0.02701104979086783), ('murder', 0.022615832499908898), ('jail', 0.020722913030979093), ('accus', 0.01899195458612885), ('woman', 0.018228713260153944), ('drug', 0.017775222392731188)]\n",
      "Topic: 8 \n",
      "Words: [('report', 0.029005448724743994), ('school', 0.0176564123221744), ('claim', 0.015936989844594737), ('famili', 0.01330167277969767), ('fight', 0.012996374583925201), ('victim', 0.012504505268514004), ('releas', 0.01068119659931732), ('student', 0.010214768800220493), ('abus', 0.009657175567663833), ('studi', 0.009542688744249158)]\n",
      "Topic: 9 \n",
      "Words: [('water', 0.02542838483626525), ('market', 0.019619144370613784), ('rise', 0.01904900121284999), ('hous', 0.017890055666704676), ('farmer', 0.01665854644593488), ('power', 0.01569241294950605), ('price', 0.015536919361025013), ('busi', 0.01446505022442908), ('high', 0.013310251173976592), ('fall', 0.012070448961821141)]\n",
      "\n"
     ]
    }
   ],
   "source": [
    "# For each topic, we will explore the words occuring in that topic and its relative weight.\n",
    "for idx, topic in ldamallet.show_topics(formatted=False):\n",
    "    print('Topic: {} \\nWords: {}'.format(idx, topic))\n",
    "print()"
   ]
  },
  {
   "cell_type": "code",
   "execution_count": 23,
   "metadata": {},
   "outputs": [
    {
     "name": "stdout",
     "output_type": "stream",
     "text": [
      "\n",
      "Coherence Score:  0.24432629110868823\n"
     ]
    }
   ],
   "source": [
    "# Compute Perplexity\n",
    "# print('\\nPerplexity: ', ldamallet.log_perplexity(bow_corpus))  # a measure of how good the model is. lower the better.\n",
    "\n",
    "# Compute Coherence Score\n",
    "coherence_model_ldamallet = CoherenceModel(model=ldamallet, texts=processed_docs, dictionary=dictionary, coherence='c_v')\n",
    "coherence_ldamallet = coherence_model_ldamallet.get_coherence()\n",
    "print('\\nCoherence Score: ', coherence_ldamallet)"
   ]
  },
  {
   "cell_type": "code",
   "execution_count": 25,
   "metadata": {},
   "outputs": [],
   "source": [
    "# Visualize the topics\n",
    "# pyLDAvis.enable_notebook()\n",
    "# vis = pyLDAvis.gensim.prepare(ldamallet, bow_corpus, dictionary)\n",
    "# vis"
   ]
  },
  {
   "cell_type": "markdown",
   "metadata": {},
   "source": [
    "## LDA using TF-IDF"
   ]
  },
  {
   "cell_type": "markdown",
   "metadata": {},
   "source": [
    "### Building LdaMulticore Model"
   ]
  },
  {
   "cell_type": "code",
   "execution_count": 26,
   "metadata": {},
   "outputs": [],
   "source": [
    "# Train our lda model using gensim.models.LdaMulticore and save it to ‘lda_model’\n",
    "lda_model_tf_idf = gensim.models.LdaMulticore(corpus_tfidf, num_topics=10, id2word=dictionary, passes=2, workers=2)"
   ]
  },
  {
   "cell_type": "code",
   "execution_count": 27,
   "metadata": {},
   "outputs": [
    {
     "name": "stdout",
     "output_type": "stream",
     "text": [
      "Topic: 0 \n",
      "Words: 0.018*\"tasmania\" + 0.011*\"street\" + 0.009*\"sexual\" + 0.007*\"coal\" + 0.007*\"intern\" + 0.006*\"insid\" + 0.006*\"fire\" + 0.005*\"tree\" + 0.005*\"light\" + 0.005*\"giant\"\n",
      "Topic: 1 \n",
      "Words: 0.010*\"health\" + 0.008*\"mother\" + 0.008*\"michael\" + 0.007*\"aborigin\" + 0.007*\"mental\" + 0.007*\"juli\" + 0.007*\"quiz\" + 0.007*\"care\" + 0.006*\"action\" + 0.006*\"grand\"\n",
      "Topic: 2 \n",
      "Words: 0.012*\"abus\" + 0.010*\"child\" + 0.010*\"commiss\" + 0.009*\"children\" + 0.008*\"sport\" + 0.007*\"damag\" + 0.007*\"cricket\" + 0.007*\"ash\" + 0.007*\"appeal\" + 0.006*\"parent\"\n",
      "Topic: 3 \n",
      "Words: 0.013*\"market\" + 0.011*\"govern\" + 0.010*\"share\" + 0.008*\"price\" + 0.007*\"bank\" + 0.007*\"fund\" + 0.006*\"australian\" + 0.006*\"rugbi\" + 0.006*\"rat\" + 0.006*\"dollar\"\n",
      "Topic: 4 \n",
      "Words: 0.012*\"royal\" + 0.010*\"violenc\" + 0.010*\"christma\" + 0.008*\"domest\" + 0.008*\"state\" + 0.008*\"grandstand\" + 0.008*\"refuge\" + 0.007*\"islam\" + 0.007*\"histori\" + 0.007*\"great\"\n",
      "Topic: 5 \n",
      "Words: 0.013*\"turnbul\" + 0.008*\"malcolm\" + 0.007*\"final\" + 0.007*\"world\" + 0.006*\"miss\" + 0.006*\"shark\" + 0.006*\"septemb\" + 0.006*\"peter\" + 0.006*\"young\" + 0.006*\"march\"\n",
      "Topic: 6 \n",
      "Words: 0.022*\"countri\" + 0.019*\"hour\" + 0.017*\"donald\" + 0.011*\"marriag\" + 0.010*\"podcast\" + 0.009*\"energi\" + 0.008*\"hill\" + 0.007*\"right\" + 0.006*\"long\" + 0.006*\"billion\"\n",
      "Topic: 7 \n",
      "Words: 0.017*\"rural\" + 0.017*\"live\" + 0.013*\"drum\" + 0.013*\"news\" + 0.010*\"hobart\" + 0.008*\"farm\" + 0.008*\"weather\" + 0.007*\"nation\" + 0.007*\"northern\" + 0.007*\"novemb\"\n",
      "Topic: 8 \n",
      "Words: 0.017*\"charg\" + 0.017*\"polic\" + 0.014*\"woman\" + 0.014*\"murder\" + 0.014*\"crash\" + 0.012*\"shoot\" + 0.011*\"death\" + 0.010*\"alleg\" + 0.010*\"die\" + 0.009*\"interview\"\n",
      "Topic: 9 \n",
      "Words: 0.030*\"trump\" + 0.013*\"queensland\" + 0.013*\"elect\" + 0.010*\"australia\" + 0.008*\"north\" + 0.008*\"south\" + 0.008*\"korea\" + 0.008*\"leagu\" + 0.007*\"liber\" + 0.006*\"david\"\n"
     ]
    }
   ],
   "source": [
    "# For each topic, we will explore the words occuring in that topic and its relative weight.\n",
    "for idx, topic in lda_model_tf_idf.print_topics(-1):\n",
    "    print('Topic: {} \\nWords: {}'.format(idx, topic))"
   ]
  },
  {
   "cell_type": "code",
   "execution_count": 28,
   "metadata": {},
   "outputs": [
    {
     "name": "stdout",
     "output_type": "stream",
     "text": [
      "\n",
      "Perplexity:  -10.019154856229479\n",
      "\n",
      "Coherence Score:  0.37255007302290766\n"
     ]
    }
   ],
   "source": [
    "# Compute Perplexity\n",
    "print('\\nPerplexity: ', lda_model_tf_idf.log_perplexity(corpus_tfidf))  # a measure of how good the model is. lower the better.\n",
    "\n",
    "# Compute Coherence Score\n",
    "coherence_model_lda = CoherenceModel(model=lda_model_tf_idf, texts=processed_docs, dictionary=dictionary, coherence='c_v')\n",
    "coherence_lda = coherence_model_lda.get_coherence()\n",
    "print('\\nCoherence Score: ', coherence_lda)"
   ]
  },
  {
   "cell_type": "code",
   "execution_count": 29,
   "metadata": {},
   "outputs": [
    {
     "name": "stderr",
     "output_type": "stream",
     "text": [
      "/Library/Frameworks/Python.framework/Versions/3.7/lib/python3.7/site-packages/pyLDAvis/_prepare.py:257: FutureWarning: Sorting because non-concatenation axis is not aligned. A future version\n",
      "of pandas will change to not sort by default.\n",
      "\n",
      "To accept the future behavior, pass 'sort=False'.\n",
      "\n",
      "To retain the current behavior and silence the warning, pass 'sort=True'.\n",
      "\n",
      "  return pd.concat([default_term_info] + list(topic_dfs))\n"
     ]
    },
    {
     "data": {
      "text/html": [
       "\n",
       "<link rel=\"stylesheet\" type=\"text/css\" href=\"https://cdn.rawgit.com/bmabey/pyLDAvis/files/ldavis.v1.0.0.css\">\n",
       "\n",
       "\n",
       "<div id=\"ldavis_el79055948560888805571817\"></div>\n",
       "<script type=\"text/javascript\">\n",
       "\n",
       "var ldavis_el79055948560888805571817_data = {\"mdsDat\": {\"x\": [-0.15526483783605124, 0.33637715389410305, 0.033806103940312124, -0.07773747224463583, -0.15011849780444628, -0.07199771918737938, 0.09738514393154891, 0.05537043031501579, -0.12279806925653361, 0.05497776424806675], \"y\": [-0.0966449877356536, -0.137317719009876, 0.23728207981033564, 0.20393595230735542, -0.09337998393197713, -0.09080215268785201, 0.16061500700488218, -0.09280375132024991, -0.0728723274809548, -0.01801211695600998], \"topics\": [1, 2, 3, 4, 5, 6, 7, 8, 9, 10], \"cluster\": [1, 1, 1, 1, 1, 1, 1, 1, 1, 1], \"Freq\": [12.662148475646973, 11.495033264160156, 10.092024803161621, 10.055312156677246, 9.73082447052002, 9.424885749816895, 9.35330867767334, 9.184209823608398, 9.133299827575684, 8.868953704833984]}, \"tinfo\": {\"Category\": [\"Default\", \"Default\", \"Default\", \"Default\", \"Default\", \"Default\", \"Default\", \"Default\", \"Default\", \"Default\", \"Default\", \"Default\", \"Default\", \"Default\", \"Default\", \"Default\", \"Default\", \"Default\", \"Default\", \"Default\", \"Default\", \"Default\", \"Default\", \"Default\", \"Default\", \"Default\", \"Default\", \"Default\", \"Default\", \"Default\", \"Topic1\", \"Topic1\", \"Topic1\", \"Topic1\", \"Topic1\", \"Topic1\", \"Topic1\", \"Topic1\", \"Topic1\", \"Topic1\", \"Topic1\", \"Topic1\", \"Topic1\", \"Topic1\", \"Topic1\", \"Topic1\", \"Topic1\", \"Topic1\", \"Topic1\", \"Topic1\", \"Topic1\", \"Topic1\", \"Topic1\", \"Topic1\", \"Topic1\", \"Topic1\", \"Topic1\", \"Topic1\", \"Topic1\", \"Topic1\", \"Topic1\", \"Topic1\", \"Topic1\", \"Topic1\", \"Topic1\", \"Topic1\", \"Topic1\", \"Topic1\", \"Topic1\", \"Topic1\", \"Topic1\", \"Topic1\", \"Topic1\", \"Topic1\", \"Topic1\", \"Topic1\", \"Topic1\", \"Topic1\", \"Topic1\", \"Topic1\", \"Topic1\", \"Topic1\", \"Topic1\", \"Topic1\", \"Topic1\", \"Topic1\", \"Topic1\", \"Topic1\", \"Topic1\", \"Topic1\", \"Topic2\", \"Topic2\", \"Topic2\", \"Topic2\", \"Topic2\", \"Topic2\", \"Topic2\", \"Topic2\", \"Topic2\", \"Topic2\", \"Topic2\", \"Topic2\", \"Topic2\", \"Topic2\", \"Topic2\", \"Topic2\", \"Topic2\", \"Topic2\", \"Topic2\", \"Topic2\", \"Topic2\", \"Topic2\", \"Topic2\", \"Topic2\", \"Topic2\", \"Topic2\", \"Topic2\", \"Topic2\", \"Topic2\", \"Topic2\", \"Topic2\", \"Topic2\", \"Topic2\", \"Topic2\", \"Topic2\", \"Topic2\", \"Topic2\", \"Topic2\", \"Topic2\", \"Topic2\", \"Topic2\", \"Topic2\", \"Topic2\", \"Topic2\", \"Topic2\", \"Topic2\", \"Topic2\", \"Topic2\", \"Topic2\", \"Topic2\", \"Topic3\", \"Topic3\", \"Topic3\", \"Topic3\", \"Topic3\", \"Topic3\", \"Topic3\", \"Topic3\", \"Topic3\", \"Topic3\", \"Topic3\", \"Topic3\", \"Topic3\", \"Topic3\", \"Topic3\", \"Topic3\", \"Topic3\", \"Topic3\", \"Topic3\", \"Topic3\", \"Topic3\", \"Topic3\", \"Topic3\", \"Topic3\", \"Topic3\", \"Topic3\", \"Topic3\", \"Topic3\", \"Topic3\", \"Topic3\", \"Topic3\", \"Topic3\", \"Topic3\", \"Topic3\", \"Topic3\", \"Topic3\", \"Topic3\", \"Topic3\", \"Topic3\", \"Topic3\", \"Topic3\", \"Topic3\", \"Topic3\", \"Topic3\", \"Topic3\", \"Topic3\", \"Topic3\", \"Topic4\", \"Topic4\", \"Topic4\", \"Topic4\", \"Topic4\", \"Topic4\", \"Topic4\", \"Topic4\", \"Topic4\", \"Topic4\", \"Topic4\", \"Topic4\", \"Topic4\", \"Topic4\", \"Topic4\", \"Topic4\", \"Topic4\", \"Topic4\", \"Topic4\", \"Topic4\", \"Topic4\", \"Topic4\", \"Topic4\", \"Topic4\", \"Topic4\", \"Topic4\", \"Topic4\", \"Topic4\", \"Topic4\", \"Topic4\", \"Topic4\", \"Topic4\", \"Topic4\", \"Topic4\", \"Topic4\", \"Topic4\", \"Topic4\", \"Topic4\", \"Topic4\", \"Topic4\", \"Topic4\", \"Topic4\", \"Topic4\", \"Topic4\", \"Topic4\", \"Topic5\", \"Topic5\", \"Topic5\", \"Topic5\", \"Topic5\", \"Topic5\", \"Topic5\", \"Topic5\", \"Topic5\", \"Topic5\", \"Topic5\", \"Topic5\", \"Topic5\", \"Topic5\", \"Topic5\", \"Topic5\", \"Topic5\", \"Topic5\", \"Topic5\", \"Topic5\", \"Topic5\", \"Topic5\", \"Topic5\", \"Topic5\", \"Topic5\", \"Topic5\", \"Topic5\", \"Topic5\", \"Topic5\", \"Topic5\", \"Topic5\", \"Topic5\", \"Topic5\", \"Topic5\", \"Topic5\", \"Topic5\", \"Topic5\", \"Topic5\", \"Topic5\", \"Topic5\", \"Topic5\", \"Topic5\", \"Topic6\", \"Topic6\", \"Topic6\", \"Topic6\", \"Topic6\", \"Topic6\", \"Topic6\", \"Topic6\", \"Topic6\", \"Topic6\", \"Topic6\", \"Topic6\", \"Topic6\", \"Topic6\", \"Topic6\", \"Topic6\", \"Topic6\", \"Topic6\", \"Topic6\", \"Topic6\", \"Topic6\", \"Topic6\", \"Topic6\", \"Topic6\", \"Topic6\", \"Topic6\", \"Topic6\", \"Topic6\", \"Topic6\", \"Topic6\", \"Topic6\", \"Topic6\", \"Topic6\", \"Topic6\", \"Topic6\", \"Topic6\", \"Topic6\", \"Topic6\", \"Topic6\", \"Topic6\", \"Topic6\", \"Topic6\", \"Topic6\", \"Topic7\", \"Topic7\", \"Topic7\", \"Topic7\", \"Topic7\", \"Topic7\", \"Topic7\", \"Topic7\", \"Topic7\", \"Topic7\", \"Topic7\", \"Topic7\", \"Topic7\", \"Topic7\", \"Topic7\", \"Topic7\", \"Topic7\", \"Topic7\", \"Topic7\", \"Topic7\", \"Topic7\", \"Topic7\", \"Topic7\", \"Topic7\", \"Topic7\", \"Topic7\", \"Topic7\", \"Topic7\", \"Topic7\", \"Topic7\", \"Topic7\", \"Topic7\", \"Topic7\", \"Topic7\", \"Topic7\", \"Topic7\", \"Topic7\", \"Topic7\", \"Topic7\", \"Topic7\", \"Topic8\", \"Topic8\", \"Topic8\", \"Topic8\", \"Topic8\", \"Topic8\", \"Topic8\", \"Topic8\", \"Topic8\", \"Topic8\", \"Topic8\", \"Topic8\", \"Topic8\", \"Topic8\", \"Topic8\", \"Topic8\", \"Topic8\", \"Topic8\", \"Topic8\", \"Topic8\", \"Topic8\", \"Topic8\", \"Topic8\", \"Topic8\", \"Topic8\", \"Topic8\", \"Topic8\", \"Topic8\", \"Topic8\", \"Topic8\", \"Topic8\", \"Topic8\", \"Topic8\", \"Topic8\", \"Topic8\", \"Topic8\", \"Topic8\", \"Topic8\", \"Topic8\", \"Topic9\", \"Topic9\", \"Topic9\", \"Topic9\", \"Topic9\", \"Topic9\", \"Topic9\", \"Topic9\", \"Topic9\", \"Topic9\", \"Topic9\", \"Topic9\", \"Topic9\", \"Topic9\", \"Topic9\", \"Topic9\", \"Topic9\", \"Topic9\", \"Topic9\", \"Topic9\", \"Topic9\", \"Topic9\", \"Topic9\", \"Topic9\", \"Topic9\", \"Topic9\", \"Topic9\", \"Topic9\", \"Topic9\", \"Topic9\", \"Topic9\", \"Topic9\", \"Topic9\", \"Topic9\", \"Topic9\", \"Topic10\", \"Topic10\", \"Topic10\", \"Topic10\", \"Topic10\", \"Topic10\", \"Topic10\", \"Topic10\", \"Topic10\", \"Topic10\", \"Topic10\", \"Topic10\", \"Topic10\", \"Topic10\", \"Topic10\", \"Topic10\", \"Topic10\", \"Topic10\", \"Topic10\", \"Topic10\", \"Topic10\", \"Topic10\", \"Topic10\", \"Topic10\", \"Topic10\", \"Topic10\", \"Topic10\", \"Topic10\", \"Topic10\", \"Topic10\", \"Topic10\", \"Topic10\", \"Topic10\", \"Topic10\"], \"Freq\": [6886.0, 4496.0, 3946.0, 3747.0, 3567.0, 3505.0, 5239.0, 4205.0, 3706.0, 3531.0, 4082.0, 4032.0, 2908.0, 3051.0, 2828.0, 2756.0, 5194.0, 2892.0, 2466.0, 2386.0, 3390.0, 2259.0, 2222.0, 3375.0, 2179.0, 7248.0, 2103.0, 3411.0, 2027.0, 1977.0, 2891.610107421875, 1764.700927734375, 1727.0128173828125, 1306.454833984375, 1301.3426513671875, 1161.396728515625, 1089.481201171875, 1071.8265380859375, 1004.6859741210938, 922.2296752929688, 903.307861328125, 882.7653198242188, 872.7416381835938, 864.9501342773438, 854.08251953125, 853.8432006835938, 833.7045288085938, 801.4326171875, 800.619140625, 772.7760620117188, 768.6669921875, 759.9595947265625, 743.325927734375, 730.6700439453125, 726.2180786132812, 722.1130981445312, 721.551025390625, 706.1587524414062, 700.9188232421875, 698.382080078125, 1270.900634765625, 3598.2578125, 909.02734375, 1701.0435791015625, 1524.79443359375, 910.78564453125, 2182.955810546875, 1901.2872314453125, 1684.9420166015625, 1361.521728515625, 1298.2802734375, 3256.091064453125, 1461.9588623046875, 1099.4493408203125, 1848.9354248046875, 1038.787353515625, 1519.8125, 1020.1445922851562, 1399.42138671875, 1538.1507568359375, 1131.5572509765625, 1308.9019775390625, 1068.7269287109375, 1829.806396484375, 1275.60888671875, 1322.679443359375, 1161.5836181640625, 1235.45458984375, 1141.0699462890625, 1138.9444580078125, 3705.64404296875, 3530.35595703125, 3050.13134765625, 2160.032470703125, 2073.4853515625, 1947.33544921875, 1632.984375, 1631.9228515625, 1629.12109375, 1509.60009765625, 1483.301513671875, 1454.6116943359375, 1431.299072265625, 1379.60888671875, 1377.9154052734375, 1243.69287109375, 1070.4833984375, 1067.69970703125, 984.7645263671875, 947.1808471679688, 2119.7431640625, 859.9381103515625, 840.4417724609375, 809.2778930664062, 789.6784057617188, 765.920654296875, 739.3587646484375, 735.6405639648438, 735.5751953125, 713.0292358398438, 966.9375, 1283.38330078125, 3651.96728515625, 4475.34619140625, 2319.084228515625, 2683.55078125, 2488.72607421875, 4416.84765625, 2439.763671875, 2823.94580078125, 1897.8291015625, 2001.5819091796875, 1797.2872314453125, 1735.7271728515625, 2180.6748046875, 1686.10986328125, 1835.942626953125, 1714.138427734375, 1475.53271484375, 1504.4117431640625, 2907.640625, 1722.32275390625, 1317.9295654296875, 1317.446533203125, 1271.427490234375, 1101.7972412109375, 1098.7269287109375, 1089.6160888671875, 963.7612915039062, 885.7223510742188, 885.5021362304688, 874.4238891601562, 858.591064453125, 849.7565307617188, 849.9456176757812, 904.8218994140625, 821.7232666015625, 811.8984985351562, 807.608154296875, 798.951171875, 789.2742309570312, 787.9302978515625, 778.893798828125, 768.6285400390625, 766.7513427734375, 764.6981201171875, 762.1904907226562, 743.254150390625, 733.5724487304688, 707.0745849609375, 1365.582275390625, 1313.7799072265625, 1216.320556640625, 1625.4552001953125, 1264.2384033203125, 1404.5067138671875, 893.9857177734375, 1617.2425537109375, 892.7344970703125, 1156.4324951171875, 1082.9814453125, 932.7311401367188, 965.9096069335938, 1107.7132568359375, 1206.3472900390625, 1194.735107421875, 860.2600708007812, 6886.03515625, 1816.244384765625, 1458.0001220703125, 1435.257080078125, 1352.1739501953125, 1236.7901611328125, 1227.55224609375, 1227.13427734375, 1194.547119140625, 1184.91259765625, 1176.430908203125, 1162.721923828125, 1100.8924560546875, 1097.9476318359375, 1066.020751953125, 920.1663818359375, 908.0726928710938, 890.769287109375, 879.9424438476562, 877.8325805664062, 845.4168090820312, 840.1739501953125, 789.2553100585938, 771.348876953125, 763.5845336914062, 740.9309692382812, 738.4212646484375, 705.3348999023438, 697.7444458007812, 682.0634155273438, 1210.3585205078125, 1578.3406982421875, 1757.3018798828125, 2944.92431640625, 2853.740478515625, 1272.8851318359375, 1886.6136474609375, 1004.5911865234375, 1876.394775390625, 1188.1904296875, 2368.73583984375, 1008.7395629882812, 1109.43994140625, 1269.052734375, 950.0838623046875, 3747.078369140625, 2827.976806640625, 2755.18896484375, 2103.036865234375, 1769.161865234375, 1448.5032958984375, 1294.8521728515625, 1195.37646484375, 1193.99365234375, 1147.9337158203125, 1112.39501953125, 1021.8778686523438, 988.7320556640625, 975.198974609375, 974.2518310546875, 943.908447265625, 936.8967895507812, 917.5321044921875, 878.3369750976562, 859.7443237304688, 844.2791748046875, 786.3507690429688, 772.8492431640625, 763.4746704101562, 761.89599609375, 760.3060913085938, 750.0023803710938, 743.3092041015625, 739.2069091796875, 718.2150268554688, 1469.011962890625, 3752.1455078125, 1220.361328125, 1797.286865234375, 939.3651123046875, 1404.8377685546875, 801.1534423828125, 1479.8648681640625, 1116.8270263671875, 1085.9974365234375, 1109.341796875, 984.398193359375, 1703.9288330078125, 1649.751708984375, 1542.0345458984375, 1507.698974609375, 1466.2855224609375, 1437.211669921875, 1329.266357421875, 1311.9573974609375, 1244.1934814453125, 1166.4749755859375, 1139.5457763671875, 1138.650146484375, 1010.974365234375, 980.8672485351562, 979.5557250976562, 977.779296875, 932.47021484375, 908.7239379882812, 856.285400390625, 803.57373046875, 801.361328125, 793.9506225585938, 779.702880859375, 770.0663452148438, 769.0139770507812, 764.9149780273438, 757.954833984375, 759.2437744140625, 718.8146362304688, 710.4205322265625, 787.2973022460938, 729.8576049804688, 1360.769775390625, 1564.0755615234375, 2086.87451171875, 1300.3018798828125, 1063.42919921875, 1250.87841796875, 1098.68505859375, 1038.00048828125, 1052.5648193359375, 854.1083984375, 888.8753662109375, 2465.124267578125, 2178.110595703125, 2026.9754638671875, 1666.5072021484375, 1615.71142578125, 1555.2261962890625, 1513.7099609375, 1497.5203857421875, 1456.2421875, 1433.571044921875, 1354.07421875, 1219.546875, 1143.701416015625, 1127.0684814453125, 1100.5865478515625, 1065.3076171875, 1055.9661865234375, 930.9781494140625, 909.7484130859375, 869.9209594726562, 853.6213989257812, 833.4987182617188, 827.6122436523438, 824.5487060546875, 811.589111328125, 809.2841796875, 808.7273559570312, 775.98876953125, 771.4122314453125, 754.9270629882812, 943.6784057617188, 1412.1065673828125, 1578.88232421875, 1015.8416137695312, 1617.869384765625, 1180.5872802734375, 952.99365234375, 1101.90087890625, 949.6161499023438, 1006.8438720703125, 2385.4873046875, 1970.5174560546875, 1711.3956298828125, 1509.05126953125, 1444.741943359375, 1329.788330078125, 1324.87841796875, 1277.428955078125, 1088.8970947265625, 1063.2042236328125, 1053.656982421875, 1038.1905517578125, 1026.0921630859375, 1006.8098754882812, 978.1693115234375, 970.8226318359375, 955.1868896484375, 948.4236450195312, 943.2181396484375, 940.8216552734375, 934.365966796875, 911.8250732421875, 866.4334716796875, 855.3890991210938, 798.3432006835938, 781.7084350585938, 770.2738647460938, 764.9951171875, 746.0778198242188, 744.6915893554688, 957.2125854492188, 1350.6927490234375, 1495.892578125, 2114.821044921875, 1940.9525146484375, 988.4226684570312, 998.1325073242188, 918.3106689453125, 919.9835205078125, 4496.02392578125, 3945.4658203125, 3566.149169921875, 2258.60205078125, 1976.1712646484375, 1875.6746826171875, 1730.6884765625, 1401.15771484375, 1154.1041259765625, 1134.3818359375, 1129.725341796875, 1106.2095947265625, 1103.060302734375, 1100.169677734375, 1081.0770263671875, 1070.0853271484375, 971.67041015625, 925.3428955078125, 898.83203125, 826.9803466796875, 783.5574340820312, 777.2243041992188, 776.1654663085938, 775.7991333007812, 774.7928466796875, 759.0042724609375, 757.6572265625, 724.5529174804688, 722.4027709960938, 707.698974609375, 894.4533081054688, 899.0428466796875, 761.5491333007812, 820.0364990234375, 767.05712890625, 3504.586669921875, 2221.6640625, 1745.3511962890625, 1484.1832275390625, 1398.6827392578125, 1232.5045166015625, 1213.9794921875, 1094.8367919921875, 1060.9107666015625, 1055.052978515625, 1009.1920166015625, 1006.0300903320312, 933.5546264648438, 910.761474609375, 908.8270263671875, 899.0775756835938, 880.6968383789062, 877.0932006835938, 871.38134765625, 869.7489624023438, 863.665283203125, 841.73828125, 833.2953491210938, 827.246826171875, 824.9495239257812, 812.6717529296875, 786.7007446289062, 784.41552734375, 779.3880004882812, 764.5736694335938, 839.482666015625, 1089.081787109375, 910.0545043945312, 876.8005981445312], \"Term\": [\"trump\", \"countri\", \"hour\", \"live\", \"donald\", \"tasmania\", \"charg\", \"rural\", \"woman\", \"crash\", \"murder\", \"market\", \"turnbul\", \"shoot\", \"drum\", \"news\", \"queensland\", \"share\", \"royal\", \"abus\", \"interview\", \"marriag\", \"street\", \"alleg\", \"violenc\", \"polic\", \"hobart\", \"die\", \"christma\", \"podcast\", \"share\", \"rugbi\", \"rat\", \"decemb\", \"airport\", \"georg\", \"april\", \"properti\", \"profit\", \"joyc\", \"invest\", \"york\", \"econom\", \"financi\", \"economi\", \"renew\", \"watch\", \"moment\", \"stephen\", \"growth\", \"higher\", \"board\", \"stock\", \"kangaroo\", \"worri\", \"unveil\", \"boom\", \"agricultur\", \"stream\", \"fake\", \"murray\", \"market\", \"spend\", \"dollar\", \"job\", \"improv\", \"price\", \"bank\", \"region\", \"local\", \"cut\", \"govern\", \"public\", \"number\", \"fund\", \"educ\", \"busi\", \"drought\", \"budget\", \"rise\", \"sale\", \"million\", \"boost\", \"australian\", \"council\", \"plan\", \"feder\", \"say\", \"power\", \"hous\", \"woman\", \"crash\", \"shoot\", \"assault\", \"guilti\", \"john\", \"fatal\", \"girl\", \"stab\", \"teen\", \"drive\", \"plead\", \"climat\", \"terror\", \"truck\", \"wednesday\", \"scott\", \"plane\", \"syrian\", \"bail\", \"driver\", \"attempt\", \"bali\", \"veteran\", \"accid\", \"drink\", \"compens\", \"coupl\", \"bash\", \"traffic\", \"escap\", \"inquest\", \"murder\", \"charg\", \"arrest\", \"alleg\", \"die\", \"polic\", \"interview\", \"death\", \"investig\", \"jail\", \"drug\", \"accus\", \"court\", \"kill\", \"sydney\", \"attack\", \"dead\", \"melbourn\", \"turnbul\", \"malcolm\", \"septemb\", \"peter\", \"march\", \"disabl\", \"toni\", \"jam\", \"london\", \"socceroo\", \"femal\", \"dog\", \"wast\", \"footbal\", \"pari\", \"fan\", \"love\", \"steve\", \"nick\", \"day\", \"volunt\", \"survivor\", \"person\", \"success\", \"wallabi\", \"episod\", \"man\", \"dump\", \"spot\", \"treatment\", \"shark\", \"young\", \"bodi\", \"final\", \"search\", \"miss\", \"best\", \"world\", \"black\", \"open\", \"peopl\", \"star\", \"beat\", \"adelaid\", \"australian\", \"australia\", \"sydney\", \"trump\", \"korea\", \"david\", \"stori\", \"octob\", \"abbott\", \"know\", \"friday\", \"russia\", \"monday\", \"zealand\", \"teenag\", \"august\", \"univers\", \"june\", \"candid\", \"clinton\", \"reform\", \"fiji\", \"wrap\", \"obama\", \"learn\", \"chris\", \"think\", \"seri\", \"poll\", \"refus\", \"reserv\", \"winner\", \"surf\", \"cyclon\", \"liber\", \"leagu\", \"queensland\", \"elect\", \"parti\", \"north\", \"kid\", \"south\", \"presid\", \"australia\", \"western\", \"test\", \"say\", \"labor\", \"live\", \"drum\", \"news\", \"hobart\", \"weather\", \"novemb\", \"tuesday\", \"footag\", \"blog\", \"month\", \"dairi\", \"export\", \"homeless\", \"wind\", \"wild\", \"photo\", \"data\", \"capit\", \"diseas\", \"anzac\", \"territori\", \"evacu\", \"bendigo\", \"grower\", \"sunshin\", \"kimberley\", \"championship\", \"killer\", \"commonwealth\", \"mackay\", \"northern\", \"rural\", \"cattl\", \"farm\", \"pacif\", \"island\", \"crop\", \"nation\", \"farmer\", \"victorian\", \"coast\", \"queensland\", \"mother\", \"michael\", \"mental\", \"juli\", \"quiz\", \"care\", \"grand\", \"white\", \"mount\", \"resign\", \"patient\", \"father\", \"drone\", \"age\", \"robert\", \"solar\", \"line\", \"nurs\", \"elder\", \"wait\", \"perform\", \"disput\", \"card\", \"sunday\", \"whale\", \"mean\", \"daughter\", \"check\", \"commission\", \"class\", \"secret\", \"dont\", \"action\", \"aborigin\", \"health\", \"video\", \"legal\", \"celebr\", \"polit\", \"program\", \"say\", \"newcastl\", \"hospit\", \"royal\", \"violenc\", \"christma\", \"domest\", \"grandstand\", \"islam\", \"histori\", \"great\", \"syria\", \"andrew\", \"social\", \"asylum\", \"seeker\", \"citizenship\", \"origin\", \"southern\", \"travel\", \"philippin\", \"creek\", \"space\", \"surviv\", \"soldier\", \"marin\", \"depart\", \"turkey\", \"respond\", \"adani\", \"myanmar\", \"richard\", \"backpack\", \"extend\", \"speak\", \"refuge\", \"outback\", \"state\", \"kill\", \"mark\", \"australia\", \"interview\", \"say\", \"abus\", \"commiss\", \"sport\", \"damag\", \"ash\", \"parent\", \"explain\", \"thursday\", \"detent\", \"artist\", \"hunt\", \"facebook\", \"donat\", \"happen\", \"approv\", \"church\", \"pass\", \"paul\", \"lawyer\", \"safe\", \"memori\", \"remot\", \"pay\", \"member\", \"evid\", \"hanson\", \"import\", \"corrupt\", \"judg\", \"electr\", \"danger\", \"appeal\", \"cricket\", \"child\", \"children\", \"law\", \"life\", \"court\", \"govern\", \"countri\", \"hour\", \"donald\", \"marriag\", \"podcast\", \"energi\", \"hill\", \"right\", \"long\", \"billion\", \"film\", \"track\", \"music\", \"shorten\", \"human\", \"rate\", \"spring\", \"manus\", \"cultur\", \"justic\", \"rape\", \"exhibit\", \"palmer\", \"friend\", \"bishop\", \"apologis\", \"debt\", \"matthew\", \"deliv\", \"cctv\", \"result\", \"festiv\", \"respons\", \"break\", \"island\", \"tasmania\", \"street\", \"sexual\", \"coal\", \"intern\", \"insid\", \"fire\", \"tree\", \"giant\", \"rememb\", \"valley\", \"onlin\", \"william\", \"histor\", \"walk\", \"run\", \"destroy\", \"updat\", \"seat\", \"firefight\", \"daniel\", \"scienc\", \"explos\", \"camp\", \"block\", \"migrant\", \"adam\", \"car\", \"tri\", \"event\", \"collaps\", \"light\", \"flight\", \"sell\"], \"Total\": [6886.0, 4496.0, 3946.0, 3747.0, 3567.0, 3505.0, 5239.0, 4205.0, 3706.0, 3531.0, 4082.0, 4032.0, 2908.0, 3051.0, 2828.0, 2756.0, 5194.0, 2892.0, 2466.0, 2386.0, 3390.0, 2259.0, 2222.0, 3375.0, 2179.0, 7248.0, 2103.0, 3411.0, 2027.0, 1977.0, 2892.506103515625, 1765.595947265625, 1727.9080810546875, 1307.349853515625, 1302.2379150390625, 1162.2919921875, 1090.376220703125, 1072.7215576171875, 1005.5809936523438, 923.124755859375, 904.2028198242188, 883.6604614257812, 873.6366577148438, 865.84521484375, 854.9776000976562, 854.7391357421875, 834.5997314453125, 802.3277587890625, 801.5142211914062, 773.6710205078125, 769.56201171875, 760.8546752929688, 744.2210083007812, 731.5651245117188, 727.1131591796875, 723.0081787109375, 722.4461059570312, 707.0537109375, 701.81396484375, 699.2772827148438, 1272.6622314453125, 4032.12451171875, 928.2843627929688, 1944.970458984375, 1715.58203125, 954.5657958984375, 2745.45263671875, 2404.9951171875, 2083.310546875, 1609.8370361328125, 1614.2437744140625, 6253.1611328125, 1939.1826171875, 1298.306396484375, 3018.311767578125, 1184.8367919921875, 2506.83642578125, 1192.442138671875, 2322.8017578125, 2868.779052734375, 1567.2685546875, 2280.3896484375, 1397.16064453125, 7761.2978515625, 2987.404296875, 3708.16455078125, 2437.277099609375, 7876.32861328125, 2788.119384765625, 3982.080322265625, 3706.549072265625, 3531.260986328125, 3051.03662109375, 2160.9375, 2074.4208984375, 1948.2408447265625, 1633.8895263671875, 1632.828125, 1630.0262451171875, 1510.5054931640625, 1484.206787109375, 1455.5169677734375, 1432.2044677734375, 1380.5142822265625, 1378.8206787109375, 1244.59814453125, 1071.3887939453125, 1068.60498046875, 985.6698608398438, 948.0859985351562, 2121.864501953125, 860.8460083007812, 841.3682861328125, 810.1831665039062, 790.5836181640625, 766.8258666992188, 740.2639770507812, 736.5457763671875, 736.48046875, 713.9343872070312, 968.7482299804688, 1304.3604736328125, 4082.204345703125, 5239.67822265625, 2744.696044921875, 3375.008056640625, 3411.6162109375, 7248.556640625, 3390.176513671875, 4257.96435546875, 2485.009033203125, 2936.726806640625, 2682.1142578125, 2796.334716796875, 4771.1474609375, 3728.92236328125, 5487.564453125, 4271.9296875, 2811.878662109375, 4978.30419921875, 2908.55126953125, 1723.2335205078125, 1318.84033203125, 1318.357421875, 1272.3382568359375, 1102.7081298828125, 1099.6376953125, 1090.52685546875, 964.6721801757812, 886.633056640625, 886.4129638671875, 875.3346557617188, 859.5018920898438, 850.6672973632812, 850.85986328125, 905.8137817382812, 822.634033203125, 812.809326171875, 808.5189208984375, 799.8619384765625, 790.18505859375, 788.8411254882812, 779.8045654296875, 769.539306640625, 767.662109375, 765.60888671875, 763.101318359375, 744.1649780273438, 734.4832153320312, 707.9853515625, 1546.4317626953125, 1853.3438720703125, 1702.93310546875, 2884.242919921875, 1910.8624267578125, 2783.75439453125, 1085.4791259765625, 4361.43701171875, 1099.8421630859375, 3470.9287109375, 2821.81689453125, 1587.7164306640625, 1890.6844482421875, 4484.626953125, 7761.2978515625, 9330.1904296875, 5487.564453125, 6886.9462890625, 1817.1551513671875, 1458.910888671875, 1436.1678466796875, 1353.084716796875, 1237.700927734375, 1228.463134765625, 1228.0450439453125, 1195.4580078125, 1185.8233642578125, 1177.3416748046875, 1163.6326904296875, 1101.80322265625, 1098.8583984375, 1066.9315185546875, 921.0770874023438, 908.9833984375, 891.6799926757812, 880.8531494140625, 878.7432861328125, 846.3274536132812, 841.084716796875, 790.166015625, 772.2596435546875, 764.4953002929688, 741.8416748046875, 739.33203125, 706.2456665039062, 698.6551513671875, 682.97412109375, 1212.843505859375, 1766.607421875, 2413.283447265625, 5194.10400390625, 5034.7900390625, 1806.7125244140625, 3865.53271484375, 1240.334228515625, 4124.0322265625, 1730.4056396484375, 9330.1904296875, 1735.46240234375, 3273.286865234375, 7876.32861328125, 2629.54833984375, 3747.9794921875, 2828.8779296875, 2756.090087890625, 2103.93798828125, 1770.0631103515625, 1449.404541015625, 1295.75341796875, 1196.2777099609375, 1194.8948974609375, 1148.8349609375, 1113.2962646484375, 1022.7803955078125, 989.6333618164062, 976.1002807617188, 975.153076171875, 944.8097534179688, 937.798095703125, 918.433349609375, 879.23828125, 860.6456298828125, 845.180419921875, 787.2520751953125, 773.7505493164062, 764.3758544921875, 762.7972412109375, 761.2073974609375, 750.9036865234375, 744.2105102539062, 740.1082153320312, 719.1163330078125, 1528.943359375, 4205.11767578125, 1321.5208740234375, 2165.99853515625, 1087.4681396484375, 2556.226806640625, 864.2171630859375, 4243.6181640625, 2476.48388671875, 2276.932861328125, 3521.235595703125, 5194.10400390625, 1704.829833984375, 1650.652587890625, 1542.9354248046875, 1508.599853515625, 1467.1864013671875, 1438.112548828125, 1330.1673583984375, 1312.8583984375, 1245.0943603515625, 1167.3758544921875, 1140.4466552734375, 1139.5511474609375, 1011.8753051757812, 981.7681884765625, 980.4566650390625, 978.6802368164062, 933.3711547851562, 909.6248779296875, 857.1863403320312, 804.4746704101562, 802.2622680664062, 794.8515625, 780.6038208007812, 770.9672241210938, 769.9148559570312, 765.81591796875, 758.8557739257812, 760.1914672851562, 719.7156982421875, 711.3214721679688, 789.6695556640625, 731.17529296875, 1573.583740234375, 1899.336181640625, 3021.631591796875, 1606.8267822265625, 1303.6448974609375, 1731.6568603515625, 2319.41162109375, 2110.4521484375, 7876.32861328125, 1579.37353515625, 2952.07177734375, 2466.017333984375, 2179.003662109375, 2027.86865234375, 1667.400390625, 1616.6046142578125, 1556.119384765625, 1514.6031494140625, 1498.41357421875, 1457.1353759765625, 1434.4642333984375, 1354.9674072265625, 1220.4400634765625, 1144.5946044921875, 1127.9617919921875, 1101.479736328125, 1066.2008056640625, 1056.859375, 931.8712158203125, 910.6415405273438, 870.8141479492188, 854.5145263671875, 834.391845703125, 828.50537109375, 825.4418334960938, 812.482177734375, 810.1773071289062, 809.623046875, 776.8818359375, 772.3053588867188, 755.8201904296875, 1009.886962890625, 1762.1767578125, 2084.9892578125, 1228.649658203125, 3379.2060546875, 3728.92236328125, 1659.037109375, 9330.1904296875, 3390.176513671875, 7876.32861328125, 2386.38720703125, 1971.4156494140625, 1712.2939453125, 1509.9493408203125, 1445.64013671875, 1330.6864013671875, 1325.7764892578125, 1278.3270263671875, 1089.795166015625, 1064.102294921875, 1054.5550537109375, 1039.088623046875, 1026.990234375, 1007.7079467773438, 979.0673217773438, 971.7207641601562, 956.0848999023438, 949.3216552734375, 944.1161499023438, 941.7197265625, 935.2639770507812, 912.72314453125, 867.3314819335938, 856.2871704101562, 799.2412719726562, 782.6065063476562, 771.1719360351562, 765.8931274414062, 746.975830078125, 745.5896606445312, 959.5090942382812, 1508.1258544921875, 1725.3714599609375, 2852.358642578125, 2795.75537109375, 1631.3675537109375, 2593.320068359375, 4771.1474609375, 6253.1611328125, 4496.9267578125, 3946.368408203125, 3567.052001953125, 2259.504638671875, 1977.073974609375, 1876.5775146484375, 1731.5911865234375, 1402.0604248046875, 1155.0068359375, 1135.2845458984375, 1130.6280517578125, 1107.1123046875, 1103.9630126953125, 1101.0723876953125, 1081.979736328125, 1070.988037109375, 972.5730590820312, 926.24560546875, 899.7346801757812, 827.8829956054688, 784.4601440429688, 778.126953125, 777.068115234375, 776.7018432617188, 775.6954956054688, 759.906982421875, 758.5598754882812, 725.45556640625, 723.305419921875, 708.6016235351562, 1184.9130859375, 1592.8797607421875, 931.909423828125, 2483.517578125, 2556.226806640625, 3505.48291015625, 2222.560302734375, 1746.24755859375, 1485.0794677734375, 1399.5789794921875, 1233.4007568359375, 1214.8759765625, 1095.7330322265625, 1061.8070068359375, 1055.94921875, 1010.0882568359375, 1006.9263305664062, 934.4508666992188, 911.65771484375, 909.7232666015625, 899.9752197265625, 881.5930786132812, 877.9893798828125, 872.277587890625, 870.6451416015625, 864.5615234375, 842.634521484375, 834.1915893554688, 828.14306640625, 825.8458251953125, 813.5679931640625, 787.5969848632812, 785.311767578125, 780.2842407226562, 765.4699096679688, 840.7105712890625, 1420.053466796875, 1109.343994140625, 1248.0535888671875], \"loglift\": [30.0, 29.0, 28.0, 27.0, 26.0, 25.0, 24.0, 23.0, 22.0, 21.0, 20.0, 19.0, 18.0, 17.0, 16.0, 15.0, 14.0, 13.0, 12.0, 11.0, 10.0, 9.0, 8.0, 7.0, 6.0, 5.0, 4.0, 3.0, 2.0, 1.0, 2.066200017929077, 2.065999984741211, 2.065999984741211, 2.0659000873565674, 2.0659000873565674, 2.0657999515533447, 2.065700054168701, 2.065700054168701, 2.065700054168701, 2.0655999183654785, 2.0655999183654785, 2.065500020980835, 2.065500020980835, 2.065500020980835, 2.065500020980835, 2.065500020980835, 2.065500020980835, 2.0653998851776123, 2.0653998851776123, 2.0653998851776123, 2.0653998851776123, 2.0653998851776123, 2.0652999877929688, 2.0652999877929688, 2.0652999877929688, 2.0652999877929688, 2.0652999877929688, 2.0652999877929688, 2.0652999877929688, 2.0652999877929688, 2.065200090408325, 1.9527000188827515, 2.045599937438965, 1.9325000047683716, 1.948699951171875, 2.0195999145507812, 1.8372999429702759, 1.8315000534057617, 1.8543000221252441, 1.8990000486373901, 1.8487000465393066, 1.4140000343322754, 1.78410005569458, 1.9003000259399414, 1.5765000581741333, 1.934999942779541, 1.566100001335144, 1.9105000495910645, 1.5598000288009644, 1.4431999921798706, 1.7408000230789185, 1.5113999843597412, 1.7985999584197998, 0.6215999722480774, 1.2156000137329102, 1.0356999635696411, 1.3255000114440918, 0.21410000324249268, 1.173200011253357, 0.8148999810218811, 2.1630001068115234, 2.1630001068115234, 2.1630001068115234, 2.1628000736236572, 2.1628000736236572, 2.1628000736236572, 2.1626999378204346, 2.1626999378204346, 2.1626999378204346, 2.1626999378204346, 2.162600040435791, 2.162600040435791, 2.162600040435791, 2.162600040435791, 2.162600040435791, 2.1624999046325684, 2.162400007247925, 2.162400007247925, 2.1623001098632812, 2.1623001098632812, 2.1623001098632812, 2.1621999740600586, 2.1621999740600586, 2.162100076675415, 2.162100076675415, 2.162100076675415, 2.1619999408721924, 2.1619999408721924, 2.1619999408721924, 2.1619999408721924, 2.161400079727173, 2.1470000743865967, 2.0518999099731445, 2.0055999755859375, 1.9947999715805054, 1.934000015258789, 1.8478000164031982, 1.6678999662399292, 1.8343000411987305, 1.7525999546051025, 1.8937000036239624, 1.7798999547958374, 1.7628999948501587, 1.686400055885315, 1.3803000450134277, 1.3696000576019287, 1.0683000087738037, 1.250100016593933, 1.518399953842163, 0.9666000008583069, 2.293100118637085, 2.2929000854492188, 2.2927000522613525, 2.2927000522613525, 2.2927000522613525, 2.29259991645813, 2.29259991645813, 2.29259991645813, 2.2925000190734863, 2.2923998832702637, 2.2923998832702637, 2.2923998832702637, 2.2923998832702637, 2.2923998832702637, 2.29229998588562, 2.29229998588562, 2.29229998588562, 2.29229998588562, 2.29229998588562, 2.29229998588562, 2.29229998588562, 2.29229998588562, 2.29229998588562, 2.2922000885009766, 2.2922000885009766, 2.2922000885009766, 2.2922000885009766, 2.2922000885009766, 2.2922000885009766, 2.292099952697754, 2.169100046157837, 1.9493000507354736, 1.9569000005722046, 1.7200000286102295, 1.8803000450134277, 1.6093000173568726, 2.099299907684326, 1.301300048828125, 2.0848000049591064, 1.1943000555038452, 1.335800051689148, 1.7615000009536743, 1.6217999458312988, 0.8950999975204468, 0.4318999946117401, 0.23810000717639923, 0.44040000438690186, 2.2969000339508057, 2.296600103378296, 2.2964000701904297, 2.2964000701904297, 2.2964000701904297, 2.296299934387207, 2.296299934387207, 2.296299934387207, 2.296299934387207, 2.296299934387207, 2.296299934387207, 2.296299934387207, 2.2962000370025635, 2.2962000370025635, 2.2962000370025635, 2.296099901199341, 2.296099901199341, 2.2960000038146973, 2.2960000038146973, 2.2960000038146973, 2.2960000038146973, 2.2960000038146973, 2.2959001064300537, 2.2959001064300537, 2.2959001064300537, 2.295799970626831, 2.295799970626831, 2.295799970626831, 2.295799970626831, 2.2957000732421875, 2.2950000762939453, 2.1844000816345215, 1.9799000024795532, 1.729599952697754, 1.7293000221252441, 1.9467999935150146, 1.579800009727478, 2.0862998962402344, 1.509600043296814, 1.9211000204086304, 0.9261999726295471, 1.7545000314712524, 1.2151000499725342, 0.4715000092983246, 1.279099941253662, 2.3296000957489014, 2.3296000957489014, 2.3294999599456787, 2.329400062561035, 2.329400062561035, 2.329200029373169, 2.329200029373169, 2.3290998935699463, 2.3290998935699463, 2.3290998935699463, 2.3290998935699463, 2.3289999961853027, 2.3289999961853027, 2.328900098800659, 2.328900098800659, 2.328900098800659, 2.328900098800659, 2.328900098800659, 2.3287999629974365, 2.3287999629974365, 2.3287999629974365, 2.328700065612793, 2.328700065612793, 2.328700065612793, 2.328700065612793, 2.328700065612793, 2.328700065612793, 2.328700065612793, 2.328700065612793, 2.3285999298095703, 2.289900064468384, 2.21589994430542, 2.250200033187866, 2.1433000564575195, 2.183500051498413, 1.7312999963760376, 2.2541000843048096, 1.2763999700546265, 1.5334999561309814, 1.5894999504089355, 1.1748000383377075, 0.6665999889373779, 2.361299991607666, 2.361299991607666, 2.3612000942230225, 2.3612000942230225, 2.3612000942230225, 2.3612000942230225, 2.3610999584198, 2.3610999584198, 2.3610999584198, 2.3610000610351562, 2.3610000610351562, 2.3610000610351562, 2.3608999252319336, 2.3608999252319336, 2.3608999252319336, 2.3608999252319336, 2.3608999252319336, 2.36080002784729, 2.36080002784729, 2.3606998920440674, 2.3606998920440674, 2.3606998920440674, 2.3606998920440674, 2.360599994659424, 2.360599994659424, 2.360599994659424, 2.360599994659424, 2.360599994659424, 2.360599994659424, 2.3605000972747803, 2.358799934387207, 2.359999895095825, 2.2165000438690186, 2.16759991645813, 1.9917000532150269, 2.1501998901367188, 2.1582000255584717, 2.036600112915039, 1.6145999431610107, 1.6521999835968018, 0.3492000102996826, 1.7470999956130981, 1.1614999771118164, 2.3691000938415527, 2.36899995803833, 2.36899995803833, 2.3689000606536865, 2.3689000606536865, 2.3689000606536865, 2.368799924850464, 2.368799924850464, 2.368799924850464, 2.368799924850464, 2.368799924850464, 2.3687000274658203, 2.3687000274658203, 2.3685998916625977, 2.3685998916625977, 2.3685998916625977, 2.3685998916625977, 2.368499994277954, 2.368499994277954, 2.3684000968933105, 2.3684000968933105, 2.3684000968933105, 2.3684000968933105, 2.3684000968933105, 2.368299961090088, 2.368299961090088, 2.368299961090088, 2.368299961090088, 2.368299961090088, 2.368299961090088, 2.3015999794006348, 2.1480000019073486, 2.091399908065796, 2.1791999340057373, 1.6328999996185303, 1.2193000316619873, 1.8150999546051025, 0.23319999873638153, 1.0968999862670898, 0.3124000132083893, 2.3873000144958496, 2.387200117111206, 2.387200117111206, 2.3870999813079834, 2.3870999813079834, 2.38700008392334, 2.38700008392334, 2.38700008392334, 2.386899948120117, 2.3868000507354736, 2.3868000507354736, 2.3868000507354736, 2.3868000507354736, 2.3868000507354736, 2.3868000507354736, 2.3868000507354736, 2.386699914932251, 2.386699914932251, 2.386699914932251, 2.386699914932251, 2.386699914932251, 2.386699914932251, 2.3866000175476074, 2.3866000175476074, 2.3866000175476074, 2.3864998817443848, 2.3864998817443848, 2.3864998817443848, 2.3864998817443848, 2.3864998817443848, 2.3852999210357666, 2.277400016784668, 2.244999885559082, 2.0885000228881836, 2.0227999687194824, 1.8866000175476074, 1.4328999519348145, 0.7398999929428101, 0.47119998931884766, 2.3929998874664307, 2.3929998874664307, 2.3929998874664307, 2.3928000926971436, 2.3928000926971436, 2.3928000926971436, 2.392699956893921, 2.3926000595092773, 2.3924999237060547, 2.392400026321411, 2.392400026321411, 2.392400026321411, 2.392400026321411, 2.392400026321411, 2.392400026321411, 2.392400026321411, 2.3922998905181885, 2.3922998905181885, 2.392199993133545, 2.392199993133545, 2.3921000957489014, 2.3921000957489014, 2.3921000957489014, 2.3921000957489014, 2.3921000957489014, 2.3921000957489014, 2.3921000957489014, 2.3919999599456787, 2.3919999599456787, 2.3919999599456787, 2.111999988555908, 1.8213000297546387, 2.1914000511169434, 1.2851999998092651, 1.1894999742507935, 2.4223999977111816, 2.4221999645233154, 2.422100067138672, 2.421999931335449, 2.421999931335449, 2.4219000339508057, 2.4219000339508057, 2.421799898147583, 2.421799898147583, 2.421799898147583, 2.4217000007629395, 2.4217000007629395, 2.4217000007629395, 2.421600103378296, 2.421600103378296, 2.421600103378296, 2.421600103378296, 2.421600103378296, 2.421600103378296, 2.421600103378296, 2.421600103378296, 2.4214999675750732, 2.4214999675750732, 2.4214999675750732, 2.4214999675750732, 2.4214999675750732, 2.4214999675750732, 2.4214999675750732, 2.4214999675750732, 2.4214000701904297, 2.4212000370025635, 2.1572999954223633, 2.224600076675415, 2.0696001052856445], \"logprob\": [30.0, 29.0, 28.0, 27.0, 26.0, 25.0, 24.0, 23.0, 22.0, 21.0, 20.0, 19.0, 18.0, 17.0, 16.0, 15.0, 14.0, 13.0, 12.0, 11.0, 10.0, 9.0, 8.0, 7.0, 6.0, 5.0, 4.0, 3.0, 2.0, 1.0, -4.588600158691406, -5.082499980926514, -5.104100227355957, -5.3831000328063965, -5.3871002197265625, -5.500800132751465, -5.564700126647949, -5.581099987030029, -5.6458001136779785, -5.731400012969971, -5.752099990844727, -5.775100231170654, -5.786600112915039, -5.795499801635742, -5.808199882507324, -5.808499813079834, -5.832300186157227, -5.871799945831299, -5.872799873352051, -5.908199787139893, -5.91349983215332, -5.924900054931641, -5.9471001625061035, -5.964200019836426, -5.970399856567383, -5.97599983215332, -5.976799964904785, -5.9984002113342285, -6.005799770355225, -6.009399890899658, -5.410699844360352, -4.369999885559082, -5.745800018310547, -5.119200229644775, -5.228600025177002, -5.743899822235107, -4.869800090789795, -5.007900238037109, -5.128699779510498, -5.341800212860107, -5.389400005340576, -4.469900131225586, -5.270699977874756, -5.555600166320801, -5.035799980163574, -5.612400054931641, -5.231900215148926, -5.630499839782715, -5.3144001960754395, -5.219900131225586, -5.526899814605713, -5.38129997253418, -5.584000110626221, -5.046199798583984, -5.4070000648498535, -5.370800018310547, -5.500699996948242, -5.439000129699707, -5.518499851226807, -5.520299911499023, -4.243899822235107, -4.292399883270264, -4.438600063323975, -4.783599853515625, -4.82450008392334, -4.88730001449585, -5.063300132751465, -5.064000129699707, -5.065700054168701, -5.141900062561035, -5.1595001220703125, -5.178999900817871, -5.195199966430664, -5.231900215148926, -5.2332000732421875, -5.335700035095215, -5.485599994659424, -5.4882001876831055, -5.5690999031066895, -5.607999801635742, -4.802499771118164, -5.704599857330322, -5.72760009765625, -5.765399932861328, -5.789899826049805, -5.820400238037109, -5.8557000160217285, -5.860799789428711, -5.860899925231934, -5.892000198364258, -5.587399959564209, -5.304200172424316, -4.258500099182129, -4.055200099945068, -4.712600231170654, -4.5665998458862305, -4.642000198364258, -4.068299770355225, -4.661799907684326, -4.515600204467773, -4.913000106811523, -4.859799861907959, -4.96750020980835, -5.002299785614014, -4.774099826812744, -5.031300067901611, -4.946199893951416, -5.014800071716309, -5.164700031280518, -5.145299911499023, -4.356200218200684, -4.879899978637695, -5.147500038146973, -5.147900104522705, -5.1834001541137695, -5.326600074768066, -5.329400062561035, -5.337800025939941, -5.4604997634887695, -5.544899940490723, -5.545199871063232, -5.557799816131592, -5.576000213623047, -5.586400032043457, -5.58620023727417, -5.523600101470947, -5.619900226593018, -5.631999969482422, -5.63730001449585, -5.6479997634887695, -5.660200119018555, -5.661900043487549, -5.673500061035156, -5.686699867248535, -5.689199924468994, -5.69189977645874, -5.695099830627441, -5.720300197601318, -5.733399868011475, -5.770199775695801, -5.111999988555908, -5.150700092315674, -5.227700233459473, -4.93779993057251, -5.1890997886657715, -5.083899974822998, -5.535600185394287, -4.94290018081665, -5.5370001792907715, -5.278200149536133, -5.343900203704834, -5.493199825286865, -5.4583001136779785, -5.321300029754639, -5.236000061035156, -5.245699882507324, -5.574100017547607, -3.4904000759124756, -4.823200225830078, -5.042900085449219, -5.058599948883057, -5.118199825286865, -5.207399845123291, -5.214900016784668, -5.2153000831604, -5.242199897766113, -5.25029993057251, -5.257400035858154, -5.269199848175049, -5.323800086975098, -5.326499938964844, -5.355999946594238, -5.5030999183654785, -5.51639986038208, -5.535600185394287, -5.547800064086914, -5.55019998550415, -5.587900161743164, -5.594099998474121, -5.656599998474121, -5.679500102996826, -5.689700126647949, -5.719799995422363, -5.723199844360352, -5.769000053405762, -5.779799938201904, -5.802599906921387, -5.229000091552734, -4.963600158691406, -4.856200218200684, -4.339900016784668, -4.371300220489502, -5.178599834442139, -4.785200119018555, -5.41540002822876, -4.790599822998047, -5.247499942779541, -4.557600021362305, -5.411200046539307, -5.316100120544434, -5.181700229644775, -5.471099853515625, -4.066199779510498, -4.347599983215332, -4.373600006103516, -4.643799781799316, -4.8165998458862305, -5.016600131988525, -5.128699779510498, -5.208700180053711, -5.209799766540527, -5.249199867248535, -5.280600070953369, -5.365499973297119, -5.398499965667725, -5.412199974060059, -5.4131999015808105, -5.444900035858154, -5.452300071716309, -5.473199844360352, -5.516900062561035, -5.538300037384033, -5.556399822235107, -5.627500057220459, -5.644800186157227, -5.6570000648498535, -5.65910005569458, -5.661200046539307, -5.674799919128418, -5.683800220489502, -5.689300060272217, -5.718100070953369, -5.002500057220459, -4.064799785614014, -5.188000202178955, -4.800899982452393, -5.449699878692627, -5.0472002029418945, -5.608799934387207, -4.995200157165527, -5.276599884033203, -5.304599761962891, -5.283400058746338, -5.402900218963623, -4.822299957275391, -4.854599952697754, -4.922100067138672, -4.9446001052856445, -4.972499847412109, -4.992499828338623, -5.0706000328063965, -5.083700180053711, -5.13670015335083, -5.201200008392334, -5.224599838256836, -5.225299835205078, -5.344299793243408, -5.374499797821045, -5.375800132751465, -5.377699851989746, -5.425099849700928, -5.450900077819824, -5.510300159454346, -5.57390022277832, -5.576600074768066, -5.585899829864502, -5.604000091552734, -5.616499900817871, -5.617800235748291, -5.623199939727783, -5.632299900054932, -5.6305999755859375, -5.685299873352051, -5.6971001625061035, -5.594299793243408, -5.670100212097168, -5.047100067138672, -4.907899856567383, -4.619500160217285, -5.092599868774414, -5.293700218200684, -5.13129997253418, -5.261099815368652, -5.31790018081665, -5.303999900817871, -5.512899875640869, -5.4730000495910645, -4.445300102233887, -4.5690999031066895, -4.640999794006348, -4.8368000984191895, -4.867800235748291, -4.905900001525879, -4.933000087738037, -4.94379997253418, -4.971700191497803, -4.987400054931641, -5.044400215148926, -5.149099826812744, -5.2133002281188965, -5.22790002822876, -5.251699924468994, -5.284299850463867, -5.293099880218506, -5.419099807739258, -5.442200183868408, -5.4868998527526855, -5.505799770355225, -5.529699802398682, -5.536799907684326, -5.540500164031982, -5.556300163269043, -5.559199810028076, -5.559899806976318, -5.601200103759766, -5.607100009918213, -5.628699779510498, -5.4054999351501465, -5.002500057220459, -4.8907999992370605, -5.3317999839782715, -4.866499900817871, -5.181600093841553, -5.395699977874756, -5.250500202178955, -5.3993000984191895, -5.340700149536133, -4.45989990234375, -4.651000022888184, -4.791999816894531, -4.917799949645996, -4.961400032043457, -5.044300079345703, -5.047999858856201, -5.084499835968018, -5.244200229644775, -5.26800012588501, -5.277100086212158, -5.291800022125244, -5.303599834442139, -5.322500228881836, -5.351399898529053, -5.35890007019043, -5.375199794769287, -5.382299900054932, -5.387800216674805, -5.3902997970581055, -5.397200107574463, -5.421599864959717, -5.472700119018555, -5.485499858856201, -5.554500102996826, -5.5756001472473145, -5.5903000831604, -5.5971999168396, -5.622200012207031, -5.624100208282471, -5.373000144958496, -5.02869987487793, -4.926599979400635, -4.5802998542785645, -4.666100025177002, -5.341000080108643, -5.331200122833252, -5.4145002365112305, -5.412700176239014, -3.8206000328063965, -3.951200008392334, -4.052299976348877, -4.508999824523926, -4.642600059509277, -4.694799900054932, -4.775199890136719, -4.986499786376953, -5.1803998947143555, -5.197700023651123, -5.2017998695373535, -5.222799777984619, -5.2256999015808105, -5.228300094604492, -5.245800018310547, -5.25600004196167, -5.352499961853027, -5.401400089263916, -5.4303998947143555, -5.513700008392334, -5.567699909210205, -5.575799942016602, -5.577199935913086, -5.577600002288818, -5.57889986038208, -5.5995001792907715, -5.60129976272583, -5.645999908447266, -5.648900032043457, -5.66949987411499, -5.435299873352051, -5.430200099945068, -5.596199989318848, -5.522200107574463, -5.589000225067139, -4.040299892425537, -4.496099948883057, -4.737400054931641, -4.899499893188477, -4.958899974822998, -5.085299968719482, -5.100500106811523, -5.203800201416016, -5.235300064086914, -5.240799903869629, -5.285200119018555, -5.288400173187256, -5.363100051879883, -5.387899875640869, -5.389999866485596, -5.4008002281188965, -5.42140007019043, -5.42549991607666, -5.43209981918335, -5.433899879455566, -5.440999984741211, -5.466700077056885, -5.476799964904785, -5.484000205993652, -5.486800193786621, -5.501800060272217, -5.534299850463867, -5.537199974060059, -5.543600082397461, -5.56279993057251, -5.469399929046631, -5.209099769592285, -5.388599872589111, -5.425899982452393]}, \"token.table\": {\"Topic\": [4, 1, 6, 8, 9, 8, 2, 1, 2, 4, 5, 6, 7, 8, 9, 10, 1, 6, 10, 7, 1, 2, 3, 4, 5, 7, 8, 10, 6, 1, 1, 2, 6, 8, 7, 5, 9, 8, 9, 8, 1, 2, 7, 10, 8, 8, 2, 7, 1, 2, 3, 4, 5, 6, 7, 8, 9, 10, 2, 4, 1, 2, 3, 4, 5, 6, 7, 8, 9, 10, 1, 2, 3, 4, 5, 6, 7, 8, 9, 10, 7, 2, 2, 1, 2, 4, 5, 9, 10, 2, 1, 2, 3, 4, 5, 9, 10, 5, 3, 9, 9, 9, 3, 8, 10, 5, 1, 3, 8, 10, 1, 1, 4, 5, 6, 9, 10, 1, 2, 3, 4, 5, 6, 7, 8, 9, 10, 1, 4, 5, 6, 8, 9, 1, 4, 5, 6, 9, 10, 10, 4, 5, 10, 6, 6, 1, 5, 9, 6, 9, 10, 5, 2, 8, 10, 6, 6, 8, 10, 6, 8, 10, 4, 7, 8, 7, 6, 2, 4, 10, 1, 2, 3, 4, 5, 9, 10, 10, 8, 6, 5, 2, 8, 1, 3, 4, 5, 6, 7, 8, 9, 10, 9, 2, 1, 2, 3, 4, 5, 6, 7, 8, 9, 10, 2, 7, 7, 8, 5, 10, 9, 1, 5, 6, 9, 3, 4, 5, 8, 1, 8, 10, 5, 6, 4, 3, 2, 3, 4, 5, 7, 8, 10, 2, 3, 4, 5, 6, 7, 8, 9, 10, 9, 1, 9, 7, 10, 8, 2, 6, 9, 3, 5, 6, 3, 1, 5, 9, 7, 9, 8, 4, 6, 2, 2, 2, 10, 6, 1, 7, 9, 2, 6, 8, 9, 10, 5, 3, 1, 1, 1, 4, 6, 6, 1, 3, 4, 5, 6, 7, 8, 9, 8, 9, 3, 2, 8, 5, 10, 8, 9, 8, 10, 5, 1, 7, 8, 1, 3, 1, 5, 1, 4, 5, 6, 7, 8, 9, 10, 2, 6, 1, 3, 4, 5, 6, 8, 9, 10, 3, 1, 3, 9, 10, 4, 9, 3, 4, 6, 7, 8, 10, 1, 10, 10, 7, 10, 5, 3, 4, 9, 1, 4, 5, 6, 7, 8, 9, 1, 10, 2, 1, 4, 5, 8, 9, 10, 6, 7, 7, 5, 1, 2, 8, 8, 1, 5, 6, 9, 1, 9, 10, 7, 5, 5, 1, 2, 3, 4, 5, 6, 7, 8, 9, 10, 9, 1, 2, 3, 5, 6, 7, 8, 9, 10, 9, 8, 8, 1, 9, 2, 6, 10, 10, 2, 7, 1, 2, 8, 10, 7, 4, 5, 9, 2, 6, 7, 8, 9, 10, 3, 1, 6, 2, 1, 8, 6, 4, 9, 1, 4, 10, 2, 3, 5, 7, 8, 10, 5, 5, 4, 4, 1, 3, 4, 5, 6, 7, 8, 10, 1, 3, 8, 9, 10, 8, 3, 4, 8, 4, 6, 8, 4, 6, 2, 4, 7, 8, 9, 2, 9, 10, 6, 5, 1, 4, 9, 3, 9, 3, 5, 3, 3, 9, 3, 7, 3, 5, 7, 9, 10, 1, 5, 9, 9, 6, 1, 2, 3, 4, 5, 6, 7, 8, 9, 10, 8, 8, 6, 6, 10, 1, 4, 5, 8, 9, 10, 2, 3, 4, 7, 8, 1, 4, 5, 6, 6, 2, 8, 1, 7, 9, 7, 1, 3, 4, 5, 6, 7, 9, 10, 5, 6, 9, 10, 5, 3, 1, 2, 3, 4, 5, 7, 9, 10, 1, 5, 7, 5, 1, 5, 7, 6, 4, 4, 10, 1, 2, 3, 4, 5, 6, 7, 8, 9, 10, 7, 1, 7, 4, 5, 6, 8, 9, 8, 3, 1, 2, 3, 4, 6, 9, 8, 6, 8, 8, 2, 3, 6, 9, 10, 6, 3, 3, 7, 5, 1, 2, 3, 4, 5, 6, 7, 8, 9, 10, 2, 2, 9, 1, 2, 3, 4, 5, 6, 7, 8, 9, 10, 3, 4, 6, 9, 4, 1, 3, 4, 5, 6, 7, 8, 10, 3, 4, 6, 7, 8, 1, 3, 5, 1, 1, 5, 6, 7, 8, 9, 10, 1, 1, 5, 6, 9, 2, 4, 5, 10, 6, 9, 1, 9, 4, 3, 6, 7, 8, 10, 4, 1, 5, 9, 10, 8, 1, 4, 6, 7, 1, 9, 4, 9, 7, 9, 1, 3, 5, 6, 8, 9, 10, 6, 7, 1, 10, 1, 5, 6, 4, 8, 1, 5, 6, 1, 2, 3, 4, 5, 6, 7, 8, 9, 10, 10, 2, 2, 3, 10, 6, 10, 7, 5, 9, 10, 3, 4, 10, 1, 3, 6, 2, 9, 3, 7, 6, 7, 1, 2, 3, 4, 5, 6, 7, 10, 7, 7, 7, 8, 1, 8, 8, 3, 9, 2, 2, 3, 4, 8, 9, 3, 4, 5, 6, 7, 8, 9, 10, 1, 3, 1, 4, 1, 10, 3, 6, 5, 4, 7, 3, 1, 2, 3, 5, 6, 7, 8, 9, 10, 7, 2, 10, 2, 4, 5, 2, 1, 2, 3, 4, 5, 6, 7, 8, 9, 10, 4, 8, 3, 9, 2, 7, 3, 10, 10, 2, 4, 5, 7, 3, 4, 1, 10, 10, 2, 2, 3, 5, 6, 9, 6, 8, 7, 3, 6, 10, 3, 3, 1, 5, 2, 1, 4, 7, 6, 6, 5, 10, 5, 4, 2, 1, 3, 4, 5, 6, 7, 8, 9, 10, 1, 4, 1, 3, 6, 10, 4], \"Freq\": [0.999433696269989, 0.004211998078972101, 0.8234456181526184, 0.001579499221406877, 0.17058591544628143, 0.9994186758995056, 0.9992617964744568, 0.04076765105128288, 0.6208126544952393, 0.05364164710044861, 0.007152219768613577, 0.07295264303684235, 0.021814269945025444, 0.11586596071720123, 0.03361543267965317, 0.03397304192185402, 0.13472431898117065, 0.8649047017097473, 0.9992420077323914, 0.9992304444313049, 0.102349653840065, 0.20068559050559998, 0.24706625938415527, 0.06890205293893814, 0.08986254781484604, 0.07001697272062302, 0.06377342343330383, 0.1576496809720993, 0.9992175698280334, 0.9985097050666809, 0.9990493655204773, 0.7952573895454407, 0.037925835698843, 0.1668144166469574, 0.9996763467788696, 0.9992498159408569, 0.9988064765930176, 0.8958138227462769, 0.1041027158498764, 0.9989098310470581, 0.9987378716468811, 0.8449022769927979, 0.08889873325824738, 0.06594537198543549, 0.9989641308784485, 0.9995571970939636, 0.9995661377906799, 0.9996394515037537, 0.019663244485855103, 0.4012238383293152, 0.12406571209430695, 0.032069817185401917, 0.03253798931837082, 0.0379219725728035, 0.18563039600849152, 0.05196714773774147, 0.026451746001839638, 0.08848460018634796, 0.9990172386169434, 0.9992709755897522, 0.11446711421012878, 0.004930231720209122, 0.12807884812355042, 0.2539069354534149, 0.09303132444620132, 0.07073810696601868, 0.11811120063066483, 0.09538926184177399, 0.0663437694311142, 0.05498280003666878, 0.23578530550003052, 0.05643386021256447, 0.15538638830184937, 0.0992102101445198, 0.07640475034713745, 0.07305479049682617, 0.11003314703702927, 0.07344132661819458, 0.053341593593358994, 0.06699910014867783, 0.9989148378372192, 0.9988545179367065, 0.9983737468719482, 0.790438175201416, 0.03659050911664963, 0.07484422624111176, 0.0012474037939682603, 0.07650743424892426, 0.019958460703492165, 0.9993476271629333, 0.022743087261915207, 0.036494720727205276, 0.5109260678291321, 0.2708013951778412, 0.08198089152574539, 0.02115635946393013, 0.05606435239315033, 0.9990299940109253, 0.8235994577407837, 0.17595916986465454, 0.9988685250282288, 0.9991033673286438, 0.8119347095489502, 0.18729960918426514, 0.9989758133888245, 0.9992510676383972, 0.998876690864563, 0.7140620946884155, 0.07281554490327835, 0.21257440745830536, 0.999382495880127, 0.765123188495636, 0.02648228034377098, 0.09233011305332184, 0.07873110473155975, 0.03721833974123001, 0.0007157372892834246, 0.08455748856067657, 0.15300878882408142, 0.10348225384950638, 0.0696592628955841, 0.041876088827848434, 0.01731415092945099, 0.06321678310632706, 0.046707943081855774, 0.33017686009407043, 0.08938933908939362, 0.6022898554801941, 0.1304459124803543, 0.029705505818128586, 0.11150327324867249, 0.04950917512178421, 0.07620108127593994, 0.6063418984413147, 0.06861237436532974, 0.13882037997245789, 0.07100582867860794, 0.06542110443115234, 0.04946473613381386, 0.9986197352409363, 0.9988306164741516, 0.999528169631958, 0.9983296394348145, 0.999226450920105, 0.9992263913154602, 0.07567039132118225, 0.9231787323951721, 0.9991509914398193, 0.7224295139312744, 0.14956773817539215, 0.12762343883514404, 0.9987965226173401, 0.8540600538253784, 0.08550143241882324, 0.06011819466948509, 0.9984326958656311, 0.12691250443458557, 0.7414916157722473, 0.13147014379501343, 0.19064615666866302, 0.6942667365074158, 0.11481691151857376, 0.9985243678092957, 0.9995716214179993, 0.999258279800415, 0.9991472959518433, 0.9981422424316406, 0.999159038066864, 0.9989181160926819, 0.9992731213569641, 0.14341557025909424, 0.11672039330005646, 0.1388717144727707, 0.12410416454076767, 0.3149462640285492, 0.04288267344236374, 0.11870832741260529, 0.9979653358459473, 0.9997891783714294, 0.9990055561065674, 0.9985026121139526, 0.9982925057411194, 0.9988338947296143, 0.4271266460418701, 0.01606746017932892, 0.049876075237989426, 0.09941741079092026, 0.08234573155641556, 0.024101190268993378, 0.0739772617816925, 0.16201356053352356, 0.06527405977249146, 0.9997938871383667, 0.9992589950561523, 0.028714265674352646, 0.4571227431297302, 0.036888401955366135, 0.029762232676148415, 0.013413963839411736, 0.07796866446733475, 0.042337823659181595, 0.1924065500497818, 0.06455469876527786, 0.05700934678316116, 0.9996429085731506, 0.9992955327033997, 0.1327250450849533, 0.8670596480369568, 0.9268503785133362, 0.07174123078584671, 0.9991834759712219, 0.8040916919708252, 0.05203675106167793, 0.13380879163742065, 0.009292276576161385, 0.0016490173293277621, 0.9976555109024048, 0.9988356232643127, 0.9993712902069092, 0.0020843991078436375, 0.9973850250244141, 0.9993504881858826, 0.999148964881897, 0.9988722801208496, 0.9993756413459778, 0.9989224076271057, 0.5249159932136536, 0.07503879815340042, 0.0505000464618206, 0.05903526395559311, 0.1568346470594406, 0.0007112682214938104, 0.13300716876983643, 0.6632277369499207, 0.014560948126018047, 0.03006131388247013, 0.008689598180353642, 0.06599397957324982, 0.03945547342300415, 0.06599397957324982, 0.015030656941235065, 0.0967598482966423, 0.9992619156837463, 0.9989674687385559, 0.998195230960846, 0.999464750289917, 0.9993272423744202, 0.9992703795433044, 0.729566216468811, 0.20049148797988892, 0.07005476951599121, 0.9993578195571899, 0.9985916614532471, 0.9989286661148071, 0.9984752535820007, 0.8745633959770203, 0.06015515699982643, 0.06478247791528702, 0.9997598528862, 0.9997050762176514, 0.9990357756614685, 0.0013676610542461276, 0.9983925819396973, 0.9989230036735535, 0.9991869330406189, 0.9991213083267212, 0.000471283623483032, 0.9991349577903748, 0.8553873896598816, 0.04276937246322632, 0.10063381493091583, 0.6699938178062439, 0.05219762772321701, 0.1025310531258583, 0.06897543370723724, 0.10625945776700974, 0.9996896386146545, 0.9984345436096191, 0.9992712736129761, 0.9988566040992737, 0.8769140243530273, 0.0008439981029368937, 0.12237972766160965, 0.9986159801483154, 0.11718463152647018, 0.046476613730192184, 0.566855788230896, 0.010328136384487152, 0.08560436218976974, 0.061372965574264526, 0.03813466057181358, 0.07408452033996582, 0.9992091059684753, 0.9996922612190247, 0.999204695224762, 0.9981953501701355, 0.0010322598973289132, 0.9984095692634583, 0.9993861317634583, 0.9984469413757324, 0.9985517263412476, 0.999414324760437, 0.9985715746879578, 0.9992370009422302, 0.06436363607645035, 0.9347580671310425, 0.998952329158783, 0.9981734156608582, 0.9991015791893005, 0.16989853978157043, 0.8296404480934143, 0.24873976409435272, 0.03432285785675049, 0.45104271173477173, 0.059358350932598114, 0.04643680527806282, 0.04320641979575157, 0.07752927392721176, 0.03916843608021736, 0.9994555711746216, 0.9995163679122925, 0.4767615497112274, 0.12390876561403275, 0.1386793553829193, 0.036516159772872925, 0.08328966796398163, 0.05292791873216629, 0.06728820502758026, 0.021335285156965256, 0.9995341300964355, 0.03452865779399872, 0.1682487279176712, 0.5643866062164307, 0.23228369653224945, 0.9990314245223999, 0.9994444847106934, 0.5634061098098755, 0.15983396768569946, 0.13244377076625824, 0.05824752151966095, 0.04923302307724953, 0.036404699087142944, 0.9990238547325134, 0.9992789626121521, 0.9992589950561523, 0.17938528954982758, 0.8203046321868896, 0.9989319443702698, 0.9992155432701111, 0.9991490244865417, 0.9990963935852051, 0.6125941276550293, 0.02120390720665455, 0.09177315980195999, 0.11761541664600372, 0.033131103962659836, 0.05267845466732979, 0.070900559425354, 0.9988884329795837, 0.999239981174469, 0.9994928240776062, 0.5206966400146484, 0.09803041815757751, 0.07836036384105682, 0.14712558686733246, 0.10634621232748032, 0.04925508797168732, 0.9991223812103271, 0.9996259808540344, 0.9997239708900452, 0.998199999332428, 0.9991326928138733, 0.9993150234222412, 0.9992250204086304, 0.9992974400520325, 0.16911393404006958, 0.09531274437904358, 0.6906864643096924, 0.04467784985899925, 0.9992697238922119, 0.9996585845947266, 0.9992785453796387, 0.9996017813682556, 0.9995541572570801, 0.9993600249290466, 0.09586487710475922, 0.2466064691543579, 0.004742431920021772, 0.03861694782972336, 0.05894165486097336, 0.30114445090293884, 0.06131287291646004, 0.08773499727249146, 0.0372619666159153, 0.06842651963233948, 0.9996532201766968, 0.2860313951969147, 0.16900713741779327, 0.03791987895965576, 0.095427505671978, 0.10949050635099411, 0.01833212561905384, 0.07985775917768478, 0.041686754673719406, 0.16197563707828522, 0.9990944862365723, 0.9994736313819885, 0.9984803199768066, 0.9543606042861938, 0.04504665732383728, 0.9836238026618958, 0.015333184972405434, 0.9996750950813293, 0.9995863437652588, 0.7197265625, 0.2802214026451111, 0.9986697435379028, 0.7637799382209778, 0.13682043552398682, 0.09899360686540604, 0.9992806315422058, 0.15022140741348267, 0.5496382117271423, 0.30005162954330444, 0.6817113757133484, 0.04222387820482254, 0.03745666891336441, 0.15016718208789825, 0.03371100127696991, 0.05482294037938118, 0.9995169043540955, 0.8889111280441284, 0.11074958741664886, 0.999363124370575, 0.9987815618515015, 0.9986936450004578, 0.9996023774147034, 0.9991269111633301, 0.9989334344863892, 0.9992275238037109, 0.8102654814720154, 0.18946506083011627, 0.45214134454727173, 0.04773497208952904, 0.04719862341880798, 0.31671348214149475, 0.04827131703495979, 0.08796107023954391, 0.9983734488487244, 0.9984138607978821, 0.9996230006217957, 0.9993643164634705, 0.29054418206214905, 0.028522009029984474, 0.361278772354126, 0.015972325578331947, 0.14184945821762085, 0.03764905035495758, 0.09050983935594559, 0.03346582502126694, 0.16366636753082275, 0.0006129826651886106, 0.6056268811225891, 0.13301722705364227, 0.09685125946998596, 0.9988178014755249, 0.2639557421207428, 0.7280537486076355, 0.0074587175622582436, 0.9987103343009949, 0.815406084060669, 0.18333213031291962, 0.8932375311851501, 0.10585260391235352, 0.21902425587177277, 0.11144015938043594, 0.1484583467245102, 0.384834885597229, 0.13611894845962524, 0.13943137228488922, 0.093658447265625, 0.7668725252151489, 0.9985309839248657, 0.9997386336326599, 0.8460483551025391, 0.04907329007983208, 0.10497956722974777, 0.9993032217025757, 0.9991282820701599, 0.9992292523384094, 0.9984476566314697, 0.9992842078208923, 0.9985567927360535, 0.9986552000045776, 0.9989482164382935, 0.9993900060653687, 0.17178639769554138, 0.09282492846250534, 0.5744295716285706, 0.06389248371124268, 0.09644148498773575, 0.8923335671424866, 0.10738755762577057, 0.9997766613960266, 0.9993720054626465, 0.9989345669746399, 0.07733557373285294, 0.3021109104156494, 0.16451385617256165, 0.0809512585401535, 0.04459349811077118, 0.040174324065446854, 0.048610929399728775, 0.05925712734460831, 0.03294294327497482, 0.14964935183525085, 0.9984967708587646, 0.9986485242843628, 0.9993937611579895, 0.9996046423912048, 0.9993018507957458, 0.5740247368812561, 0.02938094362616539, 0.1061222180724144, 0.0903354361653328, 0.06797084212303162, 0.13243350386619568, 0.27049800753593445, 0.5047140717506409, 0.060709379613399506, 0.06250551342964172, 0.10166126489639282, 0.998345136642456, 0.9993056654930115, 0.9992731809616089, 0.9995132684707642, 0.9991210699081421, 0.8946146965026855, 0.10509028285741806, 0.9986938834190369, 0.0007857544696889818, 0.9991276860237122, 0.9988648891448975, 0.1173526868224144, 0.04665829613804817, 0.1687239408493042, 0.3487589955329895, 0.12041611224412918, 0.06668837368488312, 0.07776383310556412, 0.05372773855924606, 0.08674325048923492, 0.5407207012176514, 0.09877333790063858, 0.2735261619091034, 0.9996044635772705, 0.9993581771850586, 0.09649381786584854, 0.12727870047092438, 0.05613715201616287, 0.4881604015827179, 0.11408518254756927, 0.004915234632790089, 0.023282689973711967, 0.0897677019238472, 0.0026161859277635813, 0.9607942700386047, 0.03597255423665047, 0.9997208714485168, 0.8464874029159546, 0.1424933224916458, 0.010013044811785221, 0.9993130564689636, 0.9984315037727356, 0.999198317527771, 0.9990800619125366, 0.10256621241569519, 0.013252937234938145, 0.3330520689487457, 0.14462988078594208, 0.0556047149002552, 0.052435532212257385, 0.06424793601036072, 0.0610787533223629, 0.07663655281066895, 0.096515953540802, 0.9995644688606262, 0.1725471466779709, 0.8269240856170654, 0.07816320657730103, 0.8634735941886902, 0.03494355082511902, 0.0229891799390316, 0.9986254572868347, 0.9994841814041138, 0.9989894032478333, 0.05202820152044296, 0.0952005386352539, 0.006088406313210726, 0.7045946717262268, 0.09686101227998734, 0.04538630321621895, 0.9988652467727661, 0.9996083378791809, 0.9986078143119812, 0.998464822769165, 0.2331831008195877, 0.38379529118537903, 0.12119851261377335, 0.07654642313718796, 0.18498720228672028, 0.998426616191864, 0.998968243598938, 0.9989703893661499, 0.999065101146698, 0.9991429448127747, 0.3567802906036377, 0.011596033349633217, 0.020225640386343002, 0.042608682066202164, 0.11245455592870712, 0.10139787197113037, 0.0784754827618599, 0.05959821864962578, 0.12405058741569519, 0.09330761432647705, 0.9994338750839233, 0.9996448159217834, 0.9994567632675171, 0.042629174888134, 0.6093627214431763, 0.05118260160088539, 0.007035883609205484, 0.012692182324826717, 0.03821450471878052, 0.06456457823514938, 0.07229025661945343, 0.03104066289961338, 0.07091066986322403, 0.1254628598690033, 0.3190464377403259, 0.473827064037323, 0.08148618042469025, 0.9988654255867004, 0.40923643112182617, 0.0824928805232048, 0.08572085946798325, 0.09504614770412445, 0.12768463790416718, 0.07173293828964233, 0.04447442293167114, 0.08356887847185135, 0.08379538357257843, 0.6865442395210266, 0.00751268956810236, 0.14042949676513672, 0.08090588450431824, 0.7951329946517944, 0.0014569546328857541, 0.20324517786502838, 0.9994222521781921, 0.16347208619117737, 0.09381876140832901, 0.491837739944458, 0.053543027490377426, 0.07439164072275162, 0.05070003494620323, 0.07249630987644196, 0.9993273615837097, 0.7539259195327759, 0.07735218107700348, 0.10674600303173065, 0.061881743371486664, 0.11493801325559616, 0.566989004611969, 0.18944557011127472, 0.1284148395061493, 0.999191403388977, 0.9994134306907654, 0.9994744658470154, 0.9990774393081665, 0.9992374181747437, 0.053237684071063995, 0.13956905901432037, 0.7573180794715881, 0.04796187952160835, 0.0019184751436114311, 0.9981983304023743, 0.8088088631629944, 0.12192133069038391, 0.06864075362682343, 0.9991011023521423, 0.9992077350616455, 0.9991352558135986, 0.9982362389564514, 0.9988214373588562, 0.998546838760376, 0.18134810030460358, 0.8176760077476501, 0.2447436898946762, 0.7544857263565063, 0.9983097910881042, 0.9992436766624451, 0.5361166000366211, 0.054029952734708786, 0.10108830034732819, 0.05263563245534897, 0.04566402733325958, 0.10492268204689026, 0.10527126491069794, 0.9995342493057251, 0.9995874762535095, 0.999662458896637, 0.9989163875579834, 0.0837075263261795, 0.8922461271286011, 0.023780547082424164, 0.9996168613433838, 0.9992357492446899, 0.7222757339477539, 0.15696097910404205, 0.12059196829795837, 0.15679894387722015, 0.022853286936879158, 0.07808206230401993, 0.16111567616462708, 0.07033734023571014, 0.1336917281150818, 0.1278514415025711, 0.11083844304084778, 0.08861996978521347, 0.04989634454250336, 0.9992469549179077, 0.9987037181854248, 0.3380672335624695, 0.6614814400672913, 0.9985353350639343, 0.9966194033622742, 0.0012663524830713868, 0.9994804859161377, 0.1690632551908493, 0.12819962203502655, 0.7026941776275635, 0.9993628263473511, 0.9993520975112915, 0.9992855787277222, 0.9998250007629395, 0.8833237886428833, 0.11639698594808578, 0.9996602535247803, 0.9990260601043701, 0.9992859959602356, 0.9992860555648804, 0.9993049502372742, 0.9983319044113159, 0.11348117142915726, 0.09165786951780319, 0.07298681885004044, 0.4548946022987366, 0.12827251851558685, 0.018671046942472458, 0.026915404945611954, 0.0931127518415451, 0.998873770236969, 0.999065101146698, 0.8012816905975342, 0.19805051386356354, 0.9792258143424988, 0.019390609115362167, 0.9992443323135376, 0.9993420839309692, 0.9994108080863953, 0.9993703961372375, 0.08061893284320831, 0.587636411190033, 0.1587185114622116, 0.0951051414012909, 0.07746975123882294, 0.04586876183748245, 0.15832121670246124, 0.06658368557691574, 0.08581897616386414, 0.47881069779396057, 0.06539997458457947, 0.06332848221063614, 0.036103155463933945, 0.9993584156036377, 0.9990043044090271, 0.9983593225479126, 0.9991868138313293, 0.9988402128219604, 0.9997478723526001, 0.999299168586731, 0.9987454414367676, 0.9989548325538635, 0.9985737204551697, 0.999397873878479, 0.998933732509613, 0.08747050166130066, 0.3345746695995331, 0.15671797096729279, 0.08546596765518188, 0.06469172239303589, 0.06104711815714836, 0.042459636926651, 0.032436978071928024, 0.13503257930278778, 0.9992207884788513, 0.999320387840271, 0.9998622536659241, 0.9996653199195862, 0.9994562864303589, 0.998603343963623, 0.9996274709701538, 0.02749529853463173, 0.04093744605779648, 0.1377819925546646, 0.33880317211151123, 0.08798495680093765, 0.04215945675969124, 0.05590710788965225, 0.20438171923160553, 0.04551999270915985, 0.0186357032507658, 0.9983688592910767, 0.9989619255065918, 0.9994201064109802, 0.998995304107666, 0.998691201210022, 0.9991868734359741, 0.9986082315444946, 0.999330997467041, 0.9983541369438171, 0.999404788017273, 0.9998626112937927, 0.9994185566902161, 0.9994065165519714, 0.9998104572296143, 0.9992188215255737, 0.9986055493354797, 0.9988731145858765, 0.99892258644104, 0.9985396265983582, 0.17391817271709442, 0.03249986097216606, 0.47695741057395935, 0.13131700456142426, 0.18489785492420197, 0.8090479969978333, 0.190437451004982, 0.9995393753051758, 0.9985002875328064, 0.9994099736213684, 0.9992049336433411, 0.9991375207901001, 0.9994160532951355, 0.9992814064025879, 0.9993994235992432, 0.999519407749176, 0.3123086988925934, 0.5814012289047241, 0.10602361708879471, 0.9988117218017578, 0.999346137046814, 0.9988175630569458, 0.9995175004005432, 0.9988727569580078, 0.9990622401237488, 0.9998518824577332, 0.062364764511585236, 0.3707493543624878, 0.21300318837165833, 0.026138173416256905, 0.06557472050189972, 0.0621354840695858, 0.04906639829277992, 0.07887309044599533, 0.07199461758136749, 0.9984690546989441, 0.9991541504859924, 0.9992525577545166, 0.7089887857437134, 0.11115044355392456, 0.17967523634433746, 0.9988604187965393], \"Term\": [\"abbott\", \"aborigin\", \"aborigin\", \"aborigin\", \"aborigin\", \"abus\", \"accid\", \"accus\", \"accus\", \"accus\", \"accus\", \"accus\", \"accus\", \"accus\", \"accus\", \"accus\", \"action\", \"action\", \"adam\", \"adani\", \"adelaid\", \"adelaid\", \"adelaid\", \"adelaid\", \"adelaid\", \"adelaid\", \"adelaid\", \"adelaid\", \"age\", \"agricultur\", \"airport\", \"alleg\", \"alleg\", \"alleg\", \"andrew\", \"anzac\", \"apologis\", \"appeal\", \"appeal\", \"approv\", \"april\", \"arrest\", \"arrest\", \"arrest\", \"artist\", \"ash\", \"assault\", \"asylum\", \"attack\", \"attack\", \"attack\", \"attack\", \"attack\", \"attack\", \"attack\", \"attack\", \"attack\", \"attack\", \"attempt\", \"august\", \"australia\", \"australia\", \"australia\", \"australia\", \"australia\", \"australia\", \"australia\", \"australia\", \"australia\", \"australia\", \"australian\", \"australian\", \"australian\", \"australian\", \"australian\", \"australian\", \"australian\", \"australian\", \"australian\", \"australian\", \"backpack\", \"bail\", \"bali\", \"bank\", \"bank\", \"bank\", \"bank\", \"bank\", \"bank\", \"bash\", \"beat\", \"beat\", \"beat\", \"beat\", \"beat\", \"beat\", \"beat\", \"bendigo\", \"best\", \"best\", \"billion\", \"bishop\", \"black\", \"black\", \"block\", \"blog\", \"board\", \"bodi\", \"bodi\", \"bodi\", \"boom\", \"boost\", \"boost\", \"boost\", \"boost\", \"boost\", \"boost\", \"break\", \"break\", \"break\", \"break\", \"break\", \"break\", \"break\", \"break\", \"break\", \"break\", \"budget\", \"budget\", \"budget\", \"budget\", \"budget\", \"budget\", \"busi\", \"busi\", \"busi\", \"busi\", \"busi\", \"busi\", \"camp\", \"candid\", \"capit\", \"car\", \"card\", \"care\", \"cattl\", \"cattl\", \"cctv\", \"celebr\", \"celebr\", \"celebr\", \"championship\", \"charg\", \"charg\", \"charg\", \"check\", \"child\", \"child\", \"child\", \"children\", \"children\", \"children\", \"chris\", \"christma\", \"church\", \"citizenship\", \"class\", \"climat\", \"clinton\", \"coal\", \"coast\", \"coast\", \"coast\", \"coast\", \"coast\", \"coast\", \"coast\", \"collaps\", \"commiss\", \"commission\", \"commonwealth\", \"compens\", \"corrupt\", \"council\", \"council\", \"council\", \"council\", \"council\", \"council\", \"council\", \"council\", \"council\", \"countri\", \"coupl\", \"court\", \"court\", \"court\", \"court\", \"court\", \"court\", \"court\", \"court\", \"court\", \"court\", \"crash\", \"creek\", \"cricket\", \"cricket\", \"crop\", \"crop\", \"cultur\", \"cut\", \"cut\", \"cut\", \"cut\", \"cyclon\", \"cyclon\", \"dairi\", \"damag\", \"danger\", \"danger\", \"daniel\", \"data\", \"daughter\", \"david\", \"day\", \"dead\", \"dead\", \"dead\", \"dead\", \"dead\", \"dead\", \"dead\", \"death\", \"death\", \"death\", \"death\", \"death\", \"death\", \"death\", \"death\", \"death\", \"debt\", \"decemb\", \"deliv\", \"depart\", \"destroy\", \"detent\", \"die\", \"die\", \"die\", \"disabl\", \"diseas\", \"disput\", \"dog\", \"dollar\", \"dollar\", \"dollar\", \"domest\", \"donald\", \"donat\", \"dont\", \"dont\", \"drink\", \"drive\", \"driver\", \"driver\", \"drone\", \"drought\", \"drought\", \"drought\", \"drug\", \"drug\", \"drug\", \"drug\", \"drug\", \"drum\", \"dump\", \"econom\", \"economi\", \"educ\", \"educ\", \"educ\", \"elder\", \"elect\", \"elect\", \"elect\", \"elect\", \"elect\", \"elect\", \"elect\", \"elect\", \"electr\", \"energi\", \"episod\", \"escap\", \"escap\", \"evacu\", \"event\", \"evid\", \"exhibit\", \"explain\", \"explos\", \"export\", \"extend\", \"extend\", \"facebook\", \"fake\", \"fan\", \"farm\", \"farm\", \"farmer\", \"farmer\", \"farmer\", \"farmer\", \"farmer\", \"farmer\", \"farmer\", \"farmer\", \"fatal\", \"father\", \"feder\", \"feder\", \"feder\", \"feder\", \"feder\", \"feder\", \"feder\", \"feder\", \"femal\", \"festiv\", \"festiv\", \"festiv\", \"festiv\", \"fiji\", \"film\", \"final\", \"final\", \"final\", \"final\", \"final\", \"final\", \"financi\", \"fire\", \"firefight\", \"flight\", \"flight\", \"footag\", \"footbal\", \"friday\", \"friend\", \"fund\", \"fund\", \"fund\", \"fund\", \"fund\", \"fund\", \"fund\", \"georg\", \"giant\", \"girl\", \"govern\", \"govern\", \"govern\", \"govern\", \"govern\", \"govern\", \"grand\", \"grandstand\", \"great\", \"grower\", \"growth\", \"guilti\", \"hanson\", \"happen\", \"health\", \"health\", \"health\", \"health\", \"higher\", \"hill\", \"histor\", \"histori\", \"hobart\", \"homeless\", \"hospit\", \"hospit\", \"hospit\", \"hospit\", \"hospit\", \"hospit\", \"hospit\", \"hospit\", \"hospit\", \"hospit\", \"hour\", \"hous\", \"hous\", \"hous\", \"hous\", \"hous\", \"hous\", \"hous\", \"hous\", \"hous\", \"human\", \"hunt\", \"import\", \"improv\", \"improv\", \"inquest\", \"inquest\", \"insid\", \"intern\", \"interview\", \"interview\", \"invest\", \"investig\", \"investig\", \"investig\", \"islam\", \"island\", \"island\", \"island\", \"jail\", \"jail\", \"jail\", \"jail\", \"jail\", \"jail\", \"jam\", \"job\", \"job\", \"john\", \"joyc\", \"judg\", \"juli\", \"june\", \"justic\", \"kangaroo\", \"kid\", \"kid\", \"kill\", \"kill\", \"kill\", \"kill\", \"kill\", \"kill\", \"killer\", \"kimberley\", \"know\", \"korea\", \"labor\", \"labor\", \"labor\", \"labor\", \"labor\", \"labor\", \"labor\", \"labor\", \"law\", \"law\", \"law\", \"law\", \"law\", \"lawyer\", \"leagu\", \"leagu\", \"leagu\", \"learn\", \"legal\", \"legal\", \"liber\", \"liber\", \"life\", \"life\", \"life\", \"life\", \"life\", \"light\", \"light\", \"light\", \"line\", \"live\", \"local\", \"local\", \"local\", \"london\", \"long\", \"love\", \"mackay\", \"malcolm\", \"man\", \"manus\", \"march\", \"marin\", \"mark\", \"mark\", \"mark\", \"mark\", \"mark\", \"market\", \"market\", \"marriag\", \"matthew\", \"mean\", \"melbourn\", \"melbourn\", \"melbourn\", \"melbourn\", \"melbourn\", \"melbourn\", \"melbourn\", \"melbourn\", \"melbourn\", \"melbourn\", \"member\", \"memori\", \"mental\", \"michael\", \"migrant\", \"million\", \"million\", \"million\", \"million\", \"million\", \"million\", \"miss\", \"miss\", \"miss\", \"miss\", \"miss\", \"moment\", \"monday\", \"month\", \"mother\", \"mount\", \"murder\", \"murder\", \"murray\", \"murray\", \"music\", \"myanmar\", \"nation\", \"nation\", \"nation\", \"nation\", \"nation\", \"nation\", \"nation\", \"nation\", \"newcastl\", \"newcastl\", \"newcastl\", \"newcastl\", \"news\", \"nick\", \"north\", \"north\", \"north\", \"north\", \"north\", \"north\", \"north\", \"north\", \"northern\", \"northern\", \"northern\", \"novemb\", \"number\", \"number\", \"number\", \"nurs\", \"obama\", \"octob\", \"onlin\", \"open\", \"open\", \"open\", \"open\", \"open\", \"open\", \"open\", \"open\", \"open\", \"open\", \"origin\", \"outback\", \"outback\", \"pacif\", \"pacif\", \"pacif\", \"pacif\", \"palmer\", \"parent\", \"pari\", \"parti\", \"parti\", \"parti\", \"parti\", \"parti\", \"parti\", \"pass\", \"patient\", \"paul\", \"pay\", \"peopl\", \"peopl\", \"peopl\", \"peopl\", \"peopl\", \"perform\", \"person\", \"peter\", \"philippin\", \"photo\", \"plan\", \"plan\", \"plan\", \"plan\", \"plan\", \"plan\", \"plan\", \"plan\", \"plan\", \"plan\", \"plane\", \"plead\", \"podcast\", \"polic\", \"polic\", \"polic\", \"polic\", \"polic\", \"polic\", \"polic\", \"polic\", \"polic\", \"polic\", \"polit\", \"polit\", \"polit\", \"polit\", \"poll\", \"power\", \"power\", \"power\", \"power\", \"power\", \"power\", \"power\", \"power\", \"presid\", \"presid\", \"presid\", \"presid\", \"presid\", \"price\", \"price\", \"price\", \"profit\", \"program\", \"program\", \"program\", \"program\", \"program\", \"program\", \"program\", \"properti\", \"public\", \"public\", \"public\", \"public\", \"queensland\", \"queensland\", \"queensland\", \"queensland\", \"quiz\", \"rape\", \"rat\", \"rate\", \"reform\", \"refuge\", \"refuge\", \"refuge\", \"refuge\", \"refuge\", \"refus\", \"region\", \"region\", \"region\", \"rememb\", \"remot\", \"renew\", \"reserv\", \"resign\", \"respond\", \"respons\", \"respons\", \"result\", \"result\", \"richard\", \"right\", \"rise\", \"rise\", \"rise\", \"rise\", \"rise\", \"rise\", \"rise\", \"robert\", \"royal\", \"rugbi\", \"run\", \"rural\", \"rural\", \"rural\", \"russia\", \"safe\", \"sale\", \"sale\", \"sale\", \"say\", \"say\", \"say\", \"say\", \"say\", \"say\", \"say\", \"say\", \"say\", \"say\", \"scienc\", \"scott\", \"search\", \"search\", \"seat\", \"secret\", \"secret\", \"seeker\", \"sell\", \"sell\", \"sell\", \"septemb\", \"seri\", \"sexual\", \"share\", \"shark\", \"shark\", \"shoot\", \"shorten\", \"socceroo\", \"social\", \"solar\", \"soldier\", \"south\", \"south\", \"south\", \"south\", \"south\", \"south\", \"south\", \"south\", \"southern\", \"space\", \"speak\", \"speak\", \"spend\", \"spend\", \"sport\", \"spot\", \"spring\", \"stab\", \"star\", \"star\", \"star\", \"star\", \"star\", \"state\", \"state\", \"state\", \"state\", \"state\", \"state\", \"state\", \"state\", \"stephen\", \"steve\", \"stock\", \"stori\", \"stream\", \"street\", \"success\", \"sunday\", \"sunshin\", \"surf\", \"surviv\", \"survivor\", \"sydney\", \"sydney\", \"sydney\", \"sydney\", \"sydney\", \"sydney\", \"sydney\", \"sydney\", \"sydney\", \"syria\", \"syrian\", \"tasmania\", \"teen\", \"teenag\", \"territori\", \"terror\", \"test\", \"test\", \"test\", \"test\", \"test\", \"test\", \"test\", \"test\", \"test\", \"test\", \"think\", \"thursday\", \"toni\", \"track\", \"traffic\", \"travel\", \"treatment\", \"tree\", \"tri\", \"truck\", \"trump\", \"tuesday\", \"turkey\", \"turnbul\", \"univers\", \"unveil\", \"updat\", \"valley\", \"veteran\", \"victorian\", \"victorian\", \"victorian\", \"victorian\", \"victorian\", \"video\", \"video\", \"violenc\", \"volunt\", \"wait\", \"walk\", \"wallabi\", \"wast\", \"watch\", \"weather\", \"wednesday\", \"western\", \"western\", \"western\", \"whale\", \"white\", \"wild\", \"william\", \"wind\", \"winner\", \"woman\", \"world\", \"world\", \"world\", \"world\", \"world\", \"world\", \"world\", \"world\", \"world\", \"worri\", \"wrap\", \"york\", \"young\", \"young\", \"young\", \"zealand\"]}, \"R\": 30, \"lambda.step\": 0.01, \"plot.opts\": {\"xlab\": \"PC1\", \"ylab\": \"PC2\"}, \"topic.order\": [4, 9, 6, 10, 8, 2, 5, 3, 7, 1]};\n",
       "\n",
       "function LDAvis_load_lib(url, callback){\n",
       "  var s = document.createElement('script');\n",
       "  s.src = url;\n",
       "  s.async = true;\n",
       "  s.onreadystatechange = s.onload = callback;\n",
       "  s.onerror = function(){console.warn(\"failed to load library \" + url);};\n",
       "  document.getElementsByTagName(\"head\")[0].appendChild(s);\n",
       "}\n",
       "\n",
       "if(typeof(LDAvis) !== \"undefined\"){\n",
       "   // already loaded: just create the visualization\n",
       "   !function(LDAvis){\n",
       "       new LDAvis(\"#\" + \"ldavis_el79055948560888805571817\", ldavis_el79055948560888805571817_data);\n",
       "   }(LDAvis);\n",
       "}else if(typeof define === \"function\" && define.amd){\n",
       "   // require.js is available: use it to load d3/LDAvis\n",
       "   require.config({paths: {d3: \"https://cdnjs.cloudflare.com/ajax/libs/d3/3.5.5/d3.min\"}});\n",
       "   require([\"d3\"], function(d3){\n",
       "      window.d3 = d3;\n",
       "      LDAvis_load_lib(\"https://cdn.rawgit.com/bmabey/pyLDAvis/files/ldavis.v1.0.0.js\", function(){\n",
       "        new LDAvis(\"#\" + \"ldavis_el79055948560888805571817\", ldavis_el79055948560888805571817_data);\n",
       "      });\n",
       "    });\n",
       "}else{\n",
       "    // require.js not available: dynamically load d3 & LDAvis\n",
       "    LDAvis_load_lib(\"https://cdnjs.cloudflare.com/ajax/libs/d3/3.5.5/d3.min.js\", function(){\n",
       "         LDAvis_load_lib(\"https://cdn.rawgit.com/bmabey/pyLDAvis/files/ldavis.v1.0.0.js\", function(){\n",
       "                 new LDAvis(\"#\" + \"ldavis_el79055948560888805571817\", ldavis_el79055948560888805571817_data);\n",
       "            })\n",
       "         });\n",
       "}\n",
       "</script>"
      ],
      "text/plain": [
       "PreparedData(topic_coordinates=              x         y  topics  cluster       Freq\n",
       "topic                                                \n",
       "3     -0.155265 -0.096645       1        1  12.662148\n",
       "8      0.336377 -0.137318       2        1  11.495033\n",
       "5      0.033806  0.237282       3        1  10.092025\n",
       "9     -0.077737  0.203936       4        1  10.055312\n",
       "7     -0.150118 -0.093380       5        1   9.730824\n",
       "1     -0.071998 -0.090802       6        1   9.424886\n",
       "4      0.097385  0.160615       7        1   9.353309\n",
       "2      0.055370 -0.092804       8        1   9.184210\n",
       "6     -0.122798 -0.072872       9        1   9.133300\n",
       "0      0.054978 -0.018012      10        1   8.868954, topic_info=      Category         Freq        Term        Total  loglift  logprob\n",
       "term                                                                  \n",
       "6596   Default  6886.000000       trump  6886.000000  30.0000  30.0000\n",
       "418    Default  4496.000000     countri  4496.000000  29.0000  29.0000\n",
       "1406   Default  3946.000000        hour  3946.000000  28.0000  28.0000\n",
       "363    Default  3747.000000        live  3747.000000  27.0000  27.0000\n",
       "1530   Default  3567.000000      donald  3567.000000  26.0000  26.0000\n",
       "2253   Default  3505.000000    tasmania  3505.000000  25.0000  25.0000\n",
       "320    Default  5239.000000       charg  5239.000000  24.0000  24.0000\n",
       "1248   Default  4205.000000       rural  4205.000000  23.0000  23.0000\n",
       "1078   Default  3706.000000       woman  3706.000000  22.0000  22.0000\n",
       "193    Default  3531.000000       crash  3531.000000  21.0000  21.0000\n",
       "301    Default  4082.000000      murder  4082.000000  20.0000  20.0000\n",
       "1098   Default  4032.000000      market  4032.000000  19.0000  19.0000\n",
       "5658   Default  2908.000000     turnbul  2908.000000  18.0000  18.0000\n",
       "1675   Default  3051.000000       shoot  3051.000000  17.0000  17.0000\n",
       "2833   Default  2828.000000        drum  2828.000000  16.0000  16.0000\n",
       "1252   Default  2756.000000        news  2756.000000  15.0000  15.0000\n",
       "1992   Default  5194.000000  queensland  5194.000000  14.0000  14.0000\n",
       "1152   Default  2892.000000       share  2892.000000  13.0000  13.0000\n",
       "2123   Default  2466.000000       royal  2466.000000  12.0000  12.0000\n",
       "1884   Default  2386.000000        abus  2386.000000  11.0000  11.0000\n",
       "1300   Default  3390.000000   interview  3390.000000  10.0000  10.0000\n",
       "1229   Default  2259.000000     marriag  2259.000000   9.0000   9.0000\n",
       "2782   Default  2222.000000      street  2222.000000   8.0000   8.0000\n",
       "306    Default  3375.000000       alleg  3375.000000   7.0000   7.0000\n",
       "202    Default  2179.000000     violenc  2179.000000   6.0000   6.0000\n",
       "236    Default  7248.000000       polic  7248.000000   5.0000   5.0000\n",
       "1921   Default  2103.000000      hobart  2103.000000   4.0000   4.0000\n",
       "172    Default  3411.000000         die  3411.000000   3.0000   3.0000\n",
       "694    Default  2027.000000    christma  2027.000000   2.0000   2.0000\n",
       "11892  Default  1977.000000     podcast  1977.000000   1.0000   1.0000\n",
       "...        ...          ...         ...          ...      ...      ...\n",
       "469    Topic10  1398.682739      intern  1399.578979   2.4220  -4.9589\n",
       "3228   Topic10  1232.504517       insid  1233.400757   2.4219  -5.0853\n",
       "2183   Topic10  1213.979492        fire  1214.875977   2.4219  -5.1005\n",
       "584    Topic10  1094.836792        tree  1095.733032   2.4218  -5.2038\n",
       "1341   Topic10  1060.910767       giant  1061.807007   2.4218  -5.2353\n",
       "578    Topic10  1055.052979      rememb  1055.949219   2.4218  -5.2408\n",
       "1600   Topic10  1009.192017      valley  1010.088257   2.4217  -5.2852\n",
       "2191   Topic10  1006.030090       onlin  1006.926331   2.4217  -5.2884\n",
       "611    Topic10   933.554626     william   934.450867   2.4217  -5.3631\n",
       "1920   Topic10   910.761475      histor   911.657715   2.4216  -5.3879\n",
       "2066   Topic10   908.827026        walk   909.723267   2.4216  -5.3900\n",
       "391    Topic10   899.077576         run   899.975220   2.4216  -5.4008\n",
       "1082   Topic10   880.696838     destroy   881.593079   2.4216  -5.4214\n",
       "1396   Topic10   877.093201       updat   877.989380   2.4216  -5.4255\n",
       "335    Topic10   871.381348        seat   872.277588   2.4216  -5.4321\n",
       "191    Topic10   869.748962   firefight   870.645142   2.4216  -5.4339\n",
       "7674   Topic10   863.665283      daniel   864.561523   2.4216  -5.4410\n",
       "2009   Topic10   841.738281      scienc   842.634521   2.4215  -5.4667\n",
       "1298   Topic10   833.295349      explos   834.191589   2.4215  -5.4768\n",
       "982    Topic10   827.246826        camp   828.143066   2.4215  -5.4840\n",
       "1156   Topic10   824.949524       block   825.845825   2.4215  -5.4868\n",
       "5677   Topic10   812.671753     migrant   813.567993   2.4215  -5.5018\n",
       "3811   Topic10   786.700745        adam   787.596985   2.4215  -5.5343\n",
       "1046   Topic10   784.415527         car   785.311768   2.4215  -5.5372\n",
       "182    Topic10   779.388000         tri   780.284241   2.4215  -5.5436\n",
       "2010   Topic10   764.573669       event   765.469910   2.4214  -5.5628\n",
       "3270   Topic10   839.482666     collaps   840.710571   2.4212  -5.4694\n",
       "330    Topic10  1089.081787       light  1420.053467   2.1573  -5.2091\n",
       "777    Topic10   910.054504      flight  1109.343994   2.2246  -5.3886\n",
       "1330   Topic10   876.800598        sell  1248.053589   2.0696  -5.4259\n",
       "\n",
       "[465 rows x 6 columns], token_table=       Topic      Freq        Term\n",
       "term                              \n",
       "2498       4  0.999434      abbott\n",
       "322        1  0.004212    aborigin\n",
       "322        6  0.823446    aborigin\n",
       "322        8  0.001579    aborigin\n",
       "322        9  0.170586    aborigin\n",
       "1884       8  0.999419        abus\n",
       "889        2  0.999262       accid\n",
       "211        1  0.040768       accus\n",
       "211        2  0.620813       accus\n",
       "211        4  0.053642       accus\n",
       "211        5  0.007152       accus\n",
       "211        6  0.072953       accus\n",
       "211        7  0.021814       accus\n",
       "211        8  0.115866       accus\n",
       "211        9  0.033615       accus\n",
       "211       10  0.033973       accus\n",
       "513        1  0.134724      action\n",
       "513        6  0.864905      action\n",
       "3811      10  0.999242        adam\n",
       "13953      7  0.999230       adani\n",
       "966        1  0.102350     adelaid\n",
       "966        2  0.200686     adelaid\n",
       "966        3  0.247066     adelaid\n",
       "966        4  0.068902     adelaid\n",
       "966        5  0.089863     adelaid\n",
       "966        7  0.070017     adelaid\n",
       "966        8  0.063773     adelaid\n",
       "966       10  0.157650     adelaid\n",
       "1390       6  0.999218         age\n",
       "822        1  0.998510  agricultur\n",
       "...      ...       ...         ...\n",
       "32         3  0.999416        wast\n",
       "1879       1  0.999281       watch\n",
       "650        5  0.999399     weather\n",
       "2184       2  0.999519   wednesday\n",
       "340        1  0.312309     western\n",
       "340        4  0.581401     western\n",
       "340        7  0.106024     western\n",
       "2338       6  0.998812       whale\n",
       "284        6  0.999346       white\n",
       "2058       5  0.998818        wild\n",
       "611       10  0.999518     william\n",
       "667        5  0.998873        wind\n",
       "2419       4  0.999062      winner\n",
       "1078       2  0.999852       woman\n",
       "422        1  0.062365       world\n",
       "422        3  0.370749       world\n",
       "422        4  0.213003       world\n",
       "422        5  0.026138       world\n",
       "422        6  0.065575       world\n",
       "422        7  0.062135       world\n",
       "422        8  0.049066       world\n",
       "422        9  0.078873       world\n",
       "422       10  0.071995       world\n",
       "2185       1  0.998469       worri\n",
       "4768       4  0.999154        wrap\n",
       "1898       1  0.999253        york\n",
       "356        3  0.708989       young\n",
       "356        6  0.111150       young\n",
       "356       10  0.179675       young\n",
       "383        4  0.998860     zealand\n",
       "\n",
       "[885 rows x 3 columns], R=30, lambda_step=0.01, plot_opts={'xlab': 'PC1', 'ylab': 'PC2'}, topic_order=[4, 9, 6, 10, 8, 2, 5, 3, 7, 1])"
      ]
     },
     "execution_count": 29,
     "metadata": {},
     "output_type": "execute_result"
    }
   ],
   "source": [
    "# Visualize the topics\n",
    "pyLDAvis.enable_notebook()\n",
    "vis = pyLDAvis.gensim.prepare(lda_model_tf_idf, corpus_tfidf, dictionary)\n",
    "vis"
   ]
  },
  {
   "cell_type": "markdown",
   "metadata": {},
   "source": [
    "### Building LDA Mallet Model\n",
    "\n",
    "Gensim provides a wrapper to implement Mallet’s LDA from within Gensim itself. You only need to download the zipfile, unzip it and provide the path to mallet in the unzipped directory to gensim.models.wrappers.LdaMallet. See how I have done this below."
   ]
  },
  {
   "cell_type": "code",
   "execution_count": 30,
   "metadata": {},
   "outputs": [],
   "source": [
    "mallet_path = 'mallet-2.0.8/bin/mallet' # update this path\n",
    "ldamallet_tf_idf = gensim.models.wrappers.LdaMallet(mallet_path, corpus=corpus_tfidf, num_topics=10, id2word=dictionary)"
   ]
  },
  {
   "cell_type": "code",
   "execution_count": 31,
   "metadata": {},
   "outputs": [
    {
     "name": "stdout",
     "output_type": "stream",
     "text": [
      "Topic: 0 \n",
      "Words: [('rural', 0.15715202052597818), ('open', 0.036561898652982684), ('charg', 0.025016035920461834), ('chang', 0.02052597819114817), ('arrest', 0.01796023091725465), ('wrap', 0.01731879409878127), ('school', 0.01731879409878127), ('polic', 0.014753046824887749), ('trial', 0.012828736369467608), ('fund', 0.011545862732520847)]\n",
      "Topic: 1 \n",
      "Words: [('interview', 0.225923682616596), ('busi', 0.10175651120533011), ('corner', 0.025439127801332527), ('report', 0.021804966686856452), ('job', 0.019987886129618413), ('year', 0.015748031496062992), ('death', 0.015142337976983646), ('road', 0.012719563900666263), ('dairi', 0.012113870381586917), ('fight', 0.01150817686250757)]\n",
      "Topic: 2 \n",
      "Words: [('closer', 0.21552795031055902), ('die', 0.031055900621118012), ('budget', 0.02360248447204969), ('futur', 0.018012422360248446), ('power', 0.015527950310559006), ('station', 0.013664596273291925), ('plan', 0.013664596273291925), ('green', 0.010559006211180125), ('sydney', 0.009937888198757764), ('stori', 0.009316770186335404)]\n",
      "Topic: 3 \n",
      "Words: [('sport', 0.18383233532934132), ('meet', 0.025748502994011976), ('water', 0.023952095808383235), ('reax', 0.023353293413173652), ('shoot', 0.017365269461077845), ('fire', 0.011976047904191617), ('critic', 0.010179640718562874), ('close', 0.010179640718562874), ('mayor', 0.009580838323353293), ('fall', 0.008982035928143712)]\n",
      "Topic: 4 \n",
      "Words: [('entertain', 0.19752321981424148), ('rain', 0.026625386996904025), ('cut', 0.017956656346749224), ('farmer', 0.015479876160990712), ('flood', 0.014860681114551083), ('debat', 0.014241486068111455), ('attack', 0.013003095975232198), ('assault', 0.011145510835913313), ('drum', 0.011145510835913313), ('melbourn', 0.010526315789473684)]\n",
      "Topic: 5 \n",
      "Words: [('weather', 0.1922837585563161), ('countrywid', 0.06222775357809583), ('miss', 0.031736154324828875), ('review', 0.019912881144990666), ('hospit', 0.018668326073428748), ('crash', 0.01804604853764779), ('updat', 0.016801493466085875), ('world', 0.016179215930304917), ('bodi', 0.012445550715619166), ('win', 0.01120099564405725)]\n",
      "Topic: 6 \n",
      "Words: [('closer', 0.24106041923551172), ('test', 0.01972872996300863), ('harvest', 0.014796547472256474), ('court', 0.014796547472256474), ('elect', 0.013563501849568433), ('halv', 0.012946979038224414), ('investig', 0.011713933415536375), ('drought', 0.011097410604192354), ('rat', 0.011097410604192354), ('preview', 0.011097410604192354)]\n",
      "Topic: 7 \n",
      "Words: [('closer', 0.22050978067575577), ('news', 0.05216360403082395), ('bell', 0.01896858328393598), ('australia', 0.01778304682868998), ('fatal', 0.017190278601066984), ('crop', 0.013040901007705987), ('media', 0.011262596324836989), ('control', 0.01066982809721399), ('tour', 0.00948429164196799), ('talk', 0.00948429164196799)]\n",
      "Topic: 8 \n",
      "Words: [('sport', 0.27093301435406697), ('grandstand', 0.04066985645933014), ('china', 0.019736842105263157), ('warn', 0.016148325358851676), ('rise', 0.014354066985645933), ('gold', 0.012559808612440191), ('farm', 0.012559808612440191), ('forestri', 0.010167464114832535), ('stab', 0.008373205741626795), ('fish', 0.00777511961722488)]\n",
      "Topic: 9 \n",
      "Words: [('weather', 0.2920075519194462), ('sale', 0.02957835116425425), ('interview', 0.022655758338577723), ('season', 0.016362492133417242), ('market', 0.01195720578980491), ('kill', 0.009439899307740718), ('minist', 0.00881057268722467), ('jail', 0.00881057268722467), ('anzac', 0.00881057268722467), ('dead', 0.008181246066708621)]\n",
      "\n"
     ]
    }
   ],
   "source": [
    "# For each topic, we will explore the words occuring in that topic and its relative weight.\n",
    "for idx, topic in ldamallet_tf_idf.show_topics(formatted=False):\n",
    "    print('Topic: {} \\nWords: {}'.format(idx, topic))\n",
    "print()"
   ]
  },
  {
   "cell_type": "code",
   "execution_count": 32,
   "metadata": {},
   "outputs": [
    {
     "name": "stdout",
     "output_type": "stream",
     "text": [
      "\n",
      "Coherence Score:  0.4783961208278867\n"
     ]
    }
   ],
   "source": [
    "# Compute Perplexity\n",
    "#print('\\nPerplexity: ', lda_model_tf_idf.log_perplexity(corpus_tfidf))  # a measure of how good the model is. lower the better.\n",
    "\n",
    "# Compute Coherence Score\n",
    "coherence_model_lda = CoherenceModel(model=ldamallet_tf_idf, texts=processed_docs, dictionary=dictionary, coherence='c_v')\n",
    "coherence_lda = coherence_model_lda.get_coherence()\n",
    "print('\\nCoherence Score: ', coherence_lda)"
   ]
  },
  {
   "cell_type": "code",
   "execution_count": 33,
   "metadata": {},
   "outputs": [],
   "source": [
    "# Visualize the topics\n",
    "# pyLDAvis.enable_notebook()\n",
    "# vis = pyLDAvis.gensim.prepare(ldamallet_tf_idf, corpus_tfidf, dictionary)\n",
    "# vis"
   ]
  },
  {
   "cell_type": "code",
   "execution_count": null,
   "metadata": {},
   "outputs": [],
   "source": []
  },
  {
   "cell_type": "markdown",
   "metadata": {},
   "source": [
    "### How to find the optimal number of topics for LDA?\n",
    "\n",
    "Finding the optimal number of topics is to build many LDA models with different values of number of topics (k) and pick the one that gives the highest coherence value.\n",
    "\n",
    "Choosing a ‘k’ that marks the end of a rapid growth of topic coherence usually offers meaningful and interpretable topics. Picking an even higher value can sometimes provide more granular sub-topics.\n",
    "\n",
    "If you see the same keywords being repeated in multiple topics, it’s probably a sign that the ‘k’ is too large.\n",
    "\n",
    "The compute_coherence_values() (see below) trains multiple LDA models and provides the models and their corresponding coherence scores."
   ]
  },
  {
   "cell_type": "code",
   "execution_count": 36,
   "metadata": {},
   "outputs": [],
   "source": [
    "def compute_coherence_values(dictionary, corpus, texts, limit, start=2, step=3):\n",
    "    \"\"\"\n",
    "    Compute c_v coherence for various number of topics\n",
    "\n",
    "    Parameters:\n",
    "    ----------\n",
    "    dictionary : Gensim dictionary\n",
    "    corpus : Gensim corpus\n",
    "    texts : List of input texts\n",
    "    limit : Max num of topics\n",
    "\n",
    "    Returns:\n",
    "    -------\n",
    "    model_list : List of LDA topic models\n",
    "    coherence_values : Coherence values corresponding to the LDA model with respective number of topics\n",
    "    \"\"\"\n",
    "    coherence_values = []\n",
    "    model_list = []\n",
    "    for num_topics in range(start, limit, step):\n",
    "        model = gensim.models.wrappers.LdaMallet(mallet_path, corpus=corpus, num_topics=num_topics, id2word=dictionary)\n",
    "        model_list.append(model)\n",
    "        coherencemodel = CoherenceModel(model=model, texts=texts, dictionary=dictionary, coherence='c_v')\n",
    "        coherence_values.append(coherencemodel.get_coherence())\n",
    "\n",
    "    return model_list, coherence_values"
   ]
  },
  {
   "cell_type": "code",
   "execution_count": 37,
   "metadata": {},
   "outputs": [],
   "source": [
    "model_list, coherence_values = compute_coherence_values(dictionary=dictionary, corpus=bow_corpus, texts=processed_docs, start=2, limit=40, step=6)"
   ]
  },
  {
   "cell_type": "code",
   "execution_count": 38,
   "metadata": {},
   "outputs": [
    {
     "data": {
      "image/png": "[encoded data removed]",
      "text/plain": [
       "<Figure size 432x288 with 1 Axes>"
      ]
     },
     "metadata": {
      "needs_background": "light"
     },
     "output_type": "display_data"
    }
   ],
   "source": [
    "# Show graph\n",
    "limit=40; start=2; step=6;\n",
    "x = range(start, limit, step)\n",
    "plt.plot(x, coherence_values)\n",
    "plt.xlabel(\"Num Topics\")\n",
    "plt.ylabel(\"Coherence score\")\n",
    "plt.legend((\"coherence_values\"), loc='best')\n",
    "plt.show()"
   ]
  },
  {
   "cell_type": "code",
   "execution_count": 39,
   "metadata": {},
   "outputs": [
    {
     "name": "stdout",
     "output_type": "stream",
     "text": [
      "Num Topics = 2  has Coherence Value of 0.3335\n",
      "Num Topics = 8  has Coherence Value of 0.2245\n",
      "Num Topics = 14  has Coherence Value of 0.3105\n",
      "Num Topics = 20  has Coherence Value of 0.3183\n",
      "Num Topics = 26  has Coherence Value of 0.3374\n",
      "Num Topics = 32  has Coherence Value of 0.3815\n",
      "Num Topics = 38  has Coherence Value of 0.3605\n"
     ]
    }
   ],
   "source": [
    "# Print the coherence scores\n",
    "for m, cv in zip(x, coherence_values):\n",
    "    print(\"Num Topics =\", m, \" has Coherence Value of\", round(cv, 4))"
   ]
  },
  {
   "cell_type": "markdown",
   "metadata": {},
   "source": [
    "If the coherence score seems to keep increasing, it may make better sense to pick the model that gave the highest CV before flattening out. This is exactly the case here.\n",
    "\n",
    "So for further steps I will choose the model with 14 topics itself."
   ]
  },
  {
   "cell_type": "code",
   "execution_count": 44,
   "metadata": {},
   "outputs": [
    {
     "name": "stdout",
     "output_type": "stream",
     "text": [
      "[(0, '0.105*\"polic\" + 0.038*\"crash\" + 0.029*\"miss\" + 0.023*\"road\" + 0.022*\"die\" + 0.022*\"continu\" + 0.022*\"investig\" + 0.021*\"dead\" + 0.020*\"shoot\" + 0.019*\"driver\"'), (1, '0.065*\"plan\" + 0.054*\"council\" + 0.024*\"fear\" + 0.023*\"seek\" + 0.022*\"concern\" + 0.019*\"centr\" + 0.018*\"public\" + 0.016*\"communiti\" + 0.016*\"park\" + 0.015*\"mayor\"'), (2, '0.028*\"market\" + 0.027*\"rise\" + 0.023*\"australian\" + 0.022*\"price\" + 0.021*\"hous\" + 0.021*\"busi\" + 0.020*\"record\" + 0.019*\"high\" + 0.018*\"year\" + 0.017*\"close\"'), (3, '0.031*\"open\" + 0.022*\"sydney\" + 0.013*\"australian\" + 0.012*\"protest\" + 0.012*\"brisban\" + 0.012*\"rescu\" + 0.012*\"island\" + 0.012*\"river\" + 0.011*\"darwin\" + 0.010*\"violenc\"'), (4, '0.043*\"kill\" + 0.035*\"attack\" + 0.028*\"claim\" + 0.026*\"elect\" + 0.021*\"labor\" + 0.017*\"iraq\" + 0.017*\"state\" + 0.015*\"fight\" + 0.014*\"bomb\" + 0.013*\"vote\"'), (5, '0.027*\"nation\" + 0.024*\"win\" + 0.022*\"rural\" + 0.018*\"break\" + 0.018*\"countri\" + 0.017*\"adelaid\" + 0.016*\"time\" + 0.016*\"hour\" + 0.015*\"news\" + 0.013*\"race\"'), (6, '0.024*\"talk\" + 0.024*\"minist\" + 0.021*\"china\" + 0.021*\"deal\" + 0.019*\"meet\" + 0.017*\"hold\" + 0.016*\"strike\" + 0.014*\"chief\" + 0.013*\"trade\" + 0.011*\"free\"'), (7, '0.041*\"report\" + 0.030*\"health\" + 0.029*\"hospit\" + 0.027*\"school\" + 0.024*\"servic\" + 0.020*\"child\" + 0.018*\"famili\" + 0.015*\"inquiri\" + 0.015*\"releas\" + 0.014*\"student\"'), (8, '0.032*\"chang\" + 0.024*\"group\" + 0.023*\"farmer\" + 0.021*\"green\" + 0.021*\"worker\" + 0.020*\"industri\" + 0.019*\"support\" + 0.017*\"urg\" + 0.017*\"union\" + 0.016*\"offer\"'), (9, '0.038*\"warn\" + 0.028*\"home\" + 0.024*\"flood\" + 0.022*\"north\" + 0.017*\"west\" + 0.016*\"queensland\" + 0.014*\"storm\" + 0.014*\"rain\" + 0.013*\"bushfir\" + 0.012*\"threat\"'), (10, '0.035*\"australia\" + 0.024*\"test\" + 0.023*\"south\" + 0.022*\"final\" + 0.020*\"lead\" + 0.017*\"world\" + 0.015*\"aussi\" + 0.013*\"return\" + 0.013*\"lose\" + 0.013*\"play\"'), (11, '0.055*\"charg\" + 0.047*\"court\" + 0.038*\"death\" + 0.038*\"face\" + 0.032*\"murder\" + 0.029*\"jail\" + 0.027*\"accus\" + 0.025*\"drug\" + 0.021*\"arrest\" + 0.020*\"trial\"'), (12, '0.047*\"interview\" + 0.017*\"work\" + 0.014*\"year\" + 0.011*\"speak\" + 0.011*\"make\" + 0.011*\"award\" + 0.011*\"give\" + 0.010*\"life\" + 0.010*\"media\" + 0.009*\"celebr\"'), (13, '0.041*\"govt\" + 0.039*\"fund\" + 0.025*\"boost\" + 0.025*\"coast\" + 0.024*\"water\" + 0.023*\"govern\" + 0.022*\"power\" + 0.020*\"urg\" + 0.018*\"gold\" + 0.017*\"budget\"')]\n"
     ]
    }
   ],
   "source": [
    "# Select the model and print the topics\n",
    "optimal_model = model_list[2]\n",
    "model_topics = optimal_model.show_topics(formatted=False)\n",
    "print(optimal_model.print_topics(num_words=10))"
   ]
  },
  {
   "cell_type": "markdown",
   "metadata": {},
   "source": [
    "### Finding the dominant topic in each sentence\n",
    "\n",
    "One of the practical application of topic modeling is to determine what topic a given document is about.\n",
    "\n",
    "To find that, we find the topic number that has the highest percentage contribution in that document.\n",
    "\n",
    "The format_topics_sentences() function below nicely aggregates this information in a presentable table."
   ]
  },
  {
   "cell_type": "code",
   "execution_count": 45,
   "metadata": {},
   "outputs": [],
   "source": [
    "# de-tokenization\n",
    "detokenized_doc = []\n",
    "for text in processed_docs:\n",
    "    t = ' '.join(text)\n",
    "    detokenized_doc.append(t)"
   ]
  },
  {
   "cell_type": "code",
   "execution_count": null,
   "metadata": {},
   "outputs": [],
   "source": [
    "def format_topics_sentences(ldamodel=lda_model, corpus=bow_corpus, texts=detokenized_doc):\n",
    "    # Init output\n",
    "    sent_topics_df = pd.DataFrame()\n",
    "\n",
    "    # Get main topic in each document\n",
    "    for i, row in enumerate(ldamodel[corpus]):\n",
    "        row = sorted(row, key=lambda x: (x[1]), reverse=True)\n",
    "        # Get the Dominant topic, Perc Contribution and Keywords for each document\n",
    "        for j, (topic_num, prop_topic) in enumerate(row):\n",
    "            if j == 0:  # => dominant topic\n",
    "                wp = ldamodel.show_topic(topic_num)\n",
    "                topic_keywords = \", \".join([word for word, prop in wp])\n",
    "                sent_topics_df = sent_topics_df.append(pd.Series([int(topic_num), round(prop_topic,4), topic_keywords]), ignore_index=True)\n",
    "            else:\n",
    "                break\n",
    "    sent_topics_df.columns = ['Dominant_Topic', 'Perc_Contribution', 'Topic_Keywords']\n",
    "\n",
    "    # Add original text to the end of the output\n",
    "    contents = pd.Series(texts)\n",
    "    sent_topics_df = pd.concat([sent_topics_df, contents], axis=1)\n",
    "    return(sent_topics_df)\n",
    "\n",
    "\n",
    "df_topic_sents_keywords = format_topics_sentences(ldamodel=optimal_model, corpus=bow_corpus, texts=detokenized_doc)\n",
    "\n",
    "# Format\n",
    "df_dominant_topic = df_topic_sents_keywords.reset_index()\n",
    "df_dominant_topic.columns = ['Document_No', 'Dominant_Topic', 'Topic_Perc_Contrib', 'Keywords', 'Text']\n",
    "\n",
    "# Show\n",
    "df_dominant_topic.head(10)"
   ]
  },
  {
   "cell_type": "markdown",
   "metadata": {},
   "source": [
    "### Find the most representative document for each topic\n",
    "\n",
    "Sometimes just the topic keywords may not be enough to make sense of what a topic is about. So, to help with understanding the topic, you can find the documents a given topic has contributed to the most and infer the topic by reading that document. Whew!!"
   ]
  },
  {
   "cell_type": "code",
   "execution_count": null,
   "metadata": {},
   "outputs": [],
   "source": [
    "# Group top 5 sentences under each topic\n",
    "sent_topics_sorteddf_mallet = pd.DataFrame()\n",
    "\n",
    "sent_topics_outdf_grpd = df_topic_sents_keywords.groupby('Dominant_Topic')\n",
    "\n",
    "for i, grp in sent_topics_outdf_grpd:\n",
    "    sent_topics_sorteddf_mallet = pd.concat([sent_topics_sorteddf_mallet, \n",
    "                                             grp.sort_values(['Perc_Contribution'], ascending=[0]).head(1)], \n",
    "                                            axis=0)\n",
    "\n",
    "# Reset Index    \n",
    "sent_topics_sorteddf_mallet.reset_index(drop=True, inplace=True)\n",
    "\n",
    "# Format\n",
    "sent_topics_sorteddf_mallet.columns = ['Topic_Num', \"Topic_Perc_Contrib\", \"Keywords\", \"Text\"]\n",
    "\n",
    "# Show\n",
    "sent_topics_sorteddf_mallet.head()"
   ]
  },
  {
   "cell_type": "markdown",
   "metadata": {},
   "source": [
    "### Topic distribution across documents\n",
    "\n",
    "Finally, we want to understand the volume and distribution of topics in order to judge how widely it was discussed. The below table exposes that information."
   ]
  },
  {
   "cell_type": "code",
   "execution_count": null,
   "metadata": {},
   "outputs": [],
   "source": [
    "# Number of Documents for Each Topic\n",
    "topic_counts = df_topic_sents_keywords['Dominant_Topic'].value_counts()\n",
    "\n",
    "# Percentage of Documents for Each Topic\n",
    "topic_contribution = round(topic_counts/topic_counts.sum(), 4)\n",
    "\n",
    "# Topic Number and Keywords\n",
    "topic_num_keywords = df_topic_sents_keywords[['Dominant_Topic', 'Topic_Keywords']]\n",
    "\n",
    "# Concatenate Column wise\n",
    "df_dominant_topics = pd.concat([topic_num_keywords, topic_counts, topic_contribution], axis=1)\n",
    "\n",
    "# Change Column names\n",
    "df_dominant_topics.columns = ['Dominant_Topic', 'Topic_Keywords', 'Num_Documents', 'Perc_Documents']\n",
    "\n",
    "# Show\n",
    "df_dominant_topics"
   ]
  },
  {
   "cell_type": "code",
   "execution_count": null,
   "metadata": {},
   "outputs": [],
   "source": []
  },
  {
   "cell_type": "code",
   "execution_count": null,
   "metadata": {},
   "outputs": [],
   "source": []
  },
  {
   "cell_type": "markdown",
   "metadata": {},
   "source": [
    "## 2. Latent Semantic Analysis (LSA)\n",
    "\n",
    "Latent Semantic Analysis (LSA) comes into play as it attempts to leverage the context around the words to capture the hidden concepts, also known as topics.\n",
    "\n",
    "So, simply mapping words to documents won’t really help. What we really need is to figure out the hidden concepts or topics behind the words. LSA is one such technique that can find these hidden topics. Let’s now deep dive into the inner workings of LSA."
   ]
  },
  {
   "cell_type": "markdown",
   "metadata": {},
   "source": [
    "### Document-Term Matrix\n",
    "This is the first step towards topic modeling. We will use sklearn’s TfidfVectorizer to create a document-term matrix with 1,000 terms."
   ]
  },
  {
   "cell_type": "code",
   "execution_count": 15,
   "metadata": {},
   "outputs": [
    {
     "data": {
      "text/plain": [
       "(1103663, 1000)"
      ]
     },
     "execution_count": 15,
     "metadata": {},
     "output_type": "execute_result"
    }
   ],
   "source": [
    "from sklearn.feature_extraction.text import TfidfVectorizer\n",
    "\n",
    "vectorizer = TfidfVectorizer(stop_words='english', \n",
    "max_features= 1000, # keep top 1000 terms \n",
    "max_df = 0.5, \n",
    "smooth_idf=True)\n",
    "\n",
    "X = vectorizer.fit_transform(detokenized_doc)\n",
    "\n",
    "X.shape # check shape of the document-term matrix"
   ]
  },
  {
   "cell_type": "code",
   "execution_count": 16,
   "metadata": {},
   "outputs": [
    {
     "data": {
      "text/plain": [
       "20"
      ]
     },
     "execution_count": 16,
     "metadata": {},
     "output_type": "execute_result"
    }
   ],
   "source": [
    "from sklearn.decomposition import TruncatedSVD\n",
    "\n",
    "# SVD represent documents and terms in vectors \n",
    "svd_model = TruncatedSVD(n_components=20, algorithm='randomized', n_iter=100, random_state=122)\n",
    "\n",
    "svd_model.fit(X)\n",
    "\n",
    "len(svd_model.components_)"
   ]
  },
  {
   "cell_type": "markdown",
   "metadata": {},
   "source": [
    "The components of svd_model are our topics, and we can access them using svd_model.components_. Finally, let’s print a few most important words in each of the 20 topics and see how our model has done."
   ]
  },
  {
   "cell_type": "code",
   "execution_count": 17,
   "metadata": {},
   "outputs": [
    {
     "name": "stdout",
     "output_type": "stream",
     "text": [
      "Topic 0: \n",
      "interview\n",
      " \n",
      "extend\n",
      " \n",
      "michael\n",
      " \n",
      "john\n",
      " \n",
      "david\n",
      " \n",
      "smith\n",
      " \n",
      "jam\n",
      " \n",
      "Topic 1: \n",
      "polic\n",
      " \n",
      "charg\n",
      " \n",
      "court\n",
      " \n",
      "murder\n",
      " \n",
      "investig\n",
      " \n",
      "death\n",
      " \n",
      "crash\n",
      " \n",
      "Topic 2: \n",
      "plan\n",
      " \n",
      "say\n",
      " \n",
      "council\n",
      " \n",
      "charg\n",
      " \n",
      "govt\n",
      " \n",
      "court\n",
      " \n",
      "face\n",
      " \n",
      "Topic 3: \n",
      "charg\n",
      " \n",
      "court\n",
      " \n",
      "face\n",
      " \n",
      "murder\n",
      " \n",
      "drug\n",
      " \n",
      "assault\n",
      " \n",
      "woman\n",
      " \n",
      "Topic 4: \n",
      "say\n",
      " \n",
      "australia\n",
      " \n",
      "kill\n",
      " \n",
      "report\n",
      " \n",
      "need\n",
      " \n",
      "australian\n",
      " \n",
      "minist\n",
      " \n",
      "Topic 5: \n",
      "plan\n",
      " \n",
      "charg\n",
      " \n",
      "say\n",
      " \n",
      "polic\n",
      " \n",
      "murder\n",
      " \n",
      "assault\n",
      " \n",
      "drug\n",
      " \n",
      "Topic 6: \n",
      "kill\n",
      " \n",
      "crash\n",
      " \n",
      "plan\n",
      " \n",
      "die\n",
      " \n",
      "attack\n",
      " \n",
      "charg\n",
      " \n",
      "say\n",
      " \n",
      "Topic 7: \n",
      "court\n",
      " \n",
      "face\n",
      " \n",
      "accus\n",
      " \n",
      "plan\n",
      " \n",
      "say\n",
      " \n",
      "tell\n",
      " \n",
      "jail\n",
      " \n",
      "Topic 8: \n",
      "australia\n",
      " \n",
      "plan\n",
      " \n",
      "court\n",
      " \n",
      "face\n",
      " \n",
      "world\n",
      " \n",
      "south\n",
      " \n",
      "accus\n",
      " \n",
      "Topic 9: \n",
      "council\n",
      " \n",
      "australia\n",
      " \n",
      "kill\n",
      " \n",
      "crash\n",
      " \n",
      "say\n",
      " \n",
      "court\n",
      " \n",
      "face\n",
      " \n",
      "Topic 10: \n",
      "report\n",
      " \n",
      "council\n",
      " \n",
      "rural\n",
      " \n",
      "court\n",
      " \n",
      "plan\n",
      " \n",
      "face\n",
      " \n",
      "news\n",
      " \n",
      "Topic 11: \n",
      "open\n",
      " \n",
      "australian\n",
      " \n",
      "year\n",
      " \n",
      "win\n",
      " \n",
      "miss\n",
      " \n",
      "warn\n",
      " \n",
      "market\n",
      " \n",
      "Topic 12: \n",
      "crash\n",
      " \n",
      "die\n",
      " \n",
      "death\n",
      " \n",
      "fatal\n",
      " \n",
      "road\n",
      " \n",
      "driver\n",
      " \n",
      "hospit\n",
      " \n",
      "Topic 13: \n",
      "warn\n",
      " \n",
      "water\n",
      " \n",
      "death\n",
      " \n",
      "attack\n",
      " \n",
      "flood\n",
      " \n",
      "rise\n",
      " \n",
      "issu\n",
      " \n",
      "Topic 14: \n",
      "year\n",
      " \n",
      "jail\n",
      " \n",
      "death\n",
      " \n",
      "murder\n",
      " \n",
      "attack\n",
      " \n",
      "miss\n",
      " \n",
      "woman\n",
      " \n",
      "Topic 15: \n",
      "miss\n",
      " \n",
      "search\n",
      " \n",
      "water\n",
      " \n",
      "continu\n",
      " \n",
      "woman\n",
      " \n",
      "sydney\n",
      " \n",
      "fear\n",
      " \n",
      "Topic 16: \n",
      "water\n",
      " \n",
      "face\n",
      " \n",
      "year\n",
      " \n",
      "market\n",
      " \n",
      "rise\n",
      " \n",
      "price\n",
      " \n",
      "rural\n",
      " \n",
      "Topic 17: \n",
      "death\n",
      " \n",
      "investig\n",
      " \n",
      "miss\n",
      " \n",
      "kill\n",
      " \n",
      "rise\n",
      " \n",
      "water\n",
      " \n",
      "toll\n",
      " \n",
      "Topic 18: \n",
      "fund\n",
      " \n",
      "rural\n",
      " \n",
      "attack\n",
      " \n",
      "nation\n",
      " \n",
      "news\n",
      " \n",
      "market\n",
      " \n",
      "health\n",
      " \n",
      "Topic 19: \n",
      "attack\n",
      " \n",
      "water\n",
      " \n",
      "open\n",
      " \n",
      "sydney\n",
      " \n",
      "die\n",
      " \n",
      "win\n",
      " \n",
      "claim\n",
      " \n"
     ]
    }
   ],
   "source": [
    "terms = vectorizer.get_feature_names()\n",
    "\n",
    "for i, comp in enumerate(svd_model.components_):\n",
    "    terms_comp = zip(terms, comp)\n",
    "    sorted_terms = sorted(terms_comp, key= lambda x:x[1], reverse=True)[:7]\n",
    "    print(\"Topic \"+str(i)+\": \")\n",
    "    for t in sorted_terms:\n",
    "        print(t[0])\n",
    "        print(\" \")"
   ]
  },
  {
   "cell_type": "markdown",
   "metadata": {},
   "source": [
    "### Topics Visualization"
   ]
  },
  {
   "cell_type": "code",
   "execution_count": null,
   "metadata": {},
   "outputs": [],
   "source": [
    "import umap.umap_ as umap\n",
    "\n",
    "X_topics = svd_model.fit_transform(X)\n",
    "embedding = umap.UMAP(n_neighbors=150, min_dist=0.5, random_state=12).fit_transform(X_topics)\n",
    "\n",
    "plt.figure(figsize=(7,5))\n",
    "plt.scatter(embedding[:, 0], embedding[:, 1], \n",
    "c = dataset.target,\n",
    "s = 10, # size\n",
    "edgecolor='none'\n",
    ")\n",
    "plt.show()"
   ]
  },
  {
   "cell_type": "code",
   "execution_count": null,
   "metadata": {},
   "outputs": [],
   "source": []
  }
 ],
 "metadata": {
  "accelerator": "GPU",
  "colab": {
   "collapsed_sections": [],
   "name": "TopicModeling_LDA_LSA.ipynb",
   "provenance": []
  },
  "kernelspec": {
   "display_name": "Python 3",
   "language": "python",
   "name": "python3"
  },
  "language_info": {
   "codemirror_mode": {
    "name": "ipython",
    "version": 3
   },
   "file_extension": ".py",
   "mimetype": "text/x-python",
   "name": "python",
   "nbconvert_exporter": "python",
   "pygments_lexer": "ipython3",
   "version": "3.7.0"
  }
 },
 "nbformat": 4,
 "nbformat_minor": 1
}
